{
 "cells": [
  {
   "cell_type": "markdown",
   "metadata": {},
   "source": [
    "# Ataque Tubarão\n",
    "##### Limpeza e manuseio de dados"
   ]
  },
  {
   "cell_type": "markdown",
   "metadata": {},
   "source": [
    "![](Shark.Attack.png)"
   ]
  },
  {
   "cell_type": "markdown",
   "metadata": {},
   "source": [
    "\n",
    "![](shark.png)"
   ]
  },
  {
   "cell_type": "markdown",
   "metadata": {},
   "source": [
    "#### Importando as bibliotecas"
   ]
  },
  {
   "cell_type": "code",
   "execution_count": 2,
   "metadata": {},
   "outputs": [],
   "source": [
    "#Importando panda, regex, randon, numpy e os\n",
    "#vou deixar comentado, para nao rodar de novo, nos erros de execução\n",
    "import pandas as pd\n",
    "import numpy as np\n",
    "import re\n",
    "import random\n",
    "import os"
   ]
  },
  {
   "cell_type": "markdown",
   "metadata": {},
   "source": [
    "## Importando o arquivo e Verificando os dados"
   ]
  },
  {
   "cell_type": "code",
   "execution_count": 5,
   "metadata": {},
   "outputs": [],
   "source": [
    "#importanto o arquivo\n",
    "df = pd.read_csv('attacks.csv', encoding='latin-1')"
   ]
  },
  {
   "cell_type": "code",
   "execution_count": 6,
   "metadata": {},
   "outputs": [],
   "source": [
    "#verificando o \"preenchimento\" dos dados \n",
    "import seaborn as sms"
   ]
  },
  {
   "cell_type": "code",
   "execution_count": 7,
   "metadata": {},
   "outputs": [
    {
     "data": {
      "text/plain": [
       "<matplotlib.axes._subplots.AxesSubplot at 0x29f999fcbb0>"
      ]
     },
     "execution_count": 7,
     "metadata": {},
     "output_type": "execute_result"
    },
    {
     "data": {
      "image/png": "[encoded data removed]",
      "text/plain": [
       "<Figure size 432x288 with 2 Axes>"
      ]
     },
     "metadata": {
      "needs_background": "light"
     },
     "output_type": "display_data"
    }
   ],
   "source": [
    "#conferindo os dados nulos visualmente\n",
    "sms.heatmap(df.isna())"
   ]
  },
  {
   "cell_type": "code",
   "execution_count": 8,
   "metadata": {},
   "outputs": [
    {
     "data": {
      "text/plain": [
       "(25723, 24)"
      ]
     },
     "execution_count": 8,
     "metadata": {},
     "output_type": "execute_result"
    }
   ],
   "source": [
    "#verificando o tamanho do arquivo em linhas e colunas\n",
    "df.shape"
   ]
  },
  {
   "cell_type": "code",
   "execution_count": 9,
   "metadata": {},
   "outputs": [],
   "source": [
    "#Delimitando o Slice do nosso data Set conforme visual acimaoo de dados nulos\n",
    "df= df[:6300]"
   ]
  },
  {
   "cell_type": "code",
   "execution_count": 10,
   "metadata": {
    "collapsed": true
   },
   "outputs": [
    {
     "data": {
      "text/html": [
       "<div>\n",
       "<style scoped>\n",
       "    .dataframe tbody tr th:only-of-type {\n",
       "        vertical-align: middle;\n",
       "    }\n",
       "\n",
       "    .dataframe tbody tr th {\n",
       "        vertical-align: top;\n",
       "    }\n",
       "\n",
       "    .dataframe thead th {\n",
       "        text-align: right;\n",
       "    }\n",
       "</style>\n",
       "<table border=\"1\" class=\"dataframe\">\n",
       "  <thead>\n",
       "    <tr style=\"text-align: right;\">\n",
       "      <th></th>\n",
       "      <th>Case Number</th>\n",
       "      <th>Date</th>\n",
       "      <th>Year</th>\n",
       "      <th>Type</th>\n",
       "      <th>Country</th>\n",
       "      <th>Area</th>\n",
       "      <th>Location</th>\n",
       "      <th>Activity</th>\n",
       "      <th>Name</th>\n",
       "      <th>Sex</th>\n",
       "      <th>...</th>\n",
       "      <th>Species</th>\n",
       "      <th>Investigator or Source</th>\n",
       "      <th>pdf</th>\n",
       "      <th>href formula</th>\n",
       "      <th>href</th>\n",
       "      <th>Case Number.1</th>\n",
       "      <th>Case Number.2</th>\n",
       "      <th>original order</th>\n",
       "      <th>Unnamed: 22</th>\n",
       "      <th>Unnamed: 23</th>\n",
       "    </tr>\n",
       "  </thead>\n",
       "  <tbody>\n",
       "    <tr>\n",
       "      <th>0</th>\n",
       "      <td>2018.06.25</td>\n",
       "      <td>25-Jun-2018</td>\n",
       "      <td>2018.0</td>\n",
       "      <td>Boating</td>\n",
       "      <td>USA</td>\n",
       "      <td>California</td>\n",
       "      <td>Oceanside, San Diego County</td>\n",
       "      <td>Paddling</td>\n",
       "      <td>Julie Wolfe</td>\n",
       "      <td>F</td>\n",
       "      <td>...</td>\n",
       "      <td>White shark</td>\n",
       "      <td>R. Collier, GSAF</td>\n",
       "      <td>2018.06.25-Wolfe.pdf</td>\n",
       "      <td>http://sharkattackfile.net/spreadsheets/pdf_di...</td>\n",
       "      <td>http://sharkattackfile.net/spreadsheets/pdf_di...</td>\n",
       "      <td>2018.06.25</td>\n",
       "      <td>2018.06.25</td>\n",
       "      <td>6303.0</td>\n",
       "      <td>NaN</td>\n",
       "      <td>NaN</td>\n",
       "    </tr>\n",
       "    <tr>\n",
       "      <th>1</th>\n",
       "      <td>2018.06.18</td>\n",
       "      <td>18-Jun-2018</td>\n",
       "      <td>2018.0</td>\n",
       "      <td>Unprovoked</td>\n",
       "      <td>USA</td>\n",
       "      <td>Georgia</td>\n",
       "      <td>St. Simon Island, Glynn County</td>\n",
       "      <td>Standing</td>\n",
       "      <td>Adyson McNeely</td>\n",
       "      <td>F</td>\n",
       "      <td>...</td>\n",
       "      <td>NaN</td>\n",
       "      <td>K.McMurray, TrackingSharks.com</td>\n",
       "      <td>2018.06.18-McNeely.pdf</td>\n",
       "      <td>http://sharkattackfile.net/spreadsheets/pdf_di...</td>\n",
       "      <td>http://sharkattackfile.net/spreadsheets/pdf_di...</td>\n",
       "      <td>2018.06.18</td>\n",
       "      <td>2018.06.18</td>\n",
       "      <td>6302.0</td>\n",
       "      <td>NaN</td>\n",
       "      <td>NaN</td>\n",
       "    </tr>\n",
       "  </tbody>\n",
       "</table>\n",
       "<p>2 rows × 24 columns</p>\n",
       "</div>"
      ],
      "text/plain": [
       "  Case Number         Date    Year        Type Country        Area  \\\n",
       "0  2018.06.25  25-Jun-2018  2018.0     Boating     USA  California   \n",
       "1  2018.06.18  18-Jun-2018  2018.0  Unprovoked     USA     Georgia   \n",
       "\n",
       "                         Location  Activity             Name Sex   ...  \\\n",
       "0     Oceanside, San Diego County  Paddling      Julie Wolfe    F  ...   \n",
       "1  St. Simon Island, Glynn County  Standing  Adyson McNeely     F  ...   \n",
       "\n",
       "      Species           Investigator or Source                     pdf  \\\n",
       "0  White shark                R. Collier, GSAF    2018.06.25-Wolfe.pdf   \n",
       "1          NaN  K.McMurray, TrackingSharks.com  2018.06.18-McNeely.pdf   \n",
       "\n",
       "                                        href formula  \\\n",
       "0  http://sharkattackfile.net/spreadsheets/pdf_di...   \n",
       "1  http://sharkattackfile.net/spreadsheets/pdf_di...   \n",
       "\n",
       "                                                href Case Number.1  \\\n",
       "0  http://sharkattackfile.net/spreadsheets/pdf_di...    2018.06.25   \n",
       "1  http://sharkattackfile.net/spreadsheets/pdf_di...    2018.06.18   \n",
       "\n",
       "  Case Number.2 original order Unnamed: 22 Unnamed: 23  \n",
       "0    2018.06.25         6303.0         NaN         NaN  \n",
       "1    2018.06.18         6302.0         NaN         NaN  \n",
       "\n",
       "[2 rows x 24 columns]"
      ]
     },
     "execution_count": 10,
     "metadata": {},
     "output_type": "execute_result"
    }
   ],
   "source": [
    "#verificando o cabeçalho do arquivo\n",
    "df.head(2)"
   ]
  },
  {
   "cell_type": "code",
   "execution_count": 11,
   "metadata": {},
   "outputs": [
    {
     "data": {
      "text/plain": [
       "(6300, 24)"
      ]
     },
     "execution_count": 11,
     "metadata": {},
     "output_type": "execute_result"
    }
   ],
   "source": [
    "#verificando o tamanho do arquivo em linhas e colunas, após definição do slice\n",
    "df.shape"
   ]
  },
  {
   "cell_type": "code",
   "execution_count": 12,
   "metadata": {},
   "outputs": [
    {
     "data": {
      "text/plain": [
       "Index(['Case Number', 'Date', 'Year', 'Type', 'Country', 'Area', 'Location',\n",
       "       'Activity', 'Name', 'Sex ', 'Age', 'Injury', 'Fatal (Y/N)', 'Time',\n",
       "       'Species ', 'Investigator or Source', 'pdf', 'href formula', 'href',\n",
       "       'Case Number.1', 'Case Number.2', 'original order', 'Unnamed: 22',\n",
       "       'Unnamed: 23'],\n",
       "      dtype='object')"
      ]
     },
     "execution_count": 12,
     "metadata": {},
     "output_type": "execute_result"
    }
   ],
   "source": [
    "#verificando nome das colunas\n",
    "df.columns"
   ]
  },
  {
   "cell_type": "code",
   "execution_count": 13,
   "metadata": {
    "collapsed": true
   },
   "outputs": [
    {
     "data": {
      "text/plain": [
       "Case Number                object\n",
       "Date                       object\n",
       "Year                      float64\n",
       "Type                       object\n",
       "Country                    object\n",
       "Area                       object\n",
       "Location                   object\n",
       "Activity                   object\n",
       "Name                       object\n",
       "Sex                        object\n",
       "Age                        object\n",
       "Injury                     object\n",
       "Fatal (Y/N)                object\n",
       "Time                       object\n",
       "Species                    object\n",
       "Investigator or Source     object\n",
       "pdf                        object\n",
       "href formula               object\n",
       "href                       object\n",
       "Case Number.1              object\n",
       "Case Number.2              object\n",
       "original order            float64\n",
       "Unnamed: 22                object\n",
       "Unnamed: 23                object\n",
       "dtype: object"
      ]
     },
     "execution_count": 13,
     "metadata": {},
     "output_type": "execute_result"
    }
   ],
   "source": [
    "#verificando tipo das colunas\n",
    "df.dtypes"
   ]
  },
  {
   "cell_type": "code",
   "execution_count": 14,
   "metadata": {
    "collapsed": true
   },
   "outputs": [
    {
     "name": "stdout",
     "output_type": "stream",
     "text": [
      "Case Number                0.015873\n",
      "Date                       0.000000\n",
      "Year                       0.031746\n",
      "Type                       0.063492\n",
      "Country                    0.793651\n",
      "Area                       7.206349\n",
      "Location                   8.571429\n",
      "Activity                   8.619048\n",
      "Name                       3.333333\n",
      "Sex                        8.968254\n",
      "Age                       44.920635\n",
      "Injury                     0.444444\n",
      "Fatal (Y/N)                8.555556\n",
      "Time                      53.206349\n",
      "Species                   45.015873\n",
      "Investigator or Source     0.269841\n",
      "pdf                        0.000000\n",
      "href formula               0.015873\n",
      "href                       0.000000\n",
      "Case Number.1              0.000000\n",
      "Case Number.2              0.000000\n",
      "original order             0.000000\n",
      "Unnamed: 22               99.984127\n",
      "Unnamed: 23               99.968254\n",
      "dtype: float64\n"
     ]
    }
   ],
   "source": [
    "#contando valores ausentes por coluna e colocando em %\n",
    "df.isnull().sum()\n",
    "\n",
    "Percent = (df.isnull().sum() / len(df['Case Number.1']))*100\n",
    "print(Percent)"
   ]
  },
  {
   "cell_type": "markdown",
   "metadata": {},
   "source": [
    "### Verificando possiveis colunas duplicadas"
   ]
  },
  {
   "cell_type": "code",
   "execution_count": 15,
   "metadata": {
    "collapsed": true
   },
   "outputs": [
    {
     "data": {
      "text/plain": [
       "True     6277\n",
       "False      23\n",
       "Name: Case Number.1, dtype: int64"
      ]
     },
     "execution_count": 15,
     "metadata": {},
     "output_type": "execute_result"
    }
   ],
   "source": [
    "#verifiquei 3 colunas \"iguais\", vou conferir se eh 100% iguais mesmo\n",
    "df['Case Number'].equals(df['Case Number.1'].equals(df['Case Number.2'])) #False, pq nao sao 100% iguais\n",
    "\n",
    "#depois do cod acima, vou verificar apenas com duas colunas\n",
    "df['Case Number'].equals(df['Case Number.1']) #tbm deu falso, pq nao sao 100% iguais\n",
    "\n",
    "#entao vou conferir qtos codigos de case number.1, contem dentro da outra coluna\n",
    "df['Case Number.1'].isin(df['Case Number']).value_counts()\n",
    "\n",
    "#verifiquei ao final, que apenas \"23\" itens são falso, logo, posso excluir duas delas e manter apenas o case number.1"
   ]
  },
  {
   "cell_type": "code",
   "execution_count": 16,
   "metadata": {
    "collapsed": true
   },
   "outputs": [
    {
     "data": {
      "text/plain": [
       "True     6240\n",
       "False      60\n",
       "Name: href formula, dtype: int64"
      ]
     },
     "execution_count": 16,
     "metadata": {},
     "output_type": "execute_result"
    }
   ],
   "source": [
    "#percebi que a coluna href e href formula parecem iguais. vou examinar com .equals\n",
    "df['href formula'].equals(df['href'])\n",
    "\n",
    "#entao vou conferir qtos codigos de href, contem dentro da outra coluna\n",
    "df['href formula'].isin(df['href']).value_counts()\n",
    "\n",
    "#verifiquei ao final, que apenas \"59\" itens são falso, logo, posso excluir duas delas e manter apenas 1. escolhi a href"
   ]
  },
  {
   "cell_type": "markdown",
   "metadata": {},
   "source": [
    "#### Corrigindo a coluna 'DATE'\n",
    "\n",
    "Tentando trazer o mes a partir da coluna Case Number.1 (aparentemente é uma data)"
   ]
  },
  {
   "cell_type": "code",
   "execution_count": 17,
   "metadata": {
    "collapsed": true
   },
   "outputs": [
    {
     "name": "stdout",
     "output_type": "stream",
     "text": [
      "{'1856.11.25.R', '1907.10.12', '1947.07.24.R', '2012.10.16', '2001.08.19.c', '1993.00.00.a', 'ND-0152', '1888.01.22', '1917.07.15', '2005.07.15.R', '1955.02.04', '1973.03.00', '2016.08.07', '1871.00.00.b', '2005.03.27.R', '1983.12.21', '1962.04.09', '2018.03.14', '2003.07.20', '1878.09.02.b', '2001.09.13', 'ND.0056', 'ND.0083', '1993.08.21', '2015.04.11', '1967.08.00.a', '1984.02.11', '2002.01.01.b', '1974.05.26', '1996.10.09', '2014.08.10', '2000.08.30', '1998.11.05', '1970.01.10', '2009.06.16', '2005.05.02', '1951.06.25', '1637.00.00.R', '1913.08.26.R', '1903.01.10', '1975.10.04', '2017.05.03', '1962.02.05', '1927.12.28', '1966.02.27', '2002.08.28', '2002.12.16', '1929.07.29', '2007.08.09.b', '2017.08.23', '1861.02.12.R', '1985.05.08', '1939.07.18', '1840.02.00', '1887.10.18', '1955.11.16', '2009.09.13', '1942.06.00', '2015.08.29.a', '2017.04.26', '1920.01.24.R.b', '1963.00.00.b', '2016.06.11', '1960.00.00.a', '1961.05.17', '1931.08.06.R', '1909.01.00', '1998.05.16.b', '1960.06.27.a', '1955.02.01.', '1879.11.10', '1938.07.17', '1983.07.05', '1841.03.27', 'ND-0134', '1942.04.05', '1968.08.11', '1978.04.02.a', '1997.05.26', '1930.12.13'}\n"
     ]
    }
   ],
   "source": [
    "#vou tentar \"corrigir\" algumas linhas da coluna data\n",
    "#usando o Set para trazer uma amostra, e o sample para \"pedir o tamanho da amostra\"\n",
    "print(set(df['Case Number.1'].sample(n=80)))"
   ]
  },
  {
   "cell_type": "code",
   "execution_count": 18,
   "metadata": {},
   "outputs": [
    {
     "data": {
      "text/plain": [
       "'06'"
      ]
     },
     "execution_count": 18,
     "metadata": {},
     "output_type": "execute_result"
    }
   ],
   "source": [
    "#tentando pegar o mês a parti da case number, com o slice de exemplo\n",
    "df['Case Number'][0][5:7]"
   ]
  },
  {
   "cell_type": "code",
   "execution_count": 19,
   "metadata": {},
   "outputs": [],
   "source": [
    "#função para encontrar o mes, a parti do slice da função, com tratamento para erro do mes a partir da coluna Case Number.1\n",
    "def achar_mes(linha):\n",
    "    '''Essa função servirá para rodar linha a linha e trazer o mes através do slice\n",
    "    e tratar o erro caso o numero do  mes seja maior que 12, ou \"0\". '''\n",
    "    try:\n",
    "        mes = linha[5:7]\n",
    "        mes = int(mes)\n",
    "        if mes > 12 or mes == 0:\n",
    "            mes = np.nan\n",
    "    except:\n",
    "        mes = linha\n",
    "    return mes"
   ]
  },
  {
   "cell_type": "code",
   "execution_count": 20,
   "metadata": {},
   "outputs": [],
   "source": [
    "#criando uma nova coluna com o mes \n",
    "df['Month'] = df['Case Number.1'].apply(achar_mes)"
   ]
  },
  {
   "cell_type": "code",
   "execution_count": 21,
   "metadata": {
    "collapsed": true
   },
   "outputs": [
    {
     "data": {
      "text/plain": [
       "7.0     671\n",
       "8.0     601\n",
       "9.0     557\n",
       "1.0     519\n",
       "6.0     501\n",
       "4.0     461\n",
       "10.0    443\n",
       "12.0    443\n",
       "3.0     412\n",
       "11.0    409\n",
       "5.0     393\n",
       "2.0     385\n",
       "Name: Month, dtype: int64"
      ]
     },
     "execution_count": 21,
     "metadata": {},
     "output_type": "execute_result"
    }
   ],
   "source": [
    "#contando a qutde de valores por mes\n",
    "df['Month'].value_counts()"
   ]
  },
  {
   "cell_type": "code",
   "execution_count": 22,
   "metadata": {},
   "outputs": [],
   "source": [
    "#definindo o tipo de dado da coluna, para substituiiçao\n",
    "df['Month'] = df['Month'].astype('str')"
   ]
  },
  {
   "cell_type": "code",
   "execution_count": 23,
   "metadata": {},
   "outputs": [],
   "source": [
    "#converter numero para nome do mes, para utilizar no grafico.\n",
    "df['Month'] = df['Month'].str.replace('1.0','Jan')\n",
    "df['Month'] = df['Month'].str.replace('2.0','Fev')\n",
    "df['Month'] = df['Month'].str.replace('3.0','Mar')\n",
    "df['Month'] = df['Month'].str.replace('4.0','Abr')\n",
    "df['Month'] = df['Month'].str.replace('5.0','Mai')\n",
    "df['Month'] = df['Month'].str.replace('6.0','Jun')\n",
    "df['Month'] = df['Month'].str.replace('7.0','Jul')\n",
    "df['Month'] = df['Month'].str.replace('8.0','Ago')\n",
    "df['Month'] = df['Month'].str.replace('9.0','Set')\n",
    "df['Month'] = df['Month'].str.replace('10.0','Out')\n",
    "df['Month'] = df['Month'].str.replace('11.0','Nov')\n",
    "df['Month'] = df['Month'].str.replace('12.0','Dez')"
   ]
  },
  {
   "cell_type": "code",
   "execution_count": 24,
   "metadata": {},
   "outputs": [
    {
     "data": {
      "text/plain": [
       "0       Jun\n",
       "1       Jun\n",
       "2       Jun\n",
       "3       Jun\n",
       "4       Jun\n",
       "       ... \n",
       "6295    Jul\n",
       "6296    Jun\n",
       "6297    Mai\n",
       "6298    Abr\n",
       "6299    Mar\n",
       "Name: Month, Length: 6300, dtype: object"
      ]
     },
     "execution_count": 24,
     "metadata": {},
     "output_type": "execute_result"
    }
   ],
   "source": [
    "#verificando após a troca dos meses como ficou\n",
    "df['Month']"
   ]
  },
  {
   "cell_type": "code",
   "execution_count": 25,
   "metadata": {
    "collapsed": true
   },
   "outputs": [
    {
     "data": {
      "text/plain": [
       "Jul     671\n",
       "Ago     601\n",
       "Set     557\n",
       "Jan     519\n",
       "nan     505\n",
       "Jun     501\n",
       "Abr     461\n",
       "Out     443\n",
       "1Fev    443\n",
       "Mar     412\n",
       "1Jan    409\n",
       "Mai     393\n",
       "Fev     385\n",
       "Name: Month, dtype: int64"
      ]
     },
     "execution_count": 25,
     "metadata": {},
     "output_type": "execute_result"
    }
   ],
   "source": [
    "#verificando a contagem dos meses\n",
    "df['Month'].value_counts()\n",
    "\n",
    "#observei que o mes de Novembro e Dezembro nao veio corretamente. Preciso fazer uma correção"
   ]
  },
  {
   "cell_type": "code",
   "execution_count": 26,
   "metadata": {},
   "outputs": [],
   "source": [
    "#fazendo essa substituição\n",
    "df['Month'] = df['Month'].str.replace('1Jan','Nov')\n",
    "df['Month'] = df['Month'].str.replace('1Fev','Dez')"
   ]
  },
  {
   "cell_type": "code",
   "execution_count": 27,
   "metadata": {},
   "outputs": [
    {
     "data": {
      "text/plain": [
       "Jul    671\n",
       "Ago    601\n",
       "Set    557\n",
       "Jan    519\n",
       "nan    505\n",
       "Jun    501\n",
       "Abr    461\n",
       "Dez    443\n",
       "Out    443\n",
       "Mar    412\n",
       "Nov    409\n",
       "Mai    393\n",
       "Fev    385\n",
       "Name: Month, dtype: int64"
      ]
     },
     "execution_count": 27,
     "metadata": {},
     "output_type": "execute_result"
    }
   ],
   "source": [
    "#conferindo se de fato houve a troca\n",
    "df['Month'].value_counts()"
   ]
  },
  {
   "cell_type": "code",
   "execution_count": null,
   "metadata": {},
   "outputs": [],
   "source": [
    "#ver no grafico qual mes teve + atack por pais\n",
    "#see in graph which month has more attacks by country."
   ]
  },
  {
   "cell_type": "code",
   "execution_count": 28,
   "metadata": {
    "collapsed": true
   },
   "outputs": [
    {
     "data": {
      "text/html": [
       "<div>\n",
       "<style scoped>\n",
       "    .dataframe tbody tr th:only-of-type {\n",
       "        vertical-align: middle;\n",
       "    }\n",
       "\n",
       "    .dataframe tbody tr th {\n",
       "        vertical-align: top;\n",
       "    }\n",
       "\n",
       "    .dataframe thead th {\n",
       "        text-align: right;\n",
       "    }\n",
       "</style>\n",
       "<table border=\"1\" class=\"dataframe\">\n",
       "  <thead>\n",
       "    <tr style=\"text-align: right;\">\n",
       "      <th></th>\n",
       "      <th>Case Number</th>\n",
       "      <th>Date</th>\n",
       "      <th>Year</th>\n",
       "      <th>Type</th>\n",
       "      <th>Country</th>\n",
       "      <th>Area</th>\n",
       "      <th>Location</th>\n",
       "      <th>Activity</th>\n",
       "      <th>Name</th>\n",
       "      <th>Sex</th>\n",
       "      <th>...</th>\n",
       "      <th>Investigator or Source</th>\n",
       "      <th>pdf</th>\n",
       "      <th>href formula</th>\n",
       "      <th>href</th>\n",
       "      <th>Case Number.1</th>\n",
       "      <th>Case Number.2</th>\n",
       "      <th>original order</th>\n",
       "      <th>Unnamed: 22</th>\n",
       "      <th>Unnamed: 23</th>\n",
       "      <th>Month</th>\n",
       "    </tr>\n",
       "  </thead>\n",
       "  <tbody>\n",
       "    <tr>\n",
       "      <th>0</th>\n",
       "      <td>2018.06.25</td>\n",
       "      <td>25-Jun-2018</td>\n",
       "      <td>2018.0</td>\n",
       "      <td>Boating</td>\n",
       "      <td>USA</td>\n",
       "      <td>California</td>\n",
       "      <td>Oceanside, San Diego County</td>\n",
       "      <td>Paddling</td>\n",
       "      <td>Julie Wolfe</td>\n",
       "      <td>F</td>\n",
       "      <td>...</td>\n",
       "      <td>R. Collier, GSAF</td>\n",
       "      <td>2018.06.25-Wolfe.pdf</td>\n",
       "      <td>http://sharkattackfile.net/spreadsheets/pdf_di...</td>\n",
       "      <td>http://sharkattackfile.net/spreadsheets/pdf_di...</td>\n",
       "      <td>2018.06.25</td>\n",
       "      <td>2018.06.25</td>\n",
       "      <td>6303.0</td>\n",
       "      <td>NaN</td>\n",
       "      <td>NaN</td>\n",
       "      <td>Jun</td>\n",
       "    </tr>\n",
       "    <tr>\n",
       "      <th>1</th>\n",
       "      <td>2018.06.18</td>\n",
       "      <td>18-Jun-2018</td>\n",
       "      <td>2018.0</td>\n",
       "      <td>Unprovoked</td>\n",
       "      <td>USA</td>\n",
       "      <td>Georgia</td>\n",
       "      <td>St. Simon Island, Glynn County</td>\n",
       "      <td>Standing</td>\n",
       "      <td>Adyson McNeely</td>\n",
       "      <td>F</td>\n",
       "      <td>...</td>\n",
       "      <td>K.McMurray, TrackingSharks.com</td>\n",
       "      <td>2018.06.18-McNeely.pdf</td>\n",
       "      <td>http://sharkattackfile.net/spreadsheets/pdf_di...</td>\n",
       "      <td>http://sharkattackfile.net/spreadsheets/pdf_di...</td>\n",
       "      <td>2018.06.18</td>\n",
       "      <td>2018.06.18</td>\n",
       "      <td>6302.0</td>\n",
       "      <td>NaN</td>\n",
       "      <td>NaN</td>\n",
       "      <td>Jun</td>\n",
       "    </tr>\n",
       "  </tbody>\n",
       "</table>\n",
       "<p>2 rows × 25 columns</p>\n",
       "</div>"
      ],
      "text/plain": [
       "  Case Number         Date    Year        Type Country        Area  \\\n",
       "0  2018.06.25  25-Jun-2018  2018.0     Boating     USA  California   \n",
       "1  2018.06.18  18-Jun-2018  2018.0  Unprovoked     USA     Georgia   \n",
       "\n",
       "                         Location  Activity             Name Sex   ...  \\\n",
       "0     Oceanside, San Diego County  Paddling      Julie Wolfe    F  ...   \n",
       "1  St. Simon Island, Glynn County  Standing  Adyson McNeely     F  ...   \n",
       "\n",
       "           Investigator or Source                     pdf  \\\n",
       "0                R. Collier, GSAF    2018.06.25-Wolfe.pdf   \n",
       "1  K.McMurray, TrackingSharks.com  2018.06.18-McNeely.pdf   \n",
       "\n",
       "                                        href formula  \\\n",
       "0  http://sharkattackfile.net/spreadsheets/pdf_di...   \n",
       "1  http://sharkattackfile.net/spreadsheets/pdf_di...   \n",
       "\n",
       "                                                href Case Number.1  \\\n",
       "0  http://sharkattackfile.net/spreadsheets/pdf_di...    2018.06.25   \n",
       "1  http://sharkattackfile.net/spreadsheets/pdf_di...    2018.06.18   \n",
       "\n",
       "  Case Number.2 original order Unnamed: 22 Unnamed: 23 Month  \n",
       "0    2018.06.25         6303.0         NaN         NaN   Jun  \n",
       "1    2018.06.18         6302.0         NaN         NaN   Jun  \n",
       "\n",
       "[2 rows x 25 columns]"
      ]
     },
     "execution_count": 28,
     "metadata": {},
     "output_type": "execute_result"
    }
   ],
   "source": [
    "#verificando se houve realmente a troca\n",
    "df.head(2)"
   ]
  },
  {
   "cell_type": "code",
   "execution_count": null,
   "metadata": {},
   "outputs": [],
   "source": [
    "#abaixo foram tentativas frustradas de tentar limpar a coluna de data."
   ]
  },
  {
   "cell_type": "code",
   "execution_count": null,
   "metadata": {
    "collapsed": true
   },
   "outputs": [],
   "source": [
    "#CODIGO 1\n",
    "'''A ideia, era criar uma lista vazia, para rodar o FOR dentro do dataset e com isso\n",
    "    extrair os meses de dentro da coluna Data'''\n",
    "'''mes = []\n",
    "for linha in df['Date']:\n",
    "    tempo_linha = ''.join(re.findall('\\-[A-Za-z]{3}\\-',linha)).lower()\n",
    "    tempo_linha = re.sub('\\-','',tempo_linha)\n",
    "        \n",
    "        \n",
    "    if tempo_linha == '':\n",
    "        temp_linha = np.nan\n",
    "\n",
    "    mes.append(tempo_linha)\n",
    "\n",
    "df['Month'] = mes'''"
   ]
  },
  {
   "cell_type": "code",
   "execution_count": null,
   "metadata": {},
   "outputs": [],
   "source": [
    "#CODIGO 2\n",
    "'''Nesse Segundo codigo a ideia era fazer um try|except para criar novas colunas extranindo os dados da Case Number.1\n",
    "    mas nao consegui fazer uma extração de dados a parti dessa coluna,\n",
    "    Eu acredito ter que alterar alguma parte do codigo no final, mas tentei varias vezes e nao consegui'''\n",
    "'''try:\n",
    "    df['Year1']=[y[0:4] for y in df['Case Number.1']] #vou extratir o ano, se o numero começar de 0 à 3\n",
    "except:\n",
    "    df['Year1']='00' #exceto se tiver 00\n",
    "try:\n",
    "    df['Month']=[m[5:7] for m in df['Case Number.1']] #vou extratir o mes, se o numero começar de 4 à 6\n",
    "except:\n",
    "    df['Month']='00' #exceto se tiver 00\n",
    "try:\n",
    "    df['Day']=[d[8:10] for d in df['Case Number.1']] #vou extratir o dia, se o numero começar de 7 à 10\n",
    "except:\n",
    "    df['Day']='00' #exceto se tiver 00\n",
    "    \n",
    "#agora vou fazer o loc, para verificar se contem caracteres nas colunas\n",
    "df.loc[df['Year1'].str.contains('(?i)ND'),'Year1']='00'\n",
    "df.loc[df['Year1'].str.contains('ND','.*'),'Day']='00'\n",
    "df.loc[df['Year1'].str.contains('ND'),'Month']='00'\n",
    "\n",
    "#agora vou substituir os nº decimal por \"0\" e converter a coluna em numero inteiro\n",
    "#df['Year_'] = df['Year_'].replace(['0500.00.00','0077.00.00','0005.00.00','0000.0036', '0000.0493', '0000.0725'],0)\n",
    "df['Year1'] = df['Year1'].replace(['0.02','0.03','0.04','0.07','\"\"'],0)\n",
    "df['Year1'] = df['Year1'].astype(int)\n",
    "\n",
    "#por fim, vou colocar essas colunas novas que criei dentro do dataframe original\n",
    "df = df[['Case number.1','Day','Month','Year1','Year','Date','Type','Country','Area','Activity',\n",
    "           'Sex ','Age','Injury','Fatal (Y/N)','Species ','Investigator or Source','href']]\n",
    "\n",
    "#aqui vou pegar uma amostra aleatória para conferir\n",
    "df.head(100)'''"
   ]
  },
  {
   "cell_type": "markdown",
   "metadata": {},
   "source": [
    "#### Corrigindo a coluna 'YEAR'"
   ]
  },
  {
   "cell_type": "code",
   "execution_count": 29,
   "metadata": {},
   "outputs": [
    {
     "data": {
      "text/plain": [
       "str"
      ]
     },
     "execution_count": 29,
     "metadata": {},
     "output_type": "execute_result"
    }
   ],
   "source": [
    "#verificando o typo de dado da coluna\n",
    "type('Year')"
   ]
  },
  {
   "cell_type": "code",
   "execution_count": 30,
   "metadata": {},
   "outputs": [],
   "source": [
    "#função para encontrar o ano, a parti do slice da função, para comparar com a coluna ano ja existente\n",
    "def achar_ano(linha):\n",
    "    '''Essa função servirá para rodar linha a linha e trazer o ano através do slice\n",
    "    e trazendo apenas os anos que forem maior que 1800'''\n",
    "    try:\n",
    "        if 'ND' in linha:\n",
    "            ano = np.nan\n",
    "    except:\n",
    "        ano = linha\n",
    "    else:\n",
    "        try:\n",
    "            ano = linha[:4]\n",
    "            ano = int(ano)\n",
    "            if ano < 1800 or ano == 0:\n",
    "                ano = np.nan\n",
    "        except:\n",
    "            ano = np.nan\n",
    "    return ano"
   ]
  },
  {
   "cell_type": "code",
   "execution_count": 31,
   "metadata": {},
   "outputs": [
    {
     "data": {
      "text/plain": [
       "nan"
      ]
     },
     "execution_count": 31,
     "metadata": {},
     "output_type": "execute_result"
    }
   ],
   "source": [
    "#verificando se ele encontra algum ano, como o exemplo abaixo\n",
    "achar_ano('ND.0012')"
   ]
  },
  {
   "cell_type": "code",
   "execution_count": 32,
   "metadata": {},
   "outputs": [],
   "source": [
    "#criando uma nova coluna de ano para comparar com a coluna ja existente\n",
    "df['Year1'] = df['Case Number.1'].apply(achar_ano)"
   ]
  },
  {
   "cell_type": "code",
   "execution_count": 33,
   "metadata": {
    "collapsed": true
   },
   "outputs": [
    {
     "data": {
      "text/plain": [
       "2015.0    144\n",
       "2017.0    137\n",
       "2016.0    129\n",
       "2011.0    128\n",
       "2014.0    126\n",
       "         ... \n",
       "1859.0      1\n",
       "1807.0      1\n",
       "1815.0      1\n",
       "1806.0      1\n",
       "1811.0      1\n",
       "Name: Year1, Length: 209, dtype: int64"
      ]
     },
     "execution_count": 33,
     "metadata": {},
     "output_type": "execute_result"
    }
   ],
   "source": [
    "#fazendo a contagem de \"anos\"\n",
    "df['Year1'].value_counts()"
   ]
  },
  {
   "cell_type": "code",
   "execution_count": 34,
   "metadata": {},
   "outputs": [
    {
     "name": "stdout",
     "output_type": "stream",
     "text": [
      "6300\n"
     ]
    }
   ],
   "source": [
    "#verifinaco o tamanho de dados preenchidos da nova coluna ano \n",
    "print(len(df['Year1']))"
   ]
  },
  {
   "cell_type": "code",
   "execution_count": 35,
   "metadata": {},
   "outputs": [
    {
     "data": {
      "text/plain": [
       "6124"
      ]
     },
     "execution_count": 35,
     "metadata": {},
     "output_type": "execute_result"
    }
   ],
   "source": [
    "#Comparando as colunas de ano para verificar quantos dados ficaram \"Vazios\"\n",
    "(df['Year']==df['Year1']).sum()"
   ]
  },
  {
   "cell_type": "code",
   "execution_count": 36,
   "metadata": {},
   "outputs": [
    {
     "data": {
      "text/plain": [
       "0       2018\n",
       "1       2018\n",
       "2       2018\n",
       "3       2018\n",
       "4       2018\n",
       "        ... \n",
       "6295       0\n",
       "6296       0\n",
       "6297       0\n",
       "6298       0\n",
       "6299       0\n",
       "Name: Year, Length: 6300, dtype: Int64"
      ]
     },
     "execution_count": 36,
     "metadata": {},
     "output_type": "execute_result"
    }
   ],
   "source": [
    "#substituindo o tipo de dado da coluna para numero inteiro\n",
    "df['Year'].astype('Int64')"
   ]
  },
  {
   "cell_type": "code",
   "execution_count": 37,
   "metadata": {
    "scrolled": true
   },
   "outputs": [
    {
     "name": "stdout",
     "output_type": "stream",
     "text": [
      "1927.8844077484916\n",
      "1968.7955323658894\n"
     ]
    }
   ],
   "source": [
    "#encontrando a media dos anos\n",
    "print(df['Year'].mean())\n",
    "print(df['Year1'].mean())"
   ]
  },
  {
   "cell_type": "code",
   "execution_count": 38,
   "metadata": {},
   "outputs": [],
   "source": [
    "#substituindo anos vazios pela media da coluna 'Year1'\n",
    "df['Year1'].fillna(1968, inplace=True)"
   ]
  },
  {
   "cell_type": "code",
   "execution_count": 39,
   "metadata": {
    "collapsed": true
   },
   "outputs": [
    {
     "data": {
      "text/plain": [
       "0       2018.0\n",
       "1       2018.0\n",
       "2       2018.0\n",
       "3       2018.0\n",
       "4       2018.0\n",
       "         ...  \n",
       "6295    1968.0\n",
       "6296    1968.0\n",
       "6297    1968.0\n",
       "6298    1968.0\n",
       "6299    1968.0\n",
       "Name: Year1, Length: 6300, dtype: float64"
      ]
     },
     "execution_count": 39,
     "metadata": {},
     "output_type": "execute_result"
    }
   ],
   "source": [
    "#verificando se houve a substituição dos nan, pela media\n",
    "df['Year1']\n"
   ]
  },
  {
   "cell_type": "markdown",
   "metadata": {},
   "source": [
    "#### Corrigindo coluna 'TYPE'"
   ]
  },
  {
   "cell_type": "code",
   "execution_count": 40,
   "metadata": {},
   "outputs": [
    {
     "data": {
      "text/plain": [
       "{'Boat',\n",
       " 'Boating',\n",
       " 'Boatomg',\n",
       " 'Invalid',\n",
       " 'Provoked',\n",
       " 'Questionable',\n",
       " 'Sea Disaster',\n",
       " 'Unprovoked',\n",
       " nan}"
      ]
     },
     "execution_count": 40,
     "metadata": {},
     "output_type": "execute_result"
    }
   ],
   "source": [
    "#vamos ver os dados dessa coluna\n",
    "set(df['Type'])\n",
    "\n",
    "#podemos observar depois da execução que esta praticamente limpa.."
   ]
  },
  {
   "cell_type": "code",
   "execution_count": 41,
   "metadata": {},
   "outputs": [],
   "source": [
    "#vou apenas substituir os errinhos\n",
    "\n",
    "df['Type'] = df['Type'].str.strip()\n",
    "df['Type'] = df['Type'].str.replace('Boating','Boat')\n",
    "df['Type'] = df['Type'].str.replace('Boatomg','Boat')\n",
    "df['Type'] = df['Type'].str.replace('Invalid','Desconhecido')\n",
    "df['Type'] = df['Type'].str.replace('nan', 'Desconhecido')\n",
    "df.loc[df['Type'].str.contains('nan', na=True), 'Type']='Desconhecido'"
   ]
  },
  {
   "cell_type": "code",
   "execution_count": 42,
   "metadata": {},
   "outputs": [
    {
     "name": "stdout",
     "output_type": "stream",
     "text": [
      "{'Desconhecido', 'Questionable', 'Unprovoked', 'Sea Disaster', 'Boat', 'Provoked'}\n"
     ]
    }
   ],
   "source": [
    "#vamos ver como ficou a coluna\n",
    "print(set(df['Type']))"
   ]
  },
  {
   "cell_type": "code",
   "execution_count": 43,
   "metadata": {},
   "outputs": [],
   "source": [
    "#Agora vou substituir os nomes de Ingles para Portgues\n",
    "df['Type'] = df['Type'].str.replace('Sea Disaster','Desastre do Mar')\n",
    "df['Type'] = df['Type'].str.replace('Provoked','Provocado')\n",
    "df['Type'] = df['Type'].str.replace('Unprovoked', 'Não Provocado')\n",
    "df['Type'] = df['Type'].str.replace('Questionable', 'Questionavel')\n",
    "df['Type'] = df['Type'].str.replace('Boat', 'Barco')"
   ]
  },
  {
   "cell_type": "code",
   "execution_count": 44,
   "metadata": {},
   "outputs": [
    {
     "name": "stdout",
     "output_type": "stream",
     "text": [
      "{'Desastre do Mar', 'Questionavel', 'Desconhecido', 'Não Provocado', 'Barco', 'Provocado'}\n"
     ]
    }
   ],
   "source": [
    "#vamos ver como ficou a coluna com a tradução\n",
    "print(set(df['Type']))"
   ]
  },
  {
   "cell_type": "markdown",
   "metadata": {},
   "source": [
    "#### Corrigindo coluna 'COUNTRY'"
   ]
  },
  {
   "cell_type": "code",
   "execution_count": 45,
   "metadata": {
    "collapsed": true
   },
   "outputs": [
    {
     "name": "stdout",
     "output_type": "stream",
     "text": [
      "{nan, 'UNITED ARAB EMIRATES', 'GULF OF ADEN', 'CRETE', 'SOLOMON ISLANDS', 'EGYPT', 'NORTH ATLANTIC OCEAN', ' TONGA', 'NICARAGUA ', 'PARAGUAY', 'FALKLAND ISLANDS', 'FRENCH POLYNESIA', 'SOUTH CHINA SEA', 'ANDAMAN / NICOBAR ISLANDAS', 'URUGUAY', 'MARSHALL ISLANDS', 'ITALY / CROATIA', 'GUYANA', 'BAHAMAS', 'GUATEMALA', 'BURMA', 'Seychelles', 'CHINA', 'MALDIVE ISLANDS', 'ROATAN', 'MAURITIUS', 'Coast of AFRICA', 'EGYPT ', 'ANTIGUA', 'FIJI', 'MOZAMBIQUE', 'TUNISIA', 'NORTH SEA', 'ICELAND', 'NIGERIA', 'SENEGAL', 'REUNION ISLAND', ' PHILIPPINES', 'CAPE VERDE', 'NORTH PACIFIC OCEAN', 'ENGLAND', 'NICARAGUA', 'INDONESIA', 'TOBAGO', 'PERSIAN GULF', 'CUBA', 'SOMALIA', 'PHILIPPINES', 'GREENLAND', 'ATLANTIC OCEAN', 'SPAIN', 'BERMUDA', 'CYPRUS', 'Sierra Leone', 'AUSTRALIA', 'COSTA RICA', 'MALTA', 'BANGLADESH', 'CROATIA', 'SIERRA LEONE', 'BAHREIN', 'IRAN / IRAQ', 'SEYCHELLES', 'YEMEN ', 'UNITED KINGDOM', 'INDIAN OCEAN?', 'MAYOTTE', 'CURACAO', 'ARGENTINA', 'OKINAWA', 'TURKEY', 'MALDIVES', 'SOUTHWEST PACIFIC OCEAN', 'MEXICO ', 'ECUADOR', 'NORTHERN ARABIAN SEA', 'ADMIRALTY ISLANDS', 'MARTINIQUE', 'BRITISH WEST INDIES', 'NEW ZEALAND', 'ST. MARTIN', 'DOMINICAN REPUBLIC', 'SOUTH KOREA', 'PORTUGAL', 'PALESTINIAN TERRITORIES', 'ST. MAARTIN', 'ANGOLA', 'GUAM', 'MID ATLANTIC OCEAN', 'UNITED ARAB EMIRATES (UAE)', 'SWEDEN', 'NAMIBIA', 'GABON', 'MEDITERRANEAN SEA', 'WESTERN SAMOA', 'CEYLON', 'KENYA', 'LEBANON', 'PALAU', 'PANAMA', 'CENTRAL PACIFIC', 'CARIBBEAN SEA', 'KIRIBATI', 'ST HELENA, British overseas territory', 'FRANCE', 'RED SEA?', 'SAUDI ARABIA', 'NEW CALEDONIA', 'AZORES', 'FEDERATED STATES OF MICRONESIA', 'SUDAN?', 'EGYPT / ISRAEL', 'THAILAND', 'BRAZIL', 'IRAQ', 'BAY OF BENGAL', 'NORWAY', 'JAMAICA', 'HONG KONG', 'BRITISH ISLES', 'NETHERLANDS ANTILLES', 'BARBADOS', 'SOLOMON ISLANDS / VANUATU', 'SINGAPORE', 'MALAYSIA', 'VANUATU', 'SRI LANKA', 'MICRONESIA', 'TONGA', 'JAPAN', 'EL SALVADOR', 'INDIAN OCEAN', 'BRITISH VIRGIN ISLANDS', 'ITALY', 'MADAGASCAR', 'KUWAIT', 'MID-PACIFC OCEAN', 'VIETNAM', 'BELIZE', 'PACIFIC OCEAN', 'ARUBA', 'NORTH ATLANTIC OCEAN ', 'GHANA', 'TUVALU', 'PUERTO RICO', 'Between PORTUGAL & INDIA', 'COLUMBIA', 'WEST INDIES', 'USA', 'DIEGO GARCIA', 'TURKS & CAICOS', 'PAPUA NEW GUINEA', 'PERU', 'GRAND CAYMAN', 'RUSSIA', 'CAYMAN ISLANDS', 'AMERICAN SAMOA', 'MEXICO', 'NEW GUINEA', 'KOREA', 'JOHNSTON ISLAND', 'NEW BRITAIN', 'AFRICA', 'SAN DOMINGO', 'HONDURAS', 'SOUTH AFRICA', 'SAMOA', 'RED SEA / INDIAN OCEAN', 'DJIBOUTI', 'SOUTH PACIFIC OCEAN', 'IRELAND', 'CHILE', 'REUNION', 'GREECE', 'TANZANIA', 'PACIFIC OCEAN ', 'ALGERIA', 'MONACO', 'NORTHERN MARIANA ISLANDS', 'EQUATORIAL GUINEA / CAMEROON', 'Fiji', 'SOUTH ATLANTIC OCEAN', 'SCOTLAND', 'OCEAN', 'BRITISH NEW GUINEA', 'MONTENEGRO', 'VENEZUELA', 'NEVIS', 'ANDAMAN ISLANDS', 'YEMEN', 'GEORGIA', 'CANADA', 'LIBERIA', 'COMOROS', 'COOK ISLANDS', 'ASIA?', 'ISRAEL', 'SUDAN', 'SYRIA', 'RED SEA', 'TRINIDAD & TOBAGO', 'HAITI', 'GUINEA', 'GRENADA', 'JAVA', 'TAIWAN', 'INDIA', 'TASMAN SEA', 'LIBYA', 'THE BALKANS', 'IRAN', 'SLOVENIA'}\n"
     ]
    }
   ],
   "source": [
    "#vamos ver como esta a coluna\n",
    "print(set(df['Country']))"
   ]
  },
  {
   "cell_type": "code",
   "execution_count": 46,
   "metadata": {},
   "outputs": [],
   "source": [
    "#Essa coluna, parece estar bem limpa, apenas vou trocar os vazios por desconhecido e colocar em minuscula\n",
    "df['Country'].fillna('DESCONHECIDO', inplace=True)\n",
    "df['Country'] = df['Country'].str.strip().str.lower()"
   ]
  },
  {
   "cell_type": "code",
   "execution_count": 47,
   "metadata": {
    "collapsed": true
   },
   "outputs": [
    {
     "name": "stdout",
     "output_type": "stream",
     "text": [
      "{'philippines', 'lebanon', 'red sea?', 'maldive islands', 'falkland islands', 'italy', 'andaman / nicobar islandas', 'st. martin', 'ghana', 'israel', 'persian gulf', 'tunisia', 'hong kong', 'syria', 'sudan?', 'algeria', 'mexico', 'atlantic ocean', 'kenya', 'mid atlantic ocean', 'monaco', 'palau', 'cayman islands', 'st helena, british overseas territory', 'croatia', 'papua new guinea', 'north pacific ocean', 'argentina', 'british isles', 'angola', 'reunion', 'north atlantic ocean', 'new zealand', 'french polynesia', 'norway', 'southwest pacific ocean', 'iceland', 'taiwan', 'new guinea', 'solomon islands', 'turkey', 'ocean', 'asia?', 'liberia', 'comoros', 'indian ocean?', 'solomon islands / vanuatu', 'canada', 'singapore', 'maldives', 'bay of bengal', 'djibouti', 'saudi arabia', 'malaysia', 'egypt / israel', 'the balkans', 'fiji', 'belize', 'palestinian territories', 'africa', 'iran', 'costa rica', 'antigua', 'gabon', 'bahrein', 'el salvador', 'northern mariana islands', 'cape verde', 'samoa', 'barbados', 'honduras', 'pacific ocean', 'bermuda', 'india', 'portugal', 'desconhecido', 'korea', 'vanuatu', 'namibia', 'indian ocean', 'java', 'japan', 'russia', 'united kingdom', 'mediterranean sea', 'scotland', 'trinidad & tobago', 'indonesia', 'gulf of aden', 'british west indies', 'tuvalu', 'georgia', 'american samoa', 'british virgin islands', 'senegal', 'red sea / indian ocean', 'puerto rico', 'cook islands', 'equatorial guinea / cameroon', 'federated states of micronesia', 'tanzania', 'chile', 'mozambique', 'ceylon', 'guatemala', 'crete', 'between portugal & india', 'micronesia', 'tasman sea', 'bahamas', 'iraq', 'red sea', 'bangladesh', 'sudan', 'somalia', 'south atlantic ocean', 'south china sea', 'grand cayman', 'south pacific ocean', 'sri lanka', 'martinique', 'sierra leone', 'new britain', 'reunion island', 'mauritius', 'johnston island', 'burma', 'ecuador', 'sweden', 'roatan', 'paraguay', 'san domingo', 'malta', 'west indies', 'mid-pacifc ocean', 'peru', 'diego garcia', 'venezuela', 'slovenia', 'montenegro', 'iran / iraq', 'marshall islands', 'guam', 'caribbean sea', 'south africa', 'north sea', 'western samoa', 'yemen', 'central pacific', 'tobago', 'tonga', 'admiralty islands', 'ireland', 'thailand', 'dominican republic', 'kiribati', 'england', 'china', 'azores', 'mayotte', 'guyana', 'andaman islands', 'columbia', 'st. maartin', 'kuwait', 'nevis', 'new caledonia', 'australia', 'united arab emirates (uae)', 'cyprus', 'libya', 'egypt', 'curacao', 'usa', 'spain', 'united arab emirates', 'northern arabian sea', 'cuba', 'aruba', 'grenada', 'greenland', 'british new guinea', 'uruguay', 'seychelles', 'okinawa', 'france', 'italy / croatia', 'vietnam', 'nicaragua', 'south korea', 'nigeria', 'brazil', 'netherlands antilles', 'panama', 'guinea', 'turks & caicos', 'coast of africa', 'madagascar', 'haiti', 'jamaica', 'greece'}\n"
     ]
    }
   ],
   "source": [
    "#vamos ver como ficou\n",
    "print(set(df['Country']))"
   ]
  },
  {
   "cell_type": "markdown",
   "metadata": {},
   "source": [
    "#### Corrigindo a coluna 'ACTIVITY'"
   ]
  },
  {
   "cell_type": "code",
   "execution_count": 48,
   "metadata": {
    "collapsed": true
   },
   "outputs": [
    {
     "name": "stdout",
     "output_type": "stream",
     "text": [
      "{nan, 'Free diving, Spearfishing', 'Diving for trochus from lugger', 'Spearfishing with Joe Turner (24). Shark attracted to speared halibut on belt of one diver, tried to bite Ide\\x92s speargun & he shot it in the mouth', 'Vehicle plunged over cliff into the water', 'Adrift on life raft', 'Washed into sea while picking opihi', 'Conch diver', 'Snorkeling, possibly holding a fish', 'Fishing', 'Diving / fishing', 'The 3540-ton Alfonso Penna was torpedoed & sunk by the Italian submarine Barbarigo', 'Scuba diving at seal colony', 'Attempting to rescue an injured & beached shark', 'Skimboarding', 'Swept out to sea while fishing', 'Dived into the water', 'Fishing, hooked shark towed boat out to sea, storm swamped boat', 'Swimming along a row of nets', 'Killing  sharks', 'Paddling outrigger canoe', 'Body found on deserted luxury yacht, 38\\x92 Christine', 'Swimming', 'Diving alongsidethe steamship Ranelagh ', 'British ship Macedon was thrown on her beam ends by a sudden squall', 'Paddling', 'Hookah diving (submerged)', 'Sea Disaster : Wreck of the Carrie E. Long', 'Diving for coins tossed from passenger ship', 'Swimming /  boogie boarding', 'Fishing, two large sharks passed. He speared one and it bit him', 'Painting a ship', 'Fishing, tossing netted shark onboard', 'Disappeared 11 days earlier, probable homicide victim', 'Dived from inner-tube', 'Scuba diving, attempting to catch a captive shark', 'Washing a dog', 'Water-skiing', 'Swimming close to wharf', 'National Airlines DC7B enroute from Miami to Los Angeles with 42 or 46 people on board went down in heavy fog', 'Playing in the surf with his 2 dogs', 'boat from City of Naples capsized', 'Windsurfing (urinating on his board)', 'Feeling the shark\\x92s teeth', 'Checking fish traps, fell into the water', 'Swimming with dolphins', 'Wind surfing', 'Shark fishing on the Don Agustín-VI. ', 'Boat of a Hawaiian brig was stove in by  whale', 'Fishing (Seining)', 'Diving from canoe', 'Diving & force-feeding the shark', '\"Riding waves on a board\"', 'Kite surfing', 'Kitesurfing', 'Fell overboard from the Malacca', 'Free diving for abalone (ascending)', 'Paddling on surfboard', 'Free diving, carrying speargun', 'Spearfishing / free diving', 'Ascending from a dive', 'Fishing from rocks, swept out to sea by large wave & treading water', 'Helmet diving, collecting trochus shell', 'Pulling raft out to ride to shore', 'Lying on surfboard & paddling', 'The 6015-ton British ship Empire Avocet was torpedoed by the German submarine U-125. ', 'Ship Mariston torpedoed & sunk', 'Playing in surf with his child  (9)', 'Treading water after survivng crash of the US Navy airship K-74 that was hit by the German submarine U-134', 'Swimming near pier', 'Shipwrecked Persian Fleet', 'Fishing / standing in waist deep water', 'Floating in tube', 'Crossing the bay at the ford', 'Wreck of the Storm King', 'Trailing the field in a surf race', 'Washing hands', 'Dived from dinghy to retrieve oar in heavy seas', 'Surfing, pushing board ashore', 'Fishing, standing in water next to purse net', 'Swimming to shore with floatioon devices after boat engine conked out', 'The Pacquebot Laconia, enroute to Liverpool with 600 Italian prisoners onboard, was torpedoed by the German submarine  U-156 and only 2 rafts were launched before the ship went down. Unable to board an overcrowded raft, he was swimming.', 'Fell or jumped overboard from the liner Rhynland', 'Swimming alongside the SS Kearsarge', 'Standing / fishing', 'Swimming with boogie board', 'Standing in water with child in her arms', 'Playing / standing', 'Sea Disaster Sinking of ferryboat Christina', 'Petting a shark', 'Sponge diving', 'Spearfishing, shot shark, hauled it onto boat', 'Paddling in knee-deep water', 'Attempting to fix motor', 'Fishing / cleaning fish, dived into water to retrieve a lost fish', 'Freediving for seashells', 'The cutter yacht Cutty Sark sank', 'Fell from yardarm of British ship Rover', 'Plane crashed in water, men in life raft', 'Diving for trochus , but swimming on surface', 'Swimming to shore from boat or kayak', 'Swimming with other crew near wharf', 'Swimming with goggles', 'Fishingat', 'Swimming, caught in strong backwash & disappeared', 'Fishing for yellowtail, Seriola quinqueradiata', 'Diving from lugger', 'Spearfishing, pulled shark\\x92s tail', 'Floating on inner tube after diving for lobster', 'Free diving with seals', 'Splashing ', 'Standing or boogie boardin', 'Attempting to net shark in shark channel', 'Jumped out of canoe', 'Spearfishing (free diving)', 'Sea Disaster', 'Fishing (big game)', 'Plane forced down, 3 men on rubber life raft. Put hand over side to feel drift of boat ', 'Sea Disaster, wreck of the  SS Norwich City', 'Diving in aquarium display tank', 'Standing, collecting sea stars', 'Jumped or fell overboard', 'Bringing hooked, harpooned shark onboard boat', 'Fishing for albacore', 'Playing soccer in the water', 'Japanese freighter Bokuyo Maru burned & sank', 'Wading near a fishing net', 'Feeding prawns to captive sharks', 'He drowned when boat capsized', 'Swimming outside the safety enclosure attempting to retrieve a tennis ball drifting toward midstream ', 'Wreck of the Union Steamship Company 982-ton iron steamer Kafir', 'Swimming off yacht', 'Yacht Gooney Bird foundered, 4 survivors on raft', 'Kite Surfing', 'Swimming after being swept into sea by a large wave', 'Shark hoisted on board liner Tahiti', 'During \"an exhibition\" he was tied in sack & thrown overboard ', 'Swimming after being washed overboard', 'Kayaking or Wave skiing', 'Hookah diving for sea urchins', 'SCUBA Diving', 'Washing clothes', 'Catching sardines', 'Body found floating next to his ship', 'The SS Potlach was torpedoed & sunk by the U-153 on 27-Jun-1942. ', 'Splashing / wading', 'Night Surfing', 'Fishing with dynamite, afterwards in water retrieving catch', 'Diving. Shark \\x93swallowed\\x92 his hand, so he threw his other around the shark and went \\x93shark-back riding\\x94 for 30 yards until the shark opened its jaws', 'Hard hat diving', 'Argentine Air Force C-54', 'Fishing for white sharks', 'The British steamer Caribbee foundered', 'Swimming near breakwater', 'Free diving / modeling', 'USS Johnston DD 557 sunk on 10/24/1944 in the Battle off Samara. Crewmen were swimming beside a raft.', 'Walking / surfing', 'Free diving & spearfishing', 'Pearl diving from lugger Whyalla', 'Fishing inside net', 'Finning the shark that bit him', '25-foot cabin cruiser Happy Jack sank in heavy seas', 'Swimming. Passer-by, Len Bedford, heard him shriek , saw shark leap from the water & swimmer disappeared', 'Fishing from shore', 'Washing clothes on stairs', 'Swimming in midriver near sewage outlet & 400 m from a slaughterhouse', 'Swept overboard', 'Riding horseback across the creek', 'boat capsized', 'Fishing for octopus', 'Fishing, setting nets', 'Unknown, but it was said to be the \"First known attack in Sydney Harbour\"', 'Carrying a supposedly dead shark by its mouth', 'Fell oveboard', 'Surfing / Wading', \"Fell off surfboard 20' from shore\", 'American minesweeper USS YMS-350 lost in a typhoon - swimming to shore', 'Surfing (sitting on his board)', 'Jumping in the waves', 'Cargo ship El Gamil entroute Suez to Yemen (Aden) when her cargo shifted and she sank. 19 Egyption sailors jumped into the water and swam for several hours before being bitten by sharks', 'Competing in the Woodvale Atlantic Rowing Race', 'Commercial diver (submerged or treading water)', 'Swimming ashore from fishing boat swamped and sunk by a squall', 'Net fishing', 'The cutter Francis Adams foundered', 'Netting menhaden, sharks caught in net', 'Pacific Seafarer of US Navy', 'Skindiving,', 'Fell overboard from USS Ward', 'Fishing from surfski', 'Free diving with a pod of dolphins', 'Spearfishing, speared fish retreated to cave where shark grabbed his arm', 'Swimming out to porpoises ', 'Ferry boat Dona Paz with 4431 passengers exploded & caught fire when she collided with an  oil tanker ', 'Gloucester fishing schooner run down', 'Surfing / treading water', 'boat with 46 people on board capsized', 'Fell from cliff while fishing & disappeared in strong current', 'Sinking of the dredge World Atlas', 'Clinging to shipwrecked junk', 'Conducting a promotional film project for the Gemini space program (a practice astronaut recovery)', 'Canoe capsized by shark', 'Resting on surfboard', 'On expedition filming a feature movie & standing on tripod', 'Skindiving for specimens', 'Free diving for abalone (surfacing)', 'Floating near boat & observing bioluminesce', 'Shark diving', 'Body surfing, stood up on sandbar', 'Sea disaster, wreck of the Alfred Watts', 'Placed hand in disemboweled shark\\x92s jaws', 'Fishing for red fish', 'Standing / Surfing', 'Jumped overboard after murdering 2 shipmates', 'Skin diving for trepang but at surface next to the boat', 'small boat', 'Lying prone on surfboard', 'Pulling anchor', 'Sea Disaster, canoes capsized in storm', 'He was fighting a shark when his boat capsized & he disappeared', 'Swimming or boogie boarding', 'Swimming ashore after launch capsized', 'Spearfishing & had just speared a ulua', 'Jumped into river', 'Diving / UW photography', \"Zosimo & his son, Jeffrey Popa, failed to return from overnight fishing trip in a 14' boat, Boat apparently sank, debris recovered but his son & boat were never found\", 'U.S. Airforce C124 enroute from Hickham Air Base to Japan went down. The 3 survivors fashioned raft from mailbags  & were rescued 3 days after the crash.', 'Attempting to swim across the Atlantic Ocean', 'Resting on body board', 'Fishing for the shark that killed George Lundberg', 'Bathing in knee-deep water', 'Fishing?', 'Shell diving', 'Shell Diving', 'Swimming, wearing black wetsuit & swim fins', 'Swimming, towing a kayak', 'Fishing, fell in water & swimming strongly to shore', 'Fell from wharf into water & attacked immediately', 'Skindiving for abalone (but at surface)', 'Surfing, fell off surfboard', 'Fell overboard?', 'Filming a documentary', 'Surfing with dolphins', 'The troopship Britannia was sunk by the German raider Thor', 'Hospital Ship Centaur torpedoed & sunk by the Japanese submarine I-177', \"Fishing, caught a 15' shark & took it onboard\", 'Surf fishing, wading ', 'Air disaster. Flash Airlines Boeing 737 crashed into the Red Sea', 'Bathing in 2 feet of water', 'SUP', 'Longline fishing for sharks', 'Diving for crayfish', 'Paddling a canoe', 'Fishing in knee-deep water', \"a corsair's boat was overturned\", 'H.M.S. Cornwall & H.M.S.Dorsetshire sunk by Japanese dive bombers. Officers & men in the water formed a circle with 60 of their dead in the center for 36 hours', 'Attempting to free the shark', 'Attempting to remove fishing net from submerged object', 'Feeding fish', 'Fell overboard from US Navy PC boat', 'Diving / Kissing the shark', 'Human head found in shark caught by British steamer Syria', 'Shark fishing, knocked overboard', 'After rowing skiff was holed by shark, he was attempting to swim ashore', 'Swimming after harpooned whale capsized boat', 'Copra vessel with 19 on board was wrecked in a squall', 'A barque wrecked', 'Free diving  & spearfishing (submerged)', 'Oyster fishing', 'Crossing river on a raft', 'Transatlantic Rowing', 'Adrift on a raft ', 'Wrangling a shark', \"Boat capsized between O'ahu & Molokai\", 'Wakeboarding', 'Shipwrecked; adrift on raft for 2 days & 2 nights', 'Diving ', 'Free diving / Spearfishing', 'Body boarding', 'Capsized fishing boat', 'Swimming 10 m from shore', 'Retrieving bait box that had fallen overboard', 'Shipwrecked pearling schooner', 'Spearfishing, but standing in knee-deep water', 'Spear fishing, removing fish from spear', 'Tagging sharks', 'Swimming after a tennis ball', 'Swimming, towing the shark', 'Free diving (but on surface)', 'S.S. Marine Sulphur Queen, laden with molten sulphur was bound from Beaumont, Texas for Norfolk, VA, when she disappeared with 39 on board', 'Removing shark from net', 'Fell overboard & swimming', 'On a float', 'Standing in waist-deep water, helping his father tend a gill net containing dead fish', 'Spearfishing, holding mesh bag with speared fish', 'R5D aircraft went down with 29 on board', 'C47 aircraft carrying 5,000 lbs of ice ditched in the sea', 'A group of survivors on a raft for 17-days', 'Aircraft exploded', 'Spearfishing, hunting crayfish', 'Columbian petrol barge Rio Atrato burned and sank', 'Swimming / surfing', 'Fishing for sharks', 'Touching a shark', 'Free diving & spearfishing (descending)', 'Freediving', 'Stuffing a shark into an automobile', 'Sitting in the water', 'Working on the bridge when he fell into the river', 'Fell into water while attempting to boat a swordfish', 'Helping men land a shark', 'Line fishing from Lakotoi, saw shoal of fish, dived overboard, had speared second fish & surfaced for air', 'Dived naked into the water on a bet', 'Spearfishing on scuba', 'Rowing an inflatable dinghy', 'Body surfing', 'Fell overboard from sponge vessel', 'Examining netted shark, that had been shot', 'Surf bathing', 'Sailing', 'Fell oveboard from steamer Wanderer', 'Collecting aquarium specimens', 'Cargo ship Dara sank after collision with another ship during a severe storm', 'Spearfishing, speared a small shark', 'Commercial fishing vessel, Ev-nn, struck object & sank. Ken Crosby and  Jame & Ann Dumas adrift on makeshift raft.', 'Adrift after the sinking of the motor yacht Princess Dianne', '3,909-ton Panamanian freighter Chieh Lee sank in a typhoon', 'Ejected from F3H-2 aircraft ', 'Lobster diving using Scuba', 'Spearfishing (but on surface)', 'Scuba diving (but on surface)', 'Diving off wharf', 'Swimming in canal', 'Fishing ', 'Free diving for sinkers', 'Fell off banana boat', 'Dragging stranded shark into deeper water', 'Swimming from the New Venture ', 'Kayaking / Fishing', 'Abandoning burning steamship Don Juan', 'Kakaying', 'Standing in chest-deep water', 'Bathing', 'Thrown overboard', 'Abalone diving using Hookah (resting on the surface)', 'Kayaking (returning from spearfishing)', 'Adrift on refugee raft', 'Wading to shore after surfing', 'Floating on raft', 'Italian liner Principessa Mafalda sank', ' ', 'Drift fishing', 'Gigging for flounder', 'Wade fishing', 'Picking up shark by the tail', 'Canoe capsized with 10 occupants, 8 survived,  Hamilton swam off to seek help', 'Sea Disaster, sinking of the motorship Wingate', 'Floating in inner tube', 'Diving for pearls', 'Standing, collecting bananas', 'Watching the shark feeding on a dead pinniped', 'Seining for bait, standing in chest-deep water', 'Hookah diving for pen shells ', 'Collecting fish in military trap when bitten by captured shark that had been shot by soldiers with Garten', 'Body surfing or Boogie boarding', 'A dhow capsized', 'Fishing, had just speared a ulua', 'Reached out to disentangle rope & fell overboard', 'Fishing, thrown into water by heavy sea, clinging to rocks at the water line', '3 men & 2 boys picked up wearing life jackets and with inner tube', 'Treading water, waiting for a wave', \"During a shark fishing tournament, the 18' Boatem was capsized by waves, throwing 3 men into the water \", 'Walking in surf', 'Ship lay at anchor & man was working on its rudder', 'Hunting crayfish', 'Skindiving', 'Floating on a small orange raft ', 'Spear fishing', 'Diving, feeding sharks', 'Swimming between boats', \"Explosion destroyed 28' boat, survivors in the water \", \"Captured Allied soldiers were squeezed into 3' bamboo pig baskets & fed to waiting sharks\", 'Climbing back on ship', 'Swimming from shore to anchored sailboat', \"Competing in U/W endurance record, standing beside drum in 10' of water\", 'SS Ethel Skakel foundered in Central America Hurricane of 1941', 'Boat swamped', '\"Swimming vigorously\"', 'The steamship Bonnie Dundee lost in collision', 'Free diving, collecting shells', 'Clamming', 'Thrown from destroyer when shell hit', 'Sitting on surfboard', 'Swimming from foundered vessel', 'Fishing, sitting in stern of small boat, feet dangling in the water', 'Bitten after dhow shipwrecked', 'Floating on inner tube raft', 'Free diving for molluscs', 'Boating', 'Fishing for lobsters', 'Cleaning the side of a ship', 'Scuba diving / culling lionfish', 'Standing / surfing', '\"Climbing up to ship after repairing the stern in water\"', 'Netting pilchards', 'Dress diving, filming shark & pulling it through the water for a motion picture scene', 'Photographing fish', 'Ferry capsized', 'Diving for coins thrown from ship S.S. Moeraki', 'Sitting on side of dinghy mending a net', 'Shooting sharks ', 'Preparing to fish for jack-mackerel', 'Surfing, fell off surfboard & stepped on the shark.', 'Sponge divers', 'HBM Magpie foundered in a squall', 'Clinging to overturned rowing boat', \"Accidentally stood on hooked shark's tail before attempting to gut it \", 'Swimming / jumping off a jetty', 'Swimming to mail boat', 'Free diving for abalone from Zodiac (submerged)', 'Pearl diving from lugger', 'HMS Victoria collided with the HMS Camperdown', 'Free diving or wading back to shore', 'Washing cooking pans', 'Wreck of the 1689-ton Portuguese  coaster Angoche', 'Jumped overboard to rescue a man', 'Boogie boarding', 'Photographing the shark', 'Diving, retrieving film package from Titan 3C rocket', 'Thrashing the water / imitating the shark victim from \"Jaws\"', 'Scuba diving ', 'Removing fish from a trap', 'Dutch merchant ship Zaandam torpedoed  by the U-174 amidships, sank & dozens of survivors took to rafts & boats. One man, Izzi, who drifted 83 days on a raft related that sharks attacked many men in the water when the ship went down', \"Attempting to lasso shark's tail\", 'Dived onto shark from floating stage', 'Swimming at edge of channel', 'British cruiser Dunedin torpedoed & sunk by the U-124', 'Boat exploded', 'Diving for coins', 'Dived overboard & was swimming near stern of trawler', 'Fishing from a small boat & put his hand in the water while holding a dead fish', 'Windsurfing', 'Diving (Helmet) for sponges', 'Dynamiting fish', 'Fell off aircraft carrier', 'Finning the shark', 'Body boarding ', 'Spearfishing / scuba diving', 'Fishing for turtles', 'Fishing for snoek & yellowtail', 'Fishing in shoulder-deep water', 'Wading in school of baitfish', 'Scooping prawns', 'Spearfishing / Scuba diving', 'Scuba diving in aquarium tank', 'Sea disaster : Wreck of the Taiaroa', 'Swimming to canoe', 'Fishing from prawn trawler', 'Murdered by Thai pirates', 'Swimming in the channel', 'Fishing for trout ', 'Swimming /  Whale Watching', 'cargo ship Southern Isle sank at 04h00', 'Wading', 'Commercial Salvage Diving', 'The steamer Tahiti collided with the ferry Greycliffe', 'Swimming alongside NOAA research vessel Discoverer', 'Diving', 'Photo shoot', 'Washed overboard by swell', 'Fishing (Drowned 2-Apr-2002)', 'Pulling hooked salmon to boat', 'Fell overboard, hanging onto lifebuoy', 'Collecting fish ', 'Filming', 'Attempting to rescue a shark', 'Standing, watching seine netters', 'Wading, netting fish', 'Air Disaster', 'Longling fishing', 'Swimming alongside the schooner Catherine Wilcox', 'Bather', 'Jumped overboard ', 'Swimming ashore from capsized boat', 'Body boarding or surfing', 'Spearfishing, Smith  & Walker touched shark with tip of their guns', 'Wading after stray fish from seine netter\\x92s catch', 'Bathing close inshore', 'Collecting fish from net', 'Standing / Wading', 'Esso Bolivar was torpedoed & shelled by the German submarine U-126', 'Parachuted from balloon', 'Feeding stingrays?', 'A father bathing his smallest daughter when the shark bumped her out of his arms and carried her into deep water', 'Playing with an air mattress', 'Diving for sea urchins', 'Free diving for trochus', 'Fishing (trolling)', 'Fishing, when line became snagged on rock & he dived into water to free it ', 'Scuba diving & filming', 'Washing sand off a speared fish', 'Fell overboard from the ship Gem', 'Wading with surfboard', 'Free diving for abalone', 'Wading / Surfing', 'Free diving for trochus ', 'Gathering shells', 'Swept off deck of S.S.Frontenac enroute from West Indies to US', 'Hard hat diving, laying some charge of powder', 'Kayak Fishing', 'Swimming on sandbar adjacent to channel', 'Kayak fishing for sharks', 'Attempting to rescue drowning man', 'Diving for lobsters', 'Diving off jetty', 'Anti-sabotage night dive exercise alongside destroyer (Scuba diving)', 'Snorkeling', 'Spearing a shark', 'Spearfishing, free diving, possibly ascended into path of cruising shark', '14 m prawn trawler New Venture capsized  & sank in heavy seas Three people in the water', 'Wreck of the 150-ton brig Maria', 'Boogie boarding, kicked at object in the water', 'Jumped overboard and swimming', 'Body-boarding', 'Sittting in water with his child', 'Petting captive sharks', 'B-24 aircraft crashed  into the sea', 'Hoisting shark aboard fishing boat', 'Swimming from naptha launch after a day of fishing', 'Standing, holding shark pup', 'Floating', 'The 426-ton cargo ship Mia, laden with cement, capsized in heavy seas ', 'Bodyboarding', 'Boat with 5 men capsized while returning to the Amerique', 'Swimming after falling overboard', 'Tandem surfing', \"Sinking of the 40' Esperanza off St. Maartin with 36 refugees on board\", 'Dog paddling or standing', \"Fishing - 'tag & release'\", 'Swimming to shore after a squall  capsized their motorized shark fishing boat', 'Rescuing seaman after ship sunk by German raider', 'Swimming with board', 'Paddling on kneeboard', 'Wreck / Technical diving', 'Dived into sea from launch & bitten immediately', 'Slipped off rocks and fell into the water', 'Rolled off raft', 'Fishing, removing the shark from his line', 'The schooner Elizabeth, bound from Bluefields, Nicaragua to the river port of San Carlos foundered', 'Five men on makeshift raft after their 10 m fishing boat  capsized and sank in rough seas. Survivors rescued after  7.5 hours in the water', 'Inflatable boat', 'Washed overboard from the barque Mary Eady', 'Wading or swimming', 'Boat of the Resolution capsized in the breakers', 'Wreck of the USS Somers', 'Canoeing', 'Diving, gathering shellfish', 'Spearfishing or fishing', 'Swimming ashore from swamped 13-ft boat', 'Retrieving meat from a cage in the water', 'Fell overboard from SS Ripley Castle', 'Bathing with sister', 'Paddle Skiing', 'Restraining a beached shark', 'Dived overboard to check propeller of US Navy motor torpedo boat', 'Parachuted into Pacific', 'Fishing, trying to catch the end of his fishing line', 'Fishing for bluefish, shark leapt into dory', 'Fishing with hand line tied to wrist & was pulled into the water', 'Air Disaster - Piper aircraft crashed into the sea, killing all on board', 'Pearl diving, but standing in the water', 'Swimming on surface', 'Free diving / spearfishing, from paddleboard & floating on the surface', \"Ship's boat capsized in squall, captain & 2 sailors clinging onto hull\", 'Fishing for shrimp', ' a canoe was pursuing a schooner that had forcibily abducted 5 young girls', 'Fishing in ankle-deep water', 'Fishing from Surfboard', 'Paddle-boarding', 'Net fishing, picking catch from the net', 'Washed overboard into school of fish', 'Tech diving ', 'Air disaster: crash of Air France Super Constellation ', 'Fishing from paddleski', 'Filming & feeding captive sharks', 'Canoe swamped, swimming back to canoe', 'Fishing for white shark', 'Swept out to sea by the tsunami, she clung  to a log for 24 hours', 'German raider Kormoran was sunk in an engagement with HMAS Sydney', 'Longline fishing', 'Attacked shark with fists', \"Holding shark's tail \", 'Hurricane & Tidal Wave', 'Freedom swimming', 'Feeding a shark', 'Fishing for tarpon', 'Jumped overboard while intoxicated', 'Survived US Naval aircraft crash, climbing onboard rescue vessel when he fell back into sea ', 'Chumming for white sharks', 'Swimming (lead swimmer in race)', 'Free diving Spearfishing', 'Wading to dinghy, carrying his son', 'Swimming in fish tank', 'Playing', 'Bathing in waist-deep water', \"Pushed surfmat of a young girl out of the shark's path, drawing shark's attention to his own board\", 'Fishing in waist-deep water', 'Jumped overboard from torpedoed Panamanian freighter', 'Kite boarding', 'Boat capsized', 'Jet skiing', 'Standing in knee-deep water', 'Swimming from camp', 'Aircraft crashed into sea', 'Diving, retrieving fish caught in net ', 'Fishing with dynamite', 'Scurfing (surfboard being  towed behind a boat)', 'Surfing (or sailboarding)', 'Floating on his back', 'Diving & fishing with net', 'Small boat with 2 men onboard hit a submerged coral formation. Men began swimming to shore', '2 messboys (Jeppsen) & Tony Latona (13) were playing on the afterdeck of the Danish ship Grete Maersk. Jeppsen fell overboard, Latona threw a lifebelt then jumped in to help him. Ship didn\\x92t notice they were missing', 'Surf skiing', 'Bathing alongside ship', 'Washed overboard', 'Bathing or body surfing ', 'Wreck of the schooner Pohoiki ', 'Cruising', 'Feeding sharks', 'Collecting ornamental fish', 'Spearfishing, Scuba diving', 'Sunbathing on beach when he saw child being attacked by the shark', \"Fell from his father's back into the water\", 'Dress diving', 'SCUBA diving', 'Surfing, sitting on board', 'Burning of the S.S. Missouri', 'Crawling', 'Fishing from dory, shark upset boat & he fell into the water', 'Swimming naked near a date palm where many dates fell into the water', 'Hauling dead shark aboard, when another shark leapt out of the water & bit him', 'Wreck of the Aphrodite', 'Testing classified underwater electronic gear for Raytheon Corporation, vessel torn apart by explosion', 'Fishing / diving', 'Fell overboard & rescuer', 'Swimming around anchored ship', 'Wading to shore from his boat', 'Spearfishing / Scuba diving (at surface)', 'Playing in knee-deep water', 'Standing / Snorkeling', 'Jumping', 'Rowing toward snapper grounds', 'Catching a turtle', 'Surfing', 'Playing volleyball with friends', 'Fell overboard', 'Ditched aircraft, 3 men in the water. Swam for 31 hours', 'Air/Sea Disaster', 'Lobstering', 'Observing a shark feeding on a carcass of a humpback whale', 'Catching sharks under government contract', 'Vessel capsized, wading ashore carrying an oar', 'Setting crayfish pots', 'Swimming, ducking for shells in water 0.9 m deep', 'Jerked overboard while pole fishing for tuna', \"On board 51' fishing vessel One Ki\", 'Diving (Hookah)', 'Fishing boat swamped in storm', 'Row boat (from the gunboat Elcano) was sinking, put finger in hole', 'Spearfishing, but swimming at surface', 'Commercial spearfishing', 'Greek steamship Lakonia caught fire, 98 of her 646 passengers, and 30 of her crew of 376 perished', 'Fishing, walking in river to cast', 'Fishing for sharks when he became entangled in net & fell overboard', 'Torpedoed & burning British  light cruiser with a crew of 450 men', 'Swimming / Wading', 'Spearfishing, carrying his catch', 'Dynamite fishing', 'Standing on his hands', 'Collecting beche-de-mer', 'Fishing for pompano', \"Bathing in 3' to 4' of water\", 'Snorkeling \\x96 hunting crayfish and abalone', 'Removing shark from net ', 'Shrimping', 'Beach seine netting', 'She was on a ship that was torpedoes & was in the water awaiting rescue', 'Arsinoe, a French tanker', 'Taking catch from a fish weir in which the shark was snared', \"Standing on landed shark's tail\", 'Diving for trochus', 'Collecting marine specimens', 'Probabable drowning', 'NSB Meshing', 'Surf paddling', 'Snorkeling, carrying a speared fish in her hand', 'Fishing, casting in the surf', 'Bathing in river', 'Washing', 'Netting sharks', 'Bathing alongside US Naval ship', 'Scuba diving, hand feeding sharks', 'Yacht race', 'Swimming, using bundles of sticks as raft', 'Paddle-skiing', 'Small boat swamped, 4  people swimming to shore but he fell behind the other 3 and vanished', 'Reviving a sedated shark', 'Crossing the river mouth', 'Free diving / Photographing pilot whales', 'Rowing', 'Scuba diving for lobsters', 'Man fell overboard from ship. Those on board threw a rope to him with a wooden block & were pulling him to the ship', 'Body surfing?', 'Fishing, standing in waist-deep water', \"Sitting in 3' of water\", 'Casting a net', 'Board sailing', 'Spent 8 days in dinghy', 'Measuring sharks', 'Swimming with mask & snorkel', 'Free diving / spearfishing (resting on the surface)', 'Conducting research', 'ship William Penn grounded & broke apart', 'Treading water', \"Fishing, stepped on hooked shark's head\", 'The 2379-ton French steamer La Seyne collied with British steamer Onda & sank in minutes. Passengers jumped overboard expecting to be picked up by Onda\\x92s boats', \"Fishing, removing gaff from shark's mouth\", 'His balloon crashed in the harbor', 'Diving into water', 'Swimming & splashing', 'Inebriated, woke from sleep and fell off deck into the water ', \"Overcome by CO fumes, fell overboard from 36' fishing cruiser & prop slashed arm\", 'Spearfishing, dived to pick up a float line', 'Removing shark from a trap', 'Surf fishing', 'Speared a grouper, saw shark but it came for him instead of the fish so he fired spear into shark\\x92s mouth. Then shark took grouper but unable to swallow because of the spear in its mouth.', 'Survived crash of two-engine  C-46 transport plane carrying 62 migrant workers from Puerto Rico to USA ', 'The 6711-ton American freighter & troop transport Cape San Juan was torpedoed by the Japanese submarine I-21', 'Washed off freighter Huncliff by a freak wave', 'Boat capsized, clinging to line', \"63' fishing boat Sno' Bay foundered\", 'Lying on surfboard', 'Fishing schooner Jose Luis foundered', 'Fishing / Wading', 'Fishing, speared shark upset canoe & man fell in water', 'Fell overboard from a frigate & was swallowed by a shark. The captain fired a gun at the shark, and \"the creature cast the man out of his throat.\"', 'Free diving, collecting sand dollars', 'Spearfishing, had fish on his spear', 'Scallop diving on hookah', 'Spearfishing / Free diving', 'Fly fishing', 'Adrift in a life jacket', 'Fishing for mackerel', 'Boat Miss Becky  sank 12 miles from shore', 'In boat being towed by ship, Karnak', 'Skindiving, fish at belt', 'Swimming / escaping imprisonment ', 'A 75-ton  Japanese fishing ship was sunk by  Chinese Nationalist gunboat, shipwrecked men were clinging to debris', 'The shrimper Loless Maurine capsized in heavy seas & the men were swimming ashore  ', 'Attempting to retreive a dinghy', 'Underwater photography', 'Spearfishing, shot a turtle', 'Boeing 757 enroute from Porta Plata plunged into the sea', 'Paddling a surfboat', 'Kayak fishing', 'Dismantling cable buoys of the cable ship All America', \"Diving in Sharkey's Reef restaurant\\x92s aquarium\", 'Jumped overboard from Norwegian steamship Venator', 'Spearing fish', 'Hilo', 'Fell overboard ', 'On 6-Nov-1942, the German submarine U-68 sank the City of Cairo 5 days from Cape Town, survivors took to lifeboats & rafts. On the 15th day, a fireman jumped over the stern & was taken by sharks', 'Swimming in pool formed by construction of a wharf', 'Photographing sharks underwater using Scuba', 'Swimming between  anchored  pearling luggers', 'Canoe swamped', 'Free-diving', 'Fishing, slipped on rocks & fell into sea', 'Swimming near anchored ship', 'yachting accident', 'U.S. Airforce crewman reported missing after bailing out of jet', 'HMAS Parramatta torpedoed & sunk by the U-559', 'The Cuban freighter Libertad was torpedoed and sunk by the German submarine U-129', 'Leicester abandoned in a hurricane', 'Floating on air mattress', 'Bathing/Swimming', 'Diving for trochus shell', 'Diving for beche-de-mer from lugger', 'Seine netting', 'Hookah diving for abalone (submerged)', 'Swimming with speared fish', 'Launching a boat', 'Netting shrimp', 'Working near fish traps', 'Surfing (lying prone on his board)', 'Diving for pearl shell', 'Trailing hand in the water', 'Paddling rescue ski', 'Swimming, attempting to rescue a girl  believed to be drowning', 'Swimming / shipwreck', 'Sea Disaster, sinking of the  SS Vestris', 'His ship, the US destroyer Duncan DD 485, had been  sunk by crossfire from Japanese warships. He was wearing a kapok lifejacket & using 2 aluminum powder tins for floatation  ', 'Jumped off surfboard & landed on the shark', 'Fishing for tuna', 'Fishing for snappers & cleaning mullet. Put mullet over side of boat to wash it', 'Touching sharks', 'Paddleskiing', 'Standing in inner tube', 'The MV Dona Marilyn sank in Typhoon Unsang with the loss of 389 lives', 'Fell overboard, prop slashed arm', 'Traveling by boat', 'Leaving the water', 'Spearfishing using Scuba', 'Scuba Diving', 'Fishing for prawns', 'Swimming in strong current with 3 others when he disappeared', 'Hookah diving', 'Surf-fishing', 'seaplane Columbus ditched in the sea', \"Fishing, standing in 2' of water\", 'Wade Fishing', 'Bending over', 'Cleaning fish', 'Skin diving ', '43-ton schooner Irene capsized & sank', 'Sleeping in anchored boat', 'Lashing logs together when he fell into the water', 'Hunting seashells', 'Free diving ', 'Scuba diving & U/W photography', 'Pulling shark from the water', 'Swimming / treading water', 'Net-fishing', 'Swimming, after sailboat capsized', 'Competing in a light tackle game fishing', 'Removing shark from a net', 'Fishing, holding fish', 'Murdered', 'Wreck of the Sovereign', 'Surfing on air mattress', 'Anti-Aircraft cruiser USS Atlanta (CL,-05) travelling in convoy after the Battle of Midway, encountered a Japanese flotilla  (Battle of Guadalcanal) &, heavily damaged by gunfire, she was lost off Lunga Point. Victim was swimming when bitten.', 'Collecting fish by lamplight in gully', 'Rescuing', \"Onboard 21' powerboat that capsized in rough seas\", 'Attempted to return injured shark to the sea', 'Standing on ship deck', 'Fishing (trolling)  from canoe', '.', 'Spearfishing', 'Bathing with her mother', 'Sitting on gunwale of boat', 'Bathing or washing', 'Exercising his dog in the shallows', 'Swimming or wading out  to warn bathers that a shark had been seen', 'Lifeboat capsized', 'Surfing (or body boarding)', 'The schooner Tahitienne foundered in a hurricane', 'Snorkeling (filming the sardine run)', 'Snorkeling on surface', 'Fishing, on charter boat Silver Dollar', 'Sea disaster, foundering of the cargo vessle M/V Dorolonda', 'Being pulled to shore from wreck of 25-ton fishing vessel Alan S', 'The boat Caribou II sank', 'Fishing for kob', 'USS Hoel DD 533 sunk on 10/24/1944 in the Battle off Samar. 2 crewmen were swimmng alongside a floater net &', 'Surfing / Swimming', 'Wading, knocked down & swept away by large waves', 'Towing her sister on plastic ski board', 'Ran into the water', 'Taking wife to beach & about 1 m from the shore', 'Boat stopped to repair electric pump', 'Free diving, hunting crayfish', 'Stamding', 'Dragging a shark', 'Investigating shark sighting', 'The passenger ship Pioneer Cebu  capsized & sank in Typhoon Irma', 'Escaping from Alacatraz', 'Spearfishing & diving for paua', 'Chumming for sharks', 'When  a deckhand  jumped overboard, McIver dived after him with a rescue line.', 'Surfing, lying on surfboard', \"Scientific research (Dr. Sonny Gruber's student)\", 'Fishing, lifting shark out of craypot', 'Hunting crayfish ', 'American minesweeper USS YMS-472 foundered in a typhoon - swimming to shore', 'Fishing, Struck by another shark when removing shark from line', 'Jumped off rocks into white water', 'Japanese aircraft shot down. He was one of two survivors rescued by the U.S. destroyer Mugford', 'Lost his footing & fell overboard', 'Fishing / washing bait off hands', 'Fishing on a boat', 'Fishing, fell from rocks & disappeared', 'SUP Foil boarding', 'Playing with a frisbee in the shallows', 'Spearfishing / night diving', 'Abandoning burning ship Captain George in raging seas', 'Paddle boarding', 'Shipwreck', 'fishing boat exploded & sank', \"16' catamaran capsized previous night, occupants stayed with wreckage until morning, then attempted to swim ashore\", 'Diving on a wreck', 'Sinking of the ferryboat Dumaguete ', 'Walking out of the water after surfing', 'Free diving / Spearfishingat edge of reef', 'Flying Fortress bomber aircraft went down after daytime raid on Naples. He was swimming on the surface', 'Jumped into the water from a cliff', 'In water with diving seabirds', 'Swimming, towing an empty barrel', 'American cruiser Indianapolis torpedoed & sunk by the Japanese submarine I-58', 'Swimming (using a float)', 'Returning to shore, collided with shark', 'Scuba diving for bivalves', 'Killing a shark', 'Spearfishing using scuba & trailing a string of bleeding fish', 'Wading & pushing dinghy toward  the shallows', 'Standing ', 'Air disaster', 'Free diving for sponges', 'Wading, fishing for flounder', 'Spearfishing/ filming', 'Fleeing across a river', 'Diving by wharf', 'Hookah diving for abalone (descending)', \"Adrift, hanging onto cushion, after his 17' skiff ran out of gas & capsized 3 miles from shore\", 'Hunting seals', 'Swimming / floating', 'Sitting in shallows', 'Washing his pig in preparation for a religious ceremony', 'Rowing ', 'Abalone diving using Hookah (near calving whales)', 'Holding shark on leader & dangling it above the water', 'Hardhat diving from Japanese pearling lugger, Reiyo Maru', 'Diving for pen shells', 'Free diving for lobster', 'Shark Fishing', 'Knocked overboard', '3.3 m fishing boat sank. Treveluwe & Peter Hodgson (wearing lifejackets) were drifting in the current', \"Diving, repairing water main at depth of 90'\", 'Testing anti-shark cage', 'Ditched plane in the sea & were adrift on a rubber life raft. ', 'Air/Sea Disaster involving C-54 Air Force Transport No. 2686 with 37 on board', 'Suicide', 'Free diving, surveying a pipeline & examing cathodes under jetty', 'Standing, stepped on shark', 'Swimming in waist-deep water ', 'Diving for beche-de-mer ', 'Fishing for rock lobster', 'Loss of the schooner Nomad', 'Swept out to sea while net fishing', 'Adrift after ditching plane in the sea', '13 men in the water after sailboat capsized & sank', 'Boat, with 42 passengers onboard, capsized in rough seas', 'Floating on back', 'Paddling on surfboard or body board', 'Two canoes with 14 aboard blown to sea in a storm. While adrift for 3 week, one person fell overboard and was killed by a shark', \"Filming 5' blue shark\", 'Boat', 'Shark tagging', 'Aircraft ditched in the sea, swimming ashore', 'Attempting to drive shark from area', 'Swimming near shore', 'Scuba diving for abalone', 'Spearfishing (but treading water on the surface)', 'Fishing for squid', 'Floating ', 'Fell overboard from USS cruiser Tacoma', 'Free diving & spearfishing ', 'Lobster fishing', 'Light aircraft ditched at sea', \"Days before the surrender of Singapore, the 3 men escaped to Sumatra where they acquired a 17' dinghy. After 125 days at sea they drifted back to Sumatra\", '1446-ton Norwegian barque Errol, bound from Peru to Newcastle with 22 on board wrecked. Survivors shelterd on the wreck of the Annasona. Subsequently the Master, his wife & 4 children perished along with several crew. Survivors (5) were rescued 7/12/1909', 'Fell overboard from the steamship Chala', 'Jumped overboard to rescue companion', 'Attempting to ride a shark', 'Attempting to rescue woman seized by shark', 'Standing', 'Kneeling in the water', \"Lying on the bottom of a 16' dinghy\", 'Helmet diving in Miami Seaquarium', 'ship torpedoed 400 miles off the African coas. Man was clinging to hatch cover', 'Dragging stranded shark ashore', 'Fishing, hauling in a 5-lb snapper', 'Bathing alongside the American ship Thomas W. Sears', 'Surfing & filming dolphins', 'Fishing, catching snoek, Thyrsites atun', 'Small vessel with 13 men on board capsized crossing the bar and 6 men drowned.  The 7 survivors were swimming to shore', 'Free diving', 'Floating with life preserver after his boat foundered', 'Washing his feet', 'Lying in 2 feet of water', 'Diving for shells, saw shark circling wife near the surface, intercepted shark & it pulled him beneath the water', 'Surfing on \"chest board\" (boogie board?)', 'Floating, holding onto an oar after dory capsized', 'Swimming ', 'Attempting to drive shark away from the beach', 'Hiking on the beach', 'Swimming, after falling overboard', 'Swimming near jetty', 'Surfing, paddling seawards', 'Spearfishing, carrying fish on spear', 'Swimming in section of river used for washing clothes & cooking utensils', '3-masted steel barque Glenbank foundered during a cyclone', 'Bathing / standing', 'Swimming with fish attached to  belt', 'Free diving for abalone (submerged)', 'Fishing for squid aboard the trawler Shikishima-Maru when the shark leapt into the boat', 'Scuba diving (submerged)', 'Fishing from a kayak', 'Swimming at side of small boat', 'Attempting to drag hooked shark ashore by its tail', 'Their 9 m launch was run down by a 25,000-ton Japanese freighter  on the night of 3-11-1977 & they drifted, clinging to an icebox for 2 days', 'Boogie-boarding / swimming', 'Fell overboard from the Selim', 'Wading, when he stepped on the shark', 'A junk foundered', 'Swimming outside fishing net', 'Floating on an inflatable raft', 'Standing, washing rear wheels of his ambulance in ankle-deep water', 'Fishing (illegally)', 'Fishing boat', 'Portuguese Airliner with 9 people aboard went down. ', 'Freediving for trochus shell (submerged)', 'Surfing, but lying prone on his board', 'Swimming from fishing boat setting nets', 'Net fishing, fell into the water', 'Attempting to attract dolphins', 'Put foot inside mouth of supposedly dead shark', 'Thrown into water from fishing dinghy', 'Body surfing ', 'canoeing', 'Refused permission to cross on the ferry, he was swimming across the river', \"Fishing from 34' boat when pulled overboard by hooked shark\", 'Crayfishing', 'Spearfishing using scuba', 'Free diving for crayfish', 'Bathing in water 0.9 m deep', '\"Boat accident\"', 'Splashing in water ', 'Dangling feet in the water', '\"Crossing the river\"', 'Reported swept away by waves while gathering opihi', 'Scuba diving for abalone (at surface)', 'The steamships Thingvalla and Geiser collided', 'Hooking into a whale', 'Fell off surf ski', 'Night bathing', 'Jumped into the water', 'Swimming, carrying tin can with mail to steamer', 'Wreck of the steamship Birkenhead', 'Swimming or surfing', 'Body surfing / treading water', 'Surfing ', 'Fishing (rod & line)', 'Fishing boat with 4 men on board was rammed & capsized by  a shark, throwing all occupants into the water', 'Defecating in water beneath the docks', 'Free diving for trochus shell, swimming to dinghy', 'Swimming / snorkeling', 'Hookah Diving', 'S.S. Ramos foundered in a hurricane. Captain & 14 crew in water-logged lifeboats. ', 'Had just dived into water & was swimming', 'Swimming to shore after boat capsized by a squall', 'Playing / jumping', 'Explosion & sinking of the USS Juneau after being torpedoed by the submarine  I-85', 'Paddle-surfing', 'Scuba Diving for lobster (at surface)', 'Wreck of the schooner Driver', 'Free diving , but surfacing', 'Scuba diving', 'Diving for pearl', 'Swimming from makeshift raft  to life vest after fishing boat sank', 'Helping angler land a shark', 'Diving for abalone', \"Crouching in 2' of water\", 'Swimming alongside warship   Tsingt-ao', 'Attempting to chase shark out to sea', 'Fishing for rock lobsters', 'Wading / fishing & carrying a bag of fish', \"Swimming at surface through school of feeding 2.5' to 5\\x92 sharks\", 'Fishing from dinghy', 'Free diving & spearfishing (ascending)', 'Spearfishing ', 'Dragging banana seeds through the shallows', 'Sight-seeing', 'Murder victim', 'Sea disaster, wreck of the sloop Sara', 'Fell onto dead shark', 'Free diving but treading water at surface', 'Wading (shrimping)', 'On December 28, 1908, an earthquake, followed by tsunamis, destroyed coastal towns in Silcily and southern Italy, killing more than 100,000 people', 'Ferry boat sank', 'Tuna fishing, standing on stern platform that was submerged by waves', 'Spearfishing, but standing in the water', 'Wading?', 'B-24 crashed during a search mission. Survivors in raft for 47 days ', 'pêcheur de bichiques', 'Fishing, holding fish in right hand', 'Pleasure boating', 'Sitting in a boat', 'Fleet of canoes caught by a squall and charged by sharks.', 'yachtsman in a zodiac', 'Diving (shell maintenance)', 'Motor launch Baby Princesa capsized with 22 people on board', 'Goggle-diving for seaweeds, but standing in water', 'Fishing, hauling in net, shark in net', 'Fishing, attempted to take a netted shark', 'Body surfing or body boarding', 'Surf-skiing', 'Knocked into the water', 'Scuba diving (submerged riding a scooter)', 'Hardhat diving', 'Swimming near canoe', 'Shark watching', 'Surfing, but swimming to his board', \"Fishing from 32' boat\", 'Fell overboard from steamship Rio Grande', 'Deserting the bark Nazarene', 'Collecting shells', 'Free diving for scallops', 'Sailing on catamaran & fell into the water', 'Swimming / Body surfing', 'Removing hook from shark', 'Floating on his back in an inner tube', 'The 240-ton motor vessel Pilar II with 100 people on board capsized in high winds & rough seas', 'Wreck of the tug Magellan', 'wreck of the State Oil Company ship Permina', 'Walking', 'Fell into the water', 'Walking, carrying surfboard & stepped on shark', 'Fishing, boat capsized', 'Shark fishing on the Ricardo Astorga', 'Attempting to Kite surf from Egypt to Saudi Arabia', 'Swimming, towing surfboard', 'Surfing & dangling foot in water amid baitfish', 'Bodysurfing', 'Fishing, wading with string of fish', 'Floating in creek', 'Splashing in surf', 'Swimming / floating on his back', 'ship M.V. Rizal sank during typhoon', 'Scallop diving (using surface-supplied air & a POD) ', '4 men were bathing', 'Splashing', 'Kite-Boarding', 'Spearfishing & holding catch', 'Freedom Swimming', 'Treading for clams', 'Spearfishing, shark grabbed his white t-shirt and towed him ', 'Fishing from boat, Kaimamla', 'Spearfishing & lassoed shark', 'Shark fishing', 'Boogie Boarding', '   ', 'Swimming underneath house on pilings', 'Sculling', 'Fishing for bluefish', 'Murder', 'Playing ', 'Schooner sank during a storm', 'preparing to go skin diving', 'Watching seine netters with friends, one of whom picked up a netted shark', 'Helmet diving', 'Surf skiing ', 'Teasing a shark', 'Diving in tuna net', 'Fishing from market fishboat Sea Spray', 'Gaffing netted shark', 'A 210-ton brig was sunk by a Japanese submarine. Some of the survivors were machine-gunned & some were taken by sharks', 'In waist-deep water', 'Tzenny Chandris, a Greek freighter laden with scrap iron, foundered in heavy weather', 'Coming ashore on a hawser', 'Fell overboard from the Sobella', 'Swimming after his canoe capsized', 'Surf fishing / wading', 'Fishing  (trawling)', 'Dropping anchor', 'Spearfishing, but swimming on surface', 'Rowing a dinghy', 'Dry shelling', 'Standing in waist-deep water', 'Attempting to set underwater endurance record', 'Closed circuit diving (submerged). Diving to recover jettisoned packets of opium for police', 'Dived into a school of baitfish', 'Floating face down', 'Diving for sand dollars', 'Body Boarding', 'Swimming, after single-engine aircraft went down in the sea', 'Diving, recovering fish killed by dynamite', 'Grabbing shark for a selfie', \"Diving for trochus  from dinghy when seized by shark 6' below the surface\", 'Hand feeding sharks', 'Freediving, inspecting Kaunakakai wharf construction after blasting & dredging ', 'Floating or standing', 'On inflatable raft', 'Swimming from capsized pirogue', 'Standing on sandbar', 'Cleaning a tank', 'Spearfishing (Free diving)', 'Inspecting teeth of supposedly dead (hooked & shot) shark', 'The coastwise steamer San Basilio capsized in a typhoon', 'Diving for Abalone', 'Fell overboard from P&O steamship Arabia', 'Treading water/ Surfing', 'Dived overboard to retrieve dinghy', 'Among 31 survivors of crew from the sampan Fukulya Maru (which reached Thursday Island in rowing boat) was a man whose arm had been bitten off by shark. The sampan wrecked west of McArthur island ', 'Fishing boat swamped in a storm', 'Treading water while alongside capsized yacht', 'Diving, photographing sharks', 'Accidentally dragged overboard from the sampan Holokahana into school of yellowfin tuna', 'Fishing for bottom fish', 'Reaching for life preserver', 'Swimming with motor tube', 'Diving, attempting to retrieve body of drowning victim wedged between rocks', 'Kiteboarding', 'Air/Sea Disaster Pan-American Airlines Stratocruiser with 44 people onboard crashed into the sea', 'Crabbing', 'Diving for beche-de-mer', 'Adrift on raft after their ship was sunk by an Axis raider ', 'Fishing, probably with a net', 'Feeding mullet to sharks', 'Hauling in net with shark in it', 'Taking boat from California to Florida when it ran aground & he was swimming back to boat', 'Marathon swimming', 'Spearfishing / swimming on surface', 'Overturned skiff', 'Collecting dynamited fish', 'Boat capsized, swimming to shore', 'Yacht of Michael Howell capsized', 'Wreck of the Tweed', 'Diving for sponges', 'Spearfishing with Scuba gear', 'Washing himself', \"Lying prone in 2' of water\", 'Pearl diving', 'Gathering fish stunned by dynamite', 'Went to aid of child being menaced by the shark', 'Diving from the lugger San, operated by the Protector of the Aborigines', 'Walking in shallows', 'Cutter capsized', 'Spearfishing on scuba & transferring fish onto a stringer', 'Swimming a quarter mile offshore', 'Riding floatation device', 'Skin diving', 'Ocean racing', 'Swimming to shore from capsized sailboat', 'Angling', 'Scuba diving (ascending using scooter)', 'Swimming / Body Surfing', 'Hookah diving for abalone', 'Swimming near life raft', 'Fishing, hauling in fishing gear', 'Scuba diving & feeding fish', 'Attempting to rescue shipmate', 'Scuba diving, reportedly also spearfishing', 'Boogie boarding / wading', 'Spearfishing Competition', 'Swimming (recovering remains of Stilwell) ', 'Attempting to lasso a shark', 'Floating with life buoy after pilot launch capsized', 'Wreck of the 1308-ton Norwegian ship Auckland', \"12 of the Penang's crew were returning to the ship when their 12' dinghy capsized\", 'Fishing, standing in water washing fish', 'Swimming back from anchored sailboat', \"Swimming near jetty with 2' piece of wood\", 'Swimming with pod of dolphins', 'Accidentally thrown overboard & treading water while awaiting rescue', 'Sailing from Gingood, Misamis Oriental to Sagay (normally a 2-day voyage) capsized with 6 on board, three men were taken by sharks when they attempted to swim to shore.', 'Hand lining for shad', 'Adrift after wave swamped engine', 'Walking in chest-deep water', 'Spearfishing / freediving', 'Landing hooked shark in boat', 'Holding onto an inflatable boat', \"Fishing with hand net in 2' of water\", 'American schooner Orator capsized  ', 'Sinking of the ferryboat Bongbong 1', 'The 21,516-ton troopship Empress of Canada torpedoed and sunk by the Italian submarine Leonardo da Vinci', 'Sinking of the ferryboat Don Juan', 'Bottom fishing for lingcod & had hooked a fish', 'Swimming 3 miles offshore', '2 boats capsized', 'On boat, preparing to dive', 'Scuba diving & spearfishing ', 'Fishing, shark caught in his net', 'Kayaking ', 'Boogie boarding or Surfing', 'On a \"shark hunt\"', 'U-177 torpedoed & sank the troopship Nova Scotia', 'Fell from the jetty', 'Swimming after falling overboard from the sealing ship Vesper', 'In deep water about 100 yards from his ship', 'Crossing inlet in a boat, seen fighting sharks with his oar, sharks smashed boat', 'Motor boat Rebel Belle lost', 'male', 'Free diving / spearfishing, ', 'Cleaning hull of ship ', 'Surfing (pneumatic surfboard)', 'Playing on rock, slipped & fell into the water', 'Fishing for cod', 'Testing movie camera in full diving dress', 'Surfing or body surfing', '17 Maldivians adrift in open boat for 31 days', 'Surfing, paddling shorewards', 'Hunting turtle', 'Slapped shark on tail as it swam by', 'The USS Wahoo torpedoes & sank the Japanese troop transport Buyo Maru', 'Surfing, collided with shark', 'Diving / Filming', '90 European civilians, many women & children, were placed on the deck of a Japanese submarine that submerged when it was well offshore', 'The inter-island ferry Vula sank in heavy weather', 'Hunting sharks', 'Swimming from capsized boat', 'Touching the mouth of a supposedly dead shark', 'Hardhat diving ', 'Catching crabs', 'Swimming to shore from the Medic', 'boat capsized during filming', 'Swimming or Snorkeling', 'Diving from dinghy for trochus shell', 'Canoe with 3 men onboard sank', 'Surfing, but standing in water alongside board', 'The Ward liner Esperanza stranded during a gale & she leapt overboard to rescue her dog which had been swept overboard.', 'Freediving for abalone (at surface)', 'Paddle Boarding', 'Royal Hawaiian skymaster DC-6B aircraft went down with  58 passenger & crew', 'The Dwarka foundered', 'Attempting to rescue crew after whale upset their boat', 'Surfing, but treading water', 'Swimming after their boat capsized', \"40' fishing boat sank\", 'Free diving, working on U/W scenes for motion picture', 'British patrol boat 1250-ton HMS  Valerian foundered in a hurricane', 'Collecting crayfish', 'Bitten while cutting shark from net', 'Swimming to anchored boat', 'On life raft tethered to lifeboat. A seaman put hand over side to rinse a cup', 'Unknown, their unoccupied yawlboat was recovered', 'boat from the Austrian ship Elizabeth', 'Swimming to shore from capsized kayak', 'Kayaking', 'Fishing,  tarpon being chased by shark  leapt across his skiff, breaking it in half & Larkin became tangled in the net', 'The 168-ton Belmore foundered in heavy seas', 'Hunting lobsters in 2.4 m of water', 'Jumping in swells', 'Wreck of a sampam', 'Crew swimming alongside their anchored ship', 'Crouching in the water', 'Vessel caught fire & capsized, survivors in the water', 'Helping friend land hooked shark', 'Removing shark from tank in nightclub ', 'Body surfing & treading water', 'native boats sunk in storm', 'Fishing with a cast net', 'Swimming, when caught in heavy seas', 'Attaching a line at sea', 'Surf fishing in waist-deep water', 'Diving off pier & treading water', \"Spearfishing, holding 5' speared fish\", 'Swimming along side N.E.L. vessel Saluda', 'Fell overboard  from the Taiwanese fishing trawler Lien Cheng Feu ', 'Fishing for basking sharks', 'Scuba diving, but swimming on surface', 'American freighter Mormackite, bound from Buenos Aires for Baltimore, capsized & sank in heavy seas', 'Washing horses', 'Swimming with dog near canning factory', 'Jumped overboard', 'Playing on a sandbar', 'In rubber dinghy with Captain Eddie Rickenbacker for 21 days. ', 'Bathing near whaling ship (bark A. R. Tucker of New Bedford, Massachusetts)', 'Swimming beside launch', 'Filming underwater, carrying powerhead', 'No details', 'Playing in the surf', 'Attempting to catch a crocodile', 'Diving around anchored liner', 'Aircaft exploded', 'Moving a shark in a net ', 'Free diving for shell', 'Fishing & spearfishing', 'Swimming out to rescue swimmers in difficulty', 'Swimming, poaching abalone', 'Working prawn net', 'Bathing ', 'Swimming after boat became disabled', 'Washed into sea while picking opihi & attacked by 2 large sharks ', 'Attempting to land a boat from the Hinemoa', 'Oystering', 'Sinking of the M/V Mindoro during a typhoon', 'Windsurfing, but sitting on his board', 'Harassing a shark', 'Stand-Up Paddleboarding', 'Walking on reef', 'Cage Diving', 'Colombian  (Avianca) DC-4 airliner plunged into the sea 5 minutes after takeoff', 'Attempting to illegally enter the USA', 'Swimming near his boat', 'Fishing from shore, washed into the sea', 'Swimming to avoid capture', 'Swimming in hip-deep water', 'Swimming breast stoke', 'M.V. Tropical sank. Sole survivor rode oil drums for 8 days without food or water.', 'Fishing, hauling in a set line', 'Boat capsized, swimming ashore', 'Sailboarding, fell into water 100 yards outside the breakwater', 'Swimming/', 'Sea disaster', 'Fishing from launch, fell into net with shark', 'Fishing for whiting', 'Competing in spearfishing championship & towing dead fish', 'Fishing for perch', 'Swimming or paddle boarding', 'The passenger ship Kapuna was run down the ore carrier Ada Melmore', 'Swimming, poaching perlemoen', '\"Flying Tiger\" transport plane went down with 5 men onboard', 'Moving shark from tuna vessel when boat rolled, placing both man & shark in chest-deep water', 'The World Liberty and the tanker Mosli collided. The  Halcyon Breeze sent a lifeboat to the rescue, but it was smashed, throwing 6 men in the  water.', 'Gaffing & attempting to bring onboard a harpooned shark', 'Watching seals', 'Fisherman', 'Lifesaving exhibition', 'Washed off raft', 'Grabbed shark & threw it on deck', 'Washed off catamaran in the surf', 'Steamer Durao struck rock & filled, boats capsized, passengers & crew tried to swim to shore', 'Wade-fishing', 'Went overboard', 'Swimming, attacked at  surf carnival', 'Escaping from blackbirding vessel', 'Floating face-down in knee-deep water', 'Boarding a ship', 'Put foot inside a landed & supposedly dead shark', 'Crabbing (spearing crabs)', 'Fishing trawler Flavio Gioia ', 'Diving for trepang', 'Night diving', 'Salvaging a shipwreck', 'Free diving / spearfishing', 'Free diving with goggles', 'Foundering of the Israeli freighter Mezada', 'Fell overboard while fishing for sharks', 'boat from ship Josephine capsized in squall', 'The Christie V sank on 11/6/1988, survivors were adrift on a dinghy', 'Harpooned shark', 'British ship, Britannia,  was loading lumber. He was bathing', 'Fishing for snapper', 'Fell overboard from fishing schooner Halycon', 'Sitting', 'The 500-ton coastal trader Polurrian foundered ', 'Boat capsized?', 'Racing ski', 'Spearfishing, but walking carrying fish on end of speargun', 'Swimming, after boat swamped', 'S2F-1 airplane crashed immediately after carrier take-off', 'Paddling & sailing from Buenos Aires to Miami', 'Swimming & snorkeling', 'Lifesaving drill', 'Fishing, holding fish in his left hand', 'Attempting to kill a shark with explosives', 'Trochus diving, but floating on surface', 'Standing, gathering oysters', \"Skin diving. Grabbed shark's tail; shark turned & grabbed diver's ankle & began towing him to deep water\", 'Swimming to retrieve a flannel', 'Swimming crawl stroke', 'Searching for remains of  Dr. Marais', 'Floating on a raft', 'Diving?', 'S2N Navy scout plane went down, E.H. Almond & Lieut A.G. Reading in water', 'Kite Boarding', \"Adrift on a 4'  raft for 32 days\", 'Batin', 'Taken as he dived into the water', 'Scuba diving & spearfishing', 'USS Gambier Bay CVE-73  shelled & sunk  at 09h57 on 10/24/1944, by Japanes fleet enroute to attack the Allied landing force at Leyte.', 'Trying to catch a wounded bird', 'Wooden fishing boat', 'Hauling in net', 'Known as The Battle of the Bismarck Sea :  8 Japanese destroyers guarding a convoy of 8 transports were attacked by 129 Allied fighters, 207 bombers & 3 squadrons of the Royal Australian Air Force. ', 'Lying atop surfboard', 'Sinking of the cargo ship Mark Jason', 'Swimming behind sailboat', 'Swimming ashore from a \"filibuster\"', 'Fishing for blue sharks', \"Diving to untangle a crab trap line from boat's propeller\", 'Free diving / photography, kneeling on sand', 'Playing in the water', 'Dived for a coin', \"Bathing in 5' of water\", 'Shipwrecked', 'Swimming near pod of whales', 'Attempting to drive shark away from sailing regatta', 'Swimming underwater from crayfish cage to a fishing bait', 'Steamer Una wrecked with 75 laborers onboard. Survivors took to rafts & lifeboats.', 'Scuba Diving for scallops', 'Wreck of the steamship Sultan of Bombay', 'Swimming after his hat', 'Steinhart Aquarium', 'Surfng', 'Towing rubber dinghy', 'Fishing for yellowtail', 'Attempting to anesthetize shark', 'Harpooning turtles', 'Swimming, after falling off towed kneeboard', 'Japanese POW ship Arisan Maru with 1800 American prisoners of war on board bound for slave labor camps was torpedoed by an American submarine', 'Standing / Bathing', 'Swimming or snorkeling', 'On fishing boat & trailing hand in the water', 'Launching rowboat through the surf', 'Adrift on raft', 'Unknown', 'Diving, but on the surface when bitten by the shark', 'Swimming alongside yacht Mexico Fiesta', 'Dropped overboard', \"Sitting in bow of her father's 5 m boat\", 'Chasing shark out of bathing area while riding on a surf-ski', 'Riding a horse', 'Fishing in Alabama Deep Fishing Rodeo', 'Spearfishing on Scuba', 'Fishing for tunny', 'Swimming, naked', 'Fishing boat capsized ', 'Fishing, on a boat', 'Wreck of  large double sailing canoe', 'Standing on sandbank', 'Fishing from surf ski', 'Went over side of boat at trochus ground', 'Standing alongside surfboard', 'Spearfishing, shot a sandtiger shark. Cord to spear tangled round his legs & a wave washed him onto a reef.', 'Fishing, one of three fishermen swept into the sea by a large wave ', 'Diving for sinkers', 'Sea Disaster, sinking of the fishing  launch Mavis', 'Floating, after falling or jumping off the Standard Oil tanker Frederick W. Weller', 'Surfing amid a shoal of sharks', 'Spearfishing, carrying fish on belt', 'Attempting to escape by swimming to shore'}\n"
     ]
    }
   ],
   "source": [
    "#vamos ver como esta a coluna\n",
    "print(set(df['Activity']))\n",
    "\n",
    "#entendo que a coluna atividade nao oferece muitas opções de \"analise\" alem de exigir uma grande limpeza de dados"
   ]
  },
  {
   "cell_type": "code",
   "execution_count": 49,
   "metadata": {
    "collapsed": true
   },
   "outputs": [
    {
     "data": {
      "text/plain": [
       "Surfing            971\n",
       "Swimming           868\n",
       "Fishing            431\n",
       "Spearfishing       333\n",
       "Bathing            162\n",
       "Wading             149\n",
       "Diving             127\n",
       "Standing            99\n",
       "Snorkeling          89\n",
       "Scuba diving        76\n",
       "Body boarding       61\n",
       "Body surfing        49\n",
       "Swimming            47\n",
       "Kayaking            33\n",
       "Fell overboard      32\n",
       "Treading water      32\n",
       "Pearl diving        32\n",
       "Boogie boarding     29\n",
       "Free diving         29\n",
       "Windsurfing         19\n",
       "Name: Activity, dtype: int64"
      ]
     },
     "execution_count": 49,
     "metadata": {},
     "output_type": "execute_result"
    }
   ],
   "source": [
    "#verificando a qtde de ataques por atividade\n",
    "df['Activity'].value_counts().head(20)"
   ]
  },
  {
   "cell_type": "code",
   "execution_count": 50,
   "metadata": {},
   "outputs": [],
   "source": [
    "#dessa forma vou apenas substituir os valores nulos por desconhecido\n",
    "df['Activity'].fillna('Desconhecido', inplace=True)"
   ]
  },
  {
   "cell_type": "markdown",
   "metadata": {},
   "source": [
    "#### Corrigindo a coluna \"LOCATION\""
   ]
  },
  {
   "cell_type": "code",
   "execution_count": 51,
   "metadata": {
    "collapsed": true
   },
   "outputs": [
    {
     "name": "stdout",
     "output_type": "stream",
     "text": [
      "{nan, \"Second Beach, Port St. John's\", 'Havana Harbor', 'Ponce Inlet, Volusia County', 'Near Moreton Island in Moreton Bay', '750 miles off the African coast', 'Newcastle', 'Agulhas Banks', 'Key West Aquarium', 'Playas de Tijuana', 'Trieste', 'Mtunzini', 'Stono Inlet, near Charleston, Charleston County', 'Quy Nhon ', 'San Stefano', 'Stewart Island', 'Balian', 'Mzimvubu River mouth', 'Satellite  Beach, Brevard County', 'Daytona Beach, Volusia County'}\n"
     ]
    }
   ],
   "source": [
    "#vamos ver como esta a coluna, pegando apenas uma amostra com o sample\n",
    "print(set(df['Location'].sample(n=20)))"
   ]
  },
  {
   "cell_type": "code",
   "execution_count": 52,
   "metadata": {
    "collapsed": true
   },
   "outputs": [
    {
     "data": {
      "text/plain": [
       "New Smyrna Beach, Volusia County                   163\n",
       "Daytona Beach, Volusia County                       30\n",
       "Ponce Inlet, Volusia County                         20\n",
       "Melbourne Beach, Brevard County                     18\n",
       "Myrtle Beach, Horry County                          17\n",
       "                                                  ... \n",
       "Lakewood Campground, Grand Strand, Horry County      1\n",
       "Point Casuarina, Bunbury                             1\n",
       "Copacabana Beach, Acapulco                           1\n",
       "Yallingup                                            1\n",
       "Alongside the whaler Marianne                        1\n",
       "Name: Location, Length: 4106, dtype: int64"
      ]
     },
     "execution_count": 52,
     "metadata": {},
     "output_type": "execute_result"
    }
   ],
   "source": [
    "#verificando a qtde de ataque dos locais\n",
    "df['Location'].value_counts()"
   ]
  },
  {
   "cell_type": "markdown",
   "metadata": {},
   "source": [
    "#### Corrigindo a coluna \"AREA\""
   ]
  },
  {
   "cell_type": "code",
   "execution_count": 53,
   "metadata": {
    "collapsed": true
   },
   "outputs": [
    {
     "name": "stdout",
     "output_type": "stream",
     "text": [
      "{nan, 'Kuril Islands in the Pacific', 'Mersin Province', 'Transvaal', 'Bougainville (North Solomons)', 'San Blas coast', 'Taranto', 'Socotra Islands', '740 miles SE of Tarawa Atoll', 'Miyako Island', 'North Island', 'Eastern Catalona', 'Tongapatu Group', 'Lake Nicaragua (fresh water)', 'Corfu', 'Delta', 'Ascension Bay', ' Manila Bay', 'New Providence District', 'Yucatan Channel', ' Lau Province', 'Muala', 'Attica', 'Saint-Benoit', 'Genoa Province', 'Maine', 'Golfo de Venezia', 'Taitung ', 'Upolu Island', 'Mirs Bay ', 'Barlavento Islands', 'Saint-Gilles-les-Bains', 'Ehime Prefecture', 'Bora Bora', 'Port Louis Province', 'Reggio Calabria Province', 'Gulf of Lyons', 'Saint-Pierre', \"South Ch'ungch'ong Province\", ' La Libertad', 'Tamaulipas', 'St. Anne', 'New Jersey', 'CUBA', ' Split-Dalmatia Count,', 'Casamance', 'Coast Province', 'North Devon', 'Galica', 'Buenos Aires Province', 'Southern Province', 'Midway Atoll', 'Gulf of Panama', 'Moala Island', 'Southern District', 'Saint-Andre', 'Georges Bank', 'Mindoro Occidental', 'Singapore Harbor', 'Congreve Channel', 'Pagasitikos Gulf', 'Taveuni', '2 to 3 miles off Taboguilla Island, Pacific Ocean', 'Palawan', 'Khuzestan Province', 'Guadalcanal Province', 'Shizuoka Prefecture', 'Between Kwajalein Atoll & Johnston Island', 'Taipei Hsien', 'Makora-Ulawa Province', 'Maputo Province', 'East Wall', 'North & South Carolina', 'Red Sea State', 'Guanacaste', '200 nm southeast of Manila', 'Luzon Island', 'Off Vanua Levu', 'Cocos Island', 'Peter the Great Bay, Khasan, Primorsky Krai (Far East)', 'Masbate', 'Near Dakar, Cap Vert Peninsula', '150 miles offshore', 'Demerara County', 'PANAMA', 'Kadavu Island Group', '165  miles from Bermuda', 'Inhambe Province', 'Guantanamo Province', 'Simpson Bay', ' Primorje-Gorski Kotar County', 'Magdalena Department', 'Antsiranana Province', 'Bay of Maputu', 'Northern (Oro) Province', 'Great Exuma', 'Cienfuegos Province', 'Cyrenaica', 'New Providence ', 'Pennsylvania', 'Aichi Prefecture', 'Grand Cayman', 'North of Pernambuco, Brazil', 'Kingston Parish', 'Rio Grande Do Sul', 'Provence', 'Tyrrhenian Sea', 'Leyte', 'Connecticut', 'Oslo Fjord', 'Istria County', 'Rio Grande de Norte', 'Piraeus', 'Between Honiara & Isabel Island', 'Island of Kos', 'Northwest of Papua New Guinea', 'Liguaria', 'Los Vilos', ' New Jersey', 'Strait of Malacca', 'Worcestershire', 'Kagoshima Prefecture', \"250 miles southwest of O'ahu, Hawaii\", 'Tiburon Peninsula', 'Balearics', 'Thessaly', 'Mugla Province', 'Misamis Oriental', 'Conservatória District', 'Mediterranean Sea', 'Altagracia Province', 'Tyrrenian Sea', 'Tokyo Bay', 'Madang (WO)', 'Mindoro', 'Western District', 'Sea of Japan', 'Saint-Paul', 'San Carlos', 'Shefa Province', 'Nova Scotia', 'Apolima Strait', 'South Coast, East New Britain', ' Upolu Island', 'Merizo', 'Milne Bay Province', 'Balneário Camboriú', 'Kochi Prefecture', 'Bay of Biscay', 'Bay of Monaco', 'Bardestrand', 'Kwajalein Atoll', 'South of the Equator ', 'Inner Hebrides', 'Enroute from Suez to Aden (Yemen)', 'Viti Levu group', 'Western Australia', 'Leyte Island', 'KwaZulu-Natal', 'Johnston Atoll', 'Eronogo Region', 'Cap-Vert Peninsula', 'Saipan', 'Sants-Montjic', 'Western Luzon Island', 'Makira-Uluwa Province', 'Tamil Nadu', 'Lau Group', 'Abau Subdistrict,Central Province', 'Brindisi Province', 'Ancona Province', '400 miles southeast of Sri Lanka', 'Gaza', 'Marquesas', 'Beaufonds', \"L' Etang Salé-les-Bains\", 'Nicoya Peninsula', 'Rayong Province', 'British Colombia', 'Ganges-Brahmaputra delta', 'Bayelsa State', 'Norfolk', 'Shanghai', 'Saint-Paul ', 'East Yorkshire', 'English Channel', '10ºS, 142ºE', 'St. Andrew Parish', '180 miles southeast of Okinawa', ' Nusa Tenggara', 'French Southern Territories', 'Washington', 'Colón Province', 'Venice Province', 'Red Sea', 'Exuma Islands', 'Basrah City', 'Galapagos Islands', 'Between Australia & USA', 'Bay of Campeche', 'South Province', 'North Carolina', 'Paget', 'Off coast of Ecuador', 'South Sinai Peninsula', 'Cumberland', 'Cay Sal Bank', 'Arran', 'Batanes Provine', 'Camaguey Province', 'Queensland', 'Zambesi River', 'Off Thessaly', 'La Saline-les-Bains', 'Eastern Cape Province', 'Western Viscayas', 'Argyllshire', 'Ionian Sea', 'Off the western coast of peninsular Malaysia', ' Loyalty Islands', 'Gujarat', 'Near Puntarenas', 'Honiara', 'Kumamoto Prefecture', 'Moorea', 'Santo Domingo', 'Strait of Messina', 'South shore ', 'd\\x92Étang-Salé', 'Northern Province', 'Kagawa Prefecture', 'Saint-Leu', 'Western Area ', 'Chatham Islands', 'Victoria ', 'Gilbert Islands', 'Sanma Province', 'Phang nga Province', '25 km off the coast of Iran & 483km from mouth of Persian Gulf', 'Northern District', 'Boi Island, Victoria', 'Valpariso Province', 'Hua Hin', 'Istanbul', 'St Helena', 'Grand Turk Island', 'South Atlantic Ocean', 'Victoria', 'New Britain', 'New Britain, Bismarck Archipelago', 'Baatan', 'Southern Cyprus', 'Grand Bahama Island', 'Izo Islands', 'Bonin Islands', 'North Sumatra', 'In transit between Tinian and Leyte', '40 miles off Grand Bahama Island', 'Catalonia', 'Shatt-el-Arab River', 'Mombasa', 'Western Caroline Islands', 'Bocas del Toro', 'Rigo subdistrict', 'Westmoreland Parish', 'Hawaii', 'South Carolina', '600 nm west of the Canary Islands', 'Khánh Hòa Province', 'Saint-Joseph', 'Corfu Island', 'Off Cape Haitien', 'Nagasaki Prefecture', 'Grand Terre', 'New Ireland Province', 'Illeginni Atoll', 'Malaita Province', 'Fujairah Emirate', 'East of the Gulf of Aqaba', 'Viti Levu', 'Sainte-Suzanne', 'Curacao', 'Salerno Province', 'Muhafazat Hadramawt', 'Bimini', 'Cap Vert Peninsula', 'Inhambane Province', 'Tuscany', '22ºN, 88ºE', 'Canary Islands', 'Andaman Islands', 'Miyako', 'Niua ', 'Villa Clara Province', 'Abaco Islands', 'Lomaiviti  Island Group', 'Istria', 'Northwest of Viti Levu', 'Rhode Island', 'Camiguin Island', 'Western Area', 'Nice & Marseilles', 'Vita Levu', 'Matanzas Province (north coast)', 'Cheshire', 'In the English Channel ', 'Dodecanese Islands', 'Sinaloa', 'Málaga ', 'Alpes Maritime', 'Baja California Sur', 'Mercury Islands', '300 miles east of Luzon', 'Texas', 'Brittany', 'Great Exuma Island', 'Estuaire Province', 'Saint Gilles ', 'Bois-Blanc ', '9.35N 79.35W', 'Malaga', 'South Island', 'South Island, near Karitane north of Dunedin', \"Ha'api \", 'Northern Taiwan', 'Los Roques  Islands', 'Java', 'Saint Leu', 'Ambergris Caye', 'Tavenui', 'Between New Ireland & New Britain', 'Valencia', 'Cádiz', 'Westerm Australia', 'Red Sea Protectorate', 'Fishing Grounds', 'Northwest Italy', 'Gulf Province', 'Massachusetts', 'East coast', 'Ralik Archipelago', 'Cikobia Island (north of Vanua Levu)', 'Antarctic Ocean', 'Sharjah, ', 'Lomaloma, Lau', 'Somewhere between Philadelphia and Hiogo, Japan', 'Maluku Province', 'Biserta', 'Kedah', 'Cat Cay', 'Eastern Cape  Province', 'Sicily', 'Between Beira & Maputo', 'Coquimbo', 'Madeira Islands', 'Between Somalia & Yemen', 'Northern Java', 'Isle of Wight', 'Viti Levu Island', 'Mangaia Island', 'Missouri', 'San Blas Islands', 'Sucre', 'Lamu Archipelago', 'Ratak ', 'Okinawa Prefecture', 'Tabuk Province', 'Kowloon Peninsula', 'Vanua Levu', 'Luzon', 'Caicos Bank', 'Hong Kong', 'Florida ', 'Madeira', 'Guam', 'Bahia', 'Gulf of Suez', 'Georgia', 'Baja California', 'Sepang', 'New Ireland', \"L'Etang-Salé\", 'Marovo Lagoon', 'Sago Prefecture', 'Cavite Province, Luzon', 'Bocas', 'Savona', 'Cook islans', 'Ralik Chain', 'Kadavu', 'Adriatic Sea', 'Western Province', 'New Providence Island', 'St. Thomas Bay', 'Moluccas', 'Morobe Province', 'West End', 'Mississippi', 'Shatt-al-Arab River', 'West Africa', 'Edinburgh', 'Manila', 'Antalya Province', 'Madang', 'Alabama', 'Eniwetok Atoll', 'South Pacific Ocean', '30 nm from Singapore', 'Florida Straits', 'Limpopo River', 'Quintana Roo', 'Eastern Province', 'Corfu ', 'Skagerrak arm of the North Sea', 'South Devon', 'St. Georges ', 'Northern Territory', 'Wake Island', 'Jakarta Harbour', 'Majorca', 'Pacific coast', 'Alifu Alifu Atoll', 'Kent', 'Hoogly River', 'Zadar County', 'Salerno', 'Isle of Man', 'Andalucia', 'Tel Aviv', 'Isla Provedencia', 'Aulong Island', 'Le Port', 'Dubai', 'Colon', 'Cabo San Lucas', 'Makira-Ulawa Province', 'Quezon', 'East Java', 'Tasmania', 'Turtle Bogue', 'Porto Seguro', 'North Palawan', 'Saint-Philippe', 'Vancouver', 'Namonuito Atoll', 'Bay Islands', 'Central Philippines', 'Southern Japan', 'Queensland ', 'Out Islands', 'Riau Province', 'Sandaun Province', 'Between England & South Africa', 'Bay of Fundy', 'Ibaraki Prefecture', 'Praslin', 'Berry Islands', 'Basrah', 'East Sepik', '19S, 178?E', 'New York ', 'Palmyra Atoll', 'Nueva Esparta', 'Off Ireland', 'Atsumi peninsula', 'Bocas del Toro Province', 'North Carolina ', 'Roncador Bank', 'Off the coast of West Africa', 'Chatham Islands, east of New  Zealand', 'Delaware', '1000 miles west of Hawaii', 'Bandar Ma\\x92shur sea inlet', 'Mozambique Channel', 'Rivers State', 'Cape Haitien', 'Santa Elena', 'US Virgin Islands', 'Colima', 'Inner Islands', 'Mindanao', 'New Ireland, Bismarck Archipelago', 'In Convoy OB 274', 'Elqui Province', 'West Bengal', 'Saint-Benoît', 'Jeju Province', 'Gran Canaria', 'Sharon', 'Black River', 'Tutuila Island', 'Isles del Rosario', 'Anzoategui', 'Imperia Province', 'Duke of York Islands', 'Off Green Island', 'Hokkaido Prefecture', 'Sainte-Marie', 'Vera Cruz', 'Bikini Atoll', 'Munxar Reef', 'Montserrado', 'Eastern  Province', 'Moro Gulf', 'East New Britain Province', 'Loyalty Islands', 'South Chungcheong Province', ' Split-Dalmatia County', 'Walkers Cay', \"Côte d'Azur  \", 'La Libertad', 'Fernando Po Island', 'Dorset', 'Easter Ross', 'Calabria', 'Line Islands', 'Toamasina Province', 'Rangoon', 'Phoenix Islands', 'Lucy', 'Guerro', 'Trieste', 'Andikira Fokithes', 'Norfolk Island', 'New Mexico', 'North Pacific coast', 'Island of St. Thomas', 'Grand Baie', 'Tuamotos', 'Kerala', 'Off the coast of South America', 'Mafia Island', 'Viscayan Sea', 'Holquin Province', 'Gulf of Tadjoura', 'Corregidor Island', 'Virginia', 'Catalunya', 'West New Britain Province', 'Manfredonia ', 'Tuamotus', 'Eastern Caroline Islands', 'Karun River', 'Devon', 'St. Catherine', 'Wake Island (EnenKio)', 'New Territories', 'Between Comores & Madagascar', 'Maharashtra', 'Northern Peloponnese', 'Torres Strait', 'Syracuse', 'Johor', 'Middle Caicos', 'Western Papuan Gulf', 'Carabobo', 'On the Kowloon penisula, south of Sai Kung', 'South Korea', 'Wallis and Futuna', '300 miles from Antigua', 'Oaxaca', 'Cornwall', 'Eleuthera', '1,000 miles east of Hawaii', 'Pamplemousses ', 'Orissa', 'Trelawney Province', 'Between Hawaii & Wake Island', '60 miles north of San Domingo in the West Indies', 'Maranhão', 'Negros ', 'Maldonado coast', 'Naples Province', '5aint-Denis', 'Herzliyah', 'Alagoas', 'Granada', 'Lukovo', 'Near Bougainville (North Solomons)', 'Antibes', 'Bay of Maputo', 'Lagos ', 'Gibraltar', 'Harare Province', 'Dar-es-Salaam ', 'Alicante Province', 'Veracruz', 'Off Samar Island in the Gulf of Leyte', 'Louisiade Archipelago', 'Fernando de Noronha', 'Western Caroline Islands (North Pacific Ocean)', 'Golfo di Genova in the Ligurian Sea', 'New York', 'Alinglaplap Atoll', ' North Carolina', 'Wakaya Island', 'Pinas Bay', 'Ibiza Island', 'Central Province', 'Minerva Reef', 'Anatolia', 'Chungnam', 'Batangas province', 'Ryukyu', 'Southern Thailand', 'Society Islands', 'Boa Vista Island', 'San Blas', 'Chatham Islands ', 'Paraiba', 'Florida', 'Cyclades archipelago', 'Yasawa Islands', 'California', 'Unknown, treated at Wick, SCOTLAND', 'West of Ceylon (Sri  Lanka)', 'Halifax', 'Between Hawaii and U.S.A.', 'Panama City', 'Magarita or Cubagua Islands', 'Caroline Islands', \"L'Etang-Sale\", 'Providenciales', 'Santiago de Cuba Province', 'Rocha', 'Trinidad', 'Southwest coast', 'Illinois', 'South Australia', 'Fife', 'Romblon Province', 'Northern Bahamas', 'Trois-Bassins', 'Telyakovsky Bay, Khasan,  Primorsky Krai (Far East)', 'Suez', 'Rio de Janeiro', 'Ba Ria-Vung Tau  Province', 'Conakry Region', 'Clearwater Bay', '300 miles east of Mauritius', 'North Province', '04.05N-13.23W', 'Bay of Bengal', 'Newfoundland', 'Western Banks', 'Saint-Denis', 'Green Bay', 'KwaZulu-Natal between Port Edward and Port St Johns', 'Binh Dinh Province', 'Santa Isabel Province', 'Clarendon', 'Teramo', 'Salinas Bay', 'Between Noumea & Sydney', 'Madang Province', 'Between Southampton & Canary Islands', 'Near the Andaman & Nicobar Islands', 'West coast', 'Bird Island', 'Okayama Prefecture', 'Between Timor & Darwin, Australia', 'Saint-Gilles', 'Liguria', 'St Michael Parish', 'Queaon', 'New South Wales', 'New Georgia', 'Cook Strait', 'Western Cape Province', 'Puntarenas Province', 'Panama Bay (Pacific Ocean)', 'Suez Canal', 'Laucala Island', '(Southwestern Pacific)', 'Ho Ha Wan Marine Park', 'Bimini Islands', 'Alaska', 'Veracruz ', 'Rombion Province', 'Saint-Louis', 'Cortés', 'St. Johns Reef', 'Slovenia', 'Guerrero', 'Vitu Levu', 'East Flores', 'In the Gulf Stream ', 'Taranto province', 'Lomaiviti Province', 'Antofagasta Province', 'Sinai Peninsula', '\"Head of the Gulf\"', 'Oregon', 'Adana Province', '40 miles south of Naples ', 'Wakayama Prefecture', 'Havana Province', '800 miles from land', '18S / 50E', 'Ahirkapi coast', \"Vava'u\", 'New Providence', 'Puerto Rico', 'Marches region', 'Lower San Juan River', 'South Sinai, Gulf of Aqaba', 'Rocha ', 'Kwajalein', 'Gulf of California', 'Sumatra', \"Ha'api\", 'Lomaiviti Provine', 'Milne Bay  Province', 'Bernardino Strait near Gulf of Leyte', 'Rodrigues', 'Manus Island', 'New Brunswick', 'Near the Fiji Islands', \"Grand'Anse\", 'Carpathian Sea', 'Northlands', 'Sussex', 'Bwagaoia', 'Mexico / Caribbean Sea', 'Port Shelter', 'Between Hastings & Fairlight, Sussex', 'Santa Catarina State', 'Essequibo', 'Caribbean Sea', 'Tokyo Prefecture', '12 miles off the north coast', \"Côte d'Azur \", 'Castellón', 'Caribbean Coast', 'Banaadir Region', \"St. Mary's Parish\", 'Umm al Qaywayan Province', 'Vava\\x92u', 'Off Libya', 'Territory of Cocos (Keeling) Islands', 'Costa Blanca', 'Galicia', 'Baie de Sainte-Marie', 'Aden', 'Phuket', 'New Ireland Province, Bismarck Archipelago', 'Hamilton', 'Woodlark Islands', 'Ascension Island', 'Surigao del Norte', 'Shat-Al-Arab River', 'Santiago Island', 'Rangiroa', 'Tongatapu', 'Primorje-Gorski Kotar County ', '33N, 68W', 'Off coast of West Africa', 'Samaná Province', 'Anjouan', 'Louisiana', 'Ligurian Sea', '330 to 350 miles east of Wake Island', 'Cargados Carajos Shoals (St. Brandon)', ' Kikori River mouth', 'South China Sea 200 miles from Hong Kong', 'Cape Coast', 'Sfax', 'Las Perlas archipelago', \"St John's\", 'East New Britain', 'Malampa Province', 'Kentucky', 'Tabasco', 'Torres Strait ', 'San Andrés archipelago', 'Abau Sub District, Central Province', 'Tafea Province', 'Canal Zone', 'Andros Islands', 'Moray', 'Argyll', 'Bali', 'Valencia ', 'Off South American coast', 'Limón Province', 'Guyamas', 'Zamboanga del Sur Province', 'Grand Canary Island', 'Amirante Islands', 'United Arab Emirates', 'Santa Cruz Island', 'Mount Lebanon', 'Alicante', 'North Region', \"Nuku'alofa\", 'Island of Volos', 'Rio San Juan', 'Pernambuco', 'Primorje-Gorski Kotar County', 'Sardinia', 'Guerrrero', 'Colon Province', 'Pearl Islands', 'Open sea', 'South Island?', 'Between Perth & Colombo', 'Calvados Archipelago', 'Sofala Province', 'Genoa  Province', 'Ysabel Island', 'Cyclades', 'Primorsky Krai', 'Central Tuamotu', 'South Carolina ', 'Southland', 'Pacific Ocean', 'Between DR and Puerto Rico', 'Cook Islands', 'Delagoa Bay', 'North China', \"35º39 : 165º8'\", 'Maryland', 'Off the Coromandel Peninsula, North Island', '300 miles east of St. Thomas (Virgin Islands)', 'Foveaux Strait', 'Admiralty Islands, Manus Province'}\n"
     ]
    }
   ],
   "source": [
    "#vamos ver como esta a coluna\n",
    "print(set(df['Area']))"
   ]
  },
  {
   "cell_type": "code",
   "execution_count": 54,
   "metadata": {
    "collapsed": true
   },
   "outputs": [
    {
     "data": {
      "text/plain": [
       "Florida                  1037\n",
       "New South Wales           486\n",
       "Queensland                311\n",
       "Hawaii                    298\n",
       "California                290\n",
       "KwaZulu-Natal             213\n",
       "Western Cape Province     195\n",
       "Western Australia         189\n",
       "Eastern Cape Province     160\n",
       "South Carolina            160\n",
       "South Australia           104\n",
       "North Carolina            101\n",
       "Victoria                   90\n",
       "Pernambuco                 74\n",
       "Texas                      73\n",
       "Torres Strait              70\n",
       "North Island               67\n",
       "New Jersey                 52\n",
       "Tasmania                   41\n",
       "South Island               40\n",
       "Name: Area, dtype: int64"
      ]
     },
     "execution_count": 54,
     "metadata": {},
     "output_type": "execute_result"
    }
   ],
   "source": [
    "#verificando a qtde de ataque por Area\n",
    "df['Area'].value_counts().head(20)"
   ]
  },
  {
   "cell_type": "markdown",
   "metadata": {},
   "source": [
    "#### Corrigindo coluna \"SEXO\"  com espaço na coluna"
   ]
  },
  {
   "cell_type": "code",
   "execution_count": 55,
   "metadata": {},
   "outputs": [],
   "source": [
    "#na verificação do cabeçalho, encontrei espaço no nome da coluna, vou oajustar :-)\n",
    "df.rename(columns={'Sex ': 'Sex'}, inplace=True)\n",
    "df.columns = df.columns.str.strip()"
   ]
  },
  {
   "cell_type": "code",
   "execution_count": 56,
   "metadata": {},
   "outputs": [
    {
     "data": {
      "text/plain": [
       "{'.', 'F', 'M', 'M ', 'N', 'lli', nan}"
      ]
     },
     "execution_count": 56,
     "metadata": {},
     "output_type": "execute_result"
    }
   ],
   "source": [
    "#Verificando os dados da coluna\n",
    "set(df['Sex'])"
   ]
  },
  {
   "cell_type": "code",
   "execution_count": 57,
   "metadata": {},
   "outputs": [],
   "source": [
    "#ainda tem erros.. Veja acima: '.', 'M', lli' e etc..\n",
    "df['Sex'] = df['Sex'].str.replace('N', 'M')\n",
    "df['Sex'] = df['Sex'].str.strip()\n",
    "df['Sex'] = df['Sex'].fillna('Desconhecido')\n",
    "df['Sex'] = df['Sex'].str.replace('lli', 'Desconhecido')\n",
    "df['Sex'] = df['Sex'].str.replace('.', 'Desconhecido')"
   ]
  },
  {
   "cell_type": "code",
   "execution_count": 58,
   "metadata": {},
   "outputs": [
    {
     "data": {
      "text/plain": [
       "{'Desconhecido', 'F', 'M'}"
      ]
     },
     "execution_count": 58,
     "metadata": {},
     "output_type": "execute_result"
    }
   ],
   "source": [
    "#novamente vamos ver como esta\n",
    "set(df['Sex'])"
   ]
  },
  {
   "cell_type": "markdown",
   "metadata": {},
   "source": [
    "#### Corrigindo a coluna 'AGE'"
   ]
  },
  {
   "cell_type": "code",
   "execution_count": 59,
   "metadata": {
    "collapsed": true
   },
   "outputs": [
    {
     "name": "stdout",
     "output_type": "stream",
     "text": [
      "{nan, '14', '73', 'mid-30s', '1', \"60's\", '16 to 18', '29', '12 or 13', '6', '86', '  ', '74 ', '7', '23 & 26', '50 & 30', 'Teen', '30s', '56', '45 ', '21', '46 & 34', '33 & 26', '18 or 20', '20?', '9', '50', '12', '34 & 19', '9 months', '5', '21 & ?', '13 or 18', '38', '13 or 14', '42', 'X', '22', '32 & 30', '27', '? & 19', '17 & 35', '41', '61', '47', '77', '33', '39', '18 to 22', '>50', '58', '3', '30 or 36', '28', '64', '40s', '51', ' 28', '20s', '7 or 8', '21 or 26', '18 months', '60', '28, 23 & 30', 'Ca. 33', '53', '33 or 37', '32', '23 & 20', '23', '\"young\"', '71', '57', '49', '63', '36', '7      &    31', '66', '11', '30', '59', '74', '2½', '44', '35', '36 & 26', '20', '43', '17 & 16', '30 & 32', '78', '62', '33 & 37', '9 & 12', '40', 'adult', '72', '31', 'mid-20s', '60s', '36 & 23', 'A.M.', 'young', '8', ' ', '68', '84', ' 43', '45', '\\xa0 ', '37, 67, 35, 27,  ? & 27', '87', '28 & 26', '20 ', 'Teens', '17', '13', '21, 34,24 & 35', 'Both 11', '25 to 35', '67', '50s', '69', '6½', '\"middle-age\"', '9 or 10', '81', '10 or 12', '31 or 33', ' 30', '19', '70', '10', '65', 'Elderly', '25 or 28', '48', '15', '26', '(adult)', 'F', '37', '82', '2 to 3 months', '55', '54', '25', '75', '18', '52', '46', 'teen', '24', '34', '16', 'MAKE LINE GREEN', '?    &   14', '8 or 10'}\n"
     ]
    }
   ],
   "source": [
    "#Verificando os dados da coluna\n",
    "print(set(df['Age']))"
   ]
  },
  {
   "cell_type": "code",
   "execution_count": 60,
   "metadata": {
    "collapsed": true
   },
   "outputs": [
    {
     "data": {
      "text/plain": [
       "'Lista_sem_m = [\\'\"middle-age\"\\',\\'mid-30s\\',\\'X\\', \\'A.M.\\',\\'9 months\\',  \\'2 to 3 months\\', \\'adult\\', \\'nan\\', \\'Elderly\\',\\'Both 11\\',\\n               \\'(adult)\\',\\'teen\\', \\'Teens\\',\\'Tenn\\',\\'F\\', \\'\"young\"\\',\\'18 months\\', \\'mid-20s\\' , \\'\\xa0 \\',\\'MAKE LINE GREEN\\',\\n               \\'Ca. 33\\', \\' \\', \\'  \\']'"
      ]
     },
     "execution_count": 60,
     "metadata": {},
     "output_type": "execute_result"
    }
   ],
   "source": [
    "#armazenando os erros de idades em variravel e trocando para preenhcer coluna\n",
    "'''lista_idade= [[['30 & 32']=30],['7 or 8']=7],['9 or 10']=9],\n",
    "'21 & ?', '? & 19','28, 23 & 30','23 & 26', '37, 67, 35, 27,? & 27','9 or 10','32 & 30','13 or 14','18 to 22'\n",
    "              ,'?    &   14',  '6½', '25 or 28', '24 & 35', '7      &    31', '34 & 19', '40s','30 or 36', '12 or 13',\n",
    "              '50s', '23 & 20', '33 & 37', '30s','36 & 26','10 or 12' ,'30 & 32', '17 & 35', \"60's\",'18 or 20', '17 & 16',\n",
    "              '25 to 35','36 & 23' , '28 & 26', '16 to 18', '33 & 26', '7 or 8', '9 & 12','31 or 33', '2½', '21 or 26'\n",
    "             ,'13 or 18', '46 & 34','33 or 37', '20s',  '8 or 10', '60s','50 & 30','20?', '>50']'''\n",
    "\n",
    "'''Lista_sem_m = ['\"middle-age\"','mid-30s','X', 'A.M.','9 months',  '2 to 3 months', 'adult', 'nan', 'Elderly','Both 11',\n",
    "               '(adult)','teen', 'Teens','Tenn','F', '\"young\"','18 months', 'mid-20s' , '\\xa0 ','MAKE LINE GREEN',\n",
    "               'Ca. 33', ' ', '  ']'''\n",
    "\n",
    "#verifiquei que nao faz sentido fazer essa \"limpeza\", pois nao tem como \"adivinhar\" os valores de texto\n",
    "#porem vou manter a coluna no Dataset"
   ]
  },
  {
   "cell_type": "markdown",
   "metadata": {},
   "source": [
    "#### Corrigindo coluna 'FATAL'"
   ]
  },
  {
   "cell_type": "code",
   "execution_count": 61,
   "metadata": {},
   "outputs": [
    {
     "data": {
      "text/plain": [
       "{' N', '2017', 'M', 'N', 'N ', 'UNKNOWN', 'Y', nan, 'y'}"
      ]
     },
     "execution_count": 61,
     "metadata": {},
     "output_type": "execute_result"
    }
   ],
   "source": [
    "#vou examinar a coluna \"Fatal\", e os dados dela,  ela pode indicar quantos foram fatais\n",
    "set(df['Fatal (Y/N)'])"
   ]
  },
  {
   "cell_type": "code",
   "execution_count": 62,
   "metadata": {},
   "outputs": [
    {
     "name": "stdout",
     "output_type": "stream",
     "text": [
      "{'Desconhecido', 'Sim', 'UNãoKNãoOWNão', 'Não'}\n"
     ]
    }
   ],
   "source": [
    "#vou \"substituir\" os valores \"inuteis da coluna FATAL, mas vou manter o unckonw como \"U\".\n",
    "df['Fatal (Y/N)'] = df['Fatal (Y/N)'].str.strip()\n",
    "df['Fatal (Y/N)'] = df['Fatal (Y/N)'].fillna('Desconhecido')\n",
    "df['Fatal (Y/N)'] = df['Fatal (Y/N)'].str.replace(' N', 'Não')\n",
    "df['Fatal (Y/N)'] = df['Fatal (Y/N)'].str.replace('N', 'Não')\n",
    "df['Fatal (Y/N)'] = df['Fatal (Y/N)'].str.replace('N ', 'Não')\n",
    "df['Fatal (Y/N)'] = df['Fatal (Y/N)'].str.replace('2017', 'Desconhecido')\n",
    "df['Fatal (Y/N)'] = df['Fatal (Y/N)'].str.replace('M', 'Não')\n",
    "df['Fatal (Y/N)'] = df['Fatal (Y/N)'].str.replace('y', 'Sim')\n",
    "df['Fatal (Y/N)'] = df['Fatal (Y/N)'].str.replace('Y', 'Sim')\n",
    "df['Fatal (Y/N)'] = df['Fatal (Y/N)'].str.replace('UNKNOWN', 'Desconhecido')\n",
    "df.rename(columns={'Fatal (Y/N)': 'Fatal (Y/N/U)'}, inplace=True)\n",
    "print(set(df['Fatal (Y/N/U)']))"
   ]
  },
  {
   "cell_type": "code",
   "execution_count": 63,
   "metadata": {},
   "outputs": [],
   "source": [
    "#Aqui verifiquei que ele tbm trocou o N da palavra \"unknown\" por erros, agora vou subsituuir apenas esses erros\n",
    "df['Fatal (Y/N/U)'] = df['Fatal (Y/N/U)'].str.replace('UNãoKNãoOWNão', 'Desconhecido')"
   ]
  },
  {
   "cell_type": "code",
   "execution_count": 64,
   "metadata": {},
   "outputs": [
    {
     "data": {
      "text/plain": [
       "{'Desconhecido', 'Não', 'Sim'}"
      ]
     },
     "execution_count": 64,
     "metadata": {},
     "output_type": "execute_result"
    }
   ],
   "source": [
    "#Vou agora conferir se aparece apenas 3 itens na coluna\n",
    "set(df['Fatal (Y/N/U)'])"
   ]
  },
  {
   "cell_type": "markdown",
   "metadata": {},
   "source": [
    "#### Corrigindo a coluna 'SPECIES'"
   ]
  },
  {
   "cell_type": "code",
   "execution_count": 65,
   "metadata": {},
   "outputs": [
    {
     "name": "stdout",
     "output_type": "stream",
     "text": [
      "{nan, \"Tiger shark, 10'  \", 'White shark?', 'Shark involvement not confirmed', '\"A small shark\"', 'Invalid', 'White shark, 2m ', ' Raggedtooth shark, 2m'}\n"
     ]
    }
   ],
   "source": [
    "#vamos ver como esta a coluna, pegando apenas uma amostra com o sample\n",
    "print(set(df['Species'].sample(n=20)))"
   ]
  },
  {
   "cell_type": "code",
   "execution_count": 66,
   "metadata": {
    "collapsed": true
   },
   "outputs": [
    {
     "name": "stdout",
     "output_type": "stream",
     "text": [
      "{nan, \"2.1 m  [7'] bull shark\", \"Spinner shark, 5'\", 'White shark, 3m', ' White shark', \"5 m to 6 m [16.5' to 20'] white shark\", \"+3' shark\", \"14' to 16' white shark\", 'Sandbar shark', \"4.5 m to 5.5 m [15' to 18'] white shark\", \"Lemon shark, 4'\", 'Oceanic whitetip sharks were in the vicinity', \"Bronze whaler shark, 2 m to 3 m [6.75' to 10']  \", \"Tiger shark, 2.1 m [7']\", \"His hand was found in a 2.4 m [8'] tiger shark caught 1/5/1949\", 'nurse shark', \"60 cm to 90 cm [2' to 3'] shark\", 'Nurse shark, 58\", 34-lb ', 'Nurse shark?', \"Nurse shark. 5'\", 'Galapagos shark', 'Said to involve a large mako shark', \"4.3 m [14'] shark seen in area previous week\", 'Bull shark, 1.4m ', 'Starry smoothhound shark, 1m', '4.3 m shark', 'Sandtiger shark', \"1.8 m to 2.1 m [6' to 7'] shark\", \"6' to 8' bull shark\", '\"The fish was harpooned, dried, and presented to the sailor, who went round Europe exhibiting it  It was said to be 20 feet long.', 'a small reef shark', \"Nurse shark, 0.9 m [3'] \", 'Reported to involve a bull shark', '30-kg [66-lb] shark', 'White shark, 7m', \"Tiger shark, 14' \", 'Juvenile white shark,  2.7 to 3.2 m', 'Shark involvement prior to death unconfired', \"7.5' shark\", 'No shark involvement', 'Nurse shark, 60 cm [24\"], identified by Dr. L.P. L. Schultz on photograph', 'White shark, 4.5 to 5 m ', 'Thought to involve a white, bull or tiger shark', '\"A 2\\' (0.6 m) brown shark\"', \"Lemon shark, 1.8 m to 2.4 m [6' to 8'], tooth fragment recovered\", \"Raggedtooth shark, 1.2 m [4'] \", 'Possibly C. leucas', \"Two shark's teeth recovered from canoe\", 'Blacktip Reef shark ', 'Shark was said to \\x93have a very rough ½\\x94-thick skin\\x94', \"Mako shark, 2.4 m [8'], <300-lb, identified by Dr. L.P. L. Schultz on photograph\", \"Tiger shark, 6' \", \"Said to involve a Grey nurse shark 3.7 m [12'] \", \"2.4 m [8']  shark\", '3 m to 4 m white shark', \"Tiger shark, 1.5 m [5'] \", '\"gray shark\"', \"8' bull shark or Caribbean reef shark\", 'Shark involvement not confirmed, injury may be due to a stingray', \"1.5 m [5'] white shark or sevengill shark\", \"Blacktip shark, 4' to 5'\", \"Comrades saw shark's tail appear about 5' away\", \"Tiger shark, 8' to 12'\", 'Tiger shark, 300-kg [662-lb] ', '500-lb shark', 'White shark, 5m', 'White shark, 6m ', \"1.8 m [6'] blacktip shark or Caribbean reef shark\", '\\x93small brown shark\\x94', \"0.9 m  to 1.2 m [3' to 4'] shark\", 'Bronze whaler or tiger shark', '1 m shark, possibly whitetip reef shark', \"Bull shark, 6' to 8'\", \"Lemon shark, 6' female \", \"Tiger shark, 2.4 m to 3.7 m [8' to 12'] \", 'Reported to involve a white shark', \"Tiger shark, 15' female\", '270 kg shark', 'Tooth fragments recovered from hull', \"Tiger shark, 1.8 m [6']\", '\"a very large shark\"', '4.5 m [14\\'9\"] white shark', 'Shark involvement probable, but not confirmed', \"4.3 m [14'], 1000-lb shark\", '7-gill shark', 'Grey nurse shark, 1m ', \"White shark, 6 m [20'] \", 'Thought to involve a 2.5 m bull or tiger shark', \"Two 2.1 m [7'] sharks\", '2 m shark, possibly a bronze whaler', \"4 m [13'] shark x 6\", \"2.7 m to 3 m [9' to 10'] sharks\", 'A 20\\' shark known as \"Old Tom\"', 'Tiger shark (pregnant)', \"Tiger shark, 8'\", \"Bronze whaler shark,  3m [10'] \", 'Shark involvement prior to death remains unconfirmed', 'Blacktip reef shark ', \"Possibly a 5' to 6' sandtiger shark\", \"White shark, > 3 m [10']\", 'Tooth fragments of \\x93whaler\\x94 shark were recovered, a bull shark, according to Edwards', \"1,5 m [5'] Caribbean reef shark (Carcharhinus  perezi)\", \"1.5 m to 2 m [5' to 6.75'] shark\", '2 m [6\\'9\"] Zambesi shark', 'possibly a bronze whaler shark', 'Though to involve a white shark', \"White shark, 5.5 m [18'] \", \"White shark, 5.5 m [18']\", '\"a dog shark\"', \"Zambesi shark, 1.8 m [6'] \", \"White shark, 3 m [10'] k\", 'White shark, 3.6 m,  420 kg male', \"6 m [20'] shark\", \"White shark, female, 14'\", '15* to 24\" dog shark', \"5.5 m [18'] white shark, identified by witnesses & tooth marks\", \" 1.5 m [5'] dusky shark\", \">6 m [20'] white shark\", 'sandtiger shark', \"16' 800-lb shark\", \"White shark, 3 m [10'], species identity confirmed by witnesses & tooth pattern in leg & board \", '\"a black-tipped shark\"', '\"Blue nose shark\"', \"Horn shar,k Heterodontus francisci, 1.2 m [4'] \", \"1.5 m to 2.1 m  [5' to 7'] shark\", 'Nurse shark, 1m ', \"White shark, 2.7 m [9'] \", 'Blue shark, 2.5m', \"2.7 m [9']  bull shark or Caribbean reef shark\", \"12' sandtiger shark\", 'White shark, 4.5 m [14\\'9\"], identity confirmed by witness & tooth pattern', 'Sevengill shark', 'White shark, species identity confirmed by tooth pattern', 'Possibly a Caribbean reef shark', \"Tiger shark, 12'\", \"Bronze whaler shark, 3 m [10'], 200-lb\", \"12' to 18' shark\", '1 m  shark', 'Tiger shark, 8 to 12 feet', 'Tawny nurse shark, 2m', 'Possibly a blacktip shark', '1.5 m, 45-kg shark', '1 m hammerhead shark', '60 cm [23.6\"] blind or brown shark', 'Shark involvement suspected but not confirmed', \"Said to involve 2 sharks: 5.2 m & 6 m [17' & 20'] \", \"1.2 m to 1.5 m [4' to 5'] shark, possibly a bull shark\", '3 bull sharks', \"White shark, 3.5 m [11.5']  male \", \"Bull shark, 2.4 m [8']\", 'White shark, 4.5 m [14\\'9\"] ', 'Shark seen feeding on turtle scraps thrown overboard prior to incident.', 'Raggedtooth shark, 2 m [6\\'9\"] ', \"White shark, 4 m [13'] \", '\"sand shark\"', 'Blue Shark ', \"Blue shark, 1.5 m [5'] \", \"Bull shark, 10' \", \"1.8 m to 2.1 m [6' to 7'] spinner or blacktip shark\", '\"Shark caught later\"', \"Mako shark, 3 m [10'] \", '20 kg shark', 'Sand shark?', 'Large tiger shark seen in the vicinity the following morning', \"6' to 7' shark\", '1.8 to 2 m C. albimarginatus', 'A bull shark, according to some of the divers on the boat', 'Porbeagle shark', \"White shark, 11' to 13'\", \"1.8 m to 2.7 m [6' to 9'] shark\", 'Grey nurse shark, 3m', \"Silky shark, 6.5'\", '2 sharks, 4.5 m & 3 m ', \"7' to 8' shark \", \"Wobbegong shark, 1.5 m [5'] \", 'Grey reef shark. 2 m', \"Grey nurse shark, 1.5 m [5'] \", 'Juvenile bull shark', \"Tiger shark, 4.6 m [15'] \", \"3.5 m [11.5'] shark\", \"Remains recovered from 5.5 m [18'] white shark\", \"Raggedtooth shark, 50-kg [110-lb], 2 m [6.75'] gaffed \", 'Bull shark, 1m ', \"1.2 m [4'] shark (spinner shark?)\", 'White shark, 2m ', 'Oceanic whitetip shark', \"5' blue shark\", 'Survivors said 2 species of sharks were involved:  oceanic whitetip sharks and another species', 'Though to involve a tiger shark', \"Whitetip reef shark, 4' to 6'\", ' Tawney nurse shark, 1m', 'Bronze whaler shark, 4m', '3 m, 600-kg shark', 'Oceanic whitetip shark, 1.8 to 2 m', 'Tiger shark, 3m ', 'Believed white shark and other smaller species of sharks involved.', \"Tiger shark, 5' \", \"Nurse shark, 2.1 m [7'] \", \"White shark, 4 m [13'] rk\", \"Hammerhead shark, 1.8 m [6'] \", ' Raggedtooth shark, 2m', \"Tiger shark, 3 m [10']\", \"5' to 6' shark\", \"4m [13'] shark\", \"12' shark\", \"White shark, 12' to 14'\", \"3 m [10'], 270- kg [595-lb] shark\", \"18' white shark\", 'Tiger sharks in area', 'Wobbegongs', '\"sandshark\"', '2 m to 3 m shark', \"2'  shark\", '40 to 50 sharks attacked survivors in the water', 'Allegedly a 33-foot shark', \"Nurse shark, 2' to 3' \", \"2' shark\", \" white shark, 15' \", \"Raggedtooth shark, 1.5 m [5'] \", 'Tiger shark, 2.3m ', 'Wobbegong, 2m', \"Oceanic whitetip shark,1.8 m [6'] \", 'Lesser spotted dogfish, Scyliorhinus canicula, less than 80 cm in length', 'A small shark', 'Shark involvement prior to death could not be determined', 'White shark, 4.5 m ', '3.5 to 4 m shark', \"Possibly a 5' to 6' bull shark\", \"Tiger shark, 3.7 m [12']\", \"Grey reef shark, 2 m [6.75'] \", '2 m  \"yellow belly\" captive shark. Shark destroyed by aquarium staff next day', '234-lb shark', 'Thresher shark', \"3.7 to 4.5 m [12' to 15'] shark seen in vicinity\", \"Possibly a 6' lemon shark\", \"1.8 m to 2.1 m [6' to 7']\\xa0 Caribbean Reef Shark \", \"4.9 m [16']shark\", 'Spinner shark or blacktip shark', 'Bull shark or lemon shark', 'White shark, 4.5 m  to 6 m [14\\'9\" to 20\\'] according to witnesses', \"Tiger shark, 4.6 m to 7.6 m [15' to 25'] \", 'Spinner or blacktip sharks', \"1.8 m [6'] blacktip shark or spinner shark\", \"Shovelnose shark, 6 m [20'] \", '5 m shark', 'Blacktip or spinner shark?', \"White shark, 19'\", \"Tiger shark, 4 m to 4.3 m [13' to 14'] \", '1.8 m [6\\'] \"cocktail shark', \"Grey nurse shark, 4'\", \"Nurse shark, 3', 20-lb \", \"2.3 m [7'] shark\", \"1.5 m [5'] shark\", 'Possibly a hammerhead shark', \"Nurse shark, 6'\", \"3 m to 5 m [10' to 16.5'] white shark\", 'White shark, 2.5 m', '1.3 to 1.6 m shark', \"Bronze whaler shark, 2.3 m [7.5'] \", \"Wobbegong shark, 1.4 m [4.6'] \", \"2.4 m [8'] whaler shark\", 'Tiger shark, 3 m ', 'Blacktip shark', 'Lemon shark, 30-lb ', 'Blacktail reef shark', 'White shark, 246-kg ', \"4 m [13'] shark seen in vicinity\", '<1.5 m shark', 'Thought to involve a blacktip shark', \"Nurse shark, 2.1 m [7']\", \"0.7 m [2.5'] shark\", \"6 m [20'] white shark\", \"Nurse shark, 1.5 m [5']  identified by Dr. E. Clark on description of shark\", '8-lb shark', 'Bull shark, 3.5 m', 'White shark, 3.9 to 4.2 m', 'Dusky shark, 2m', '2.5 oceanic whitetip shark', 'small blacktip shark', 'White shark, based on bite pattern', \"1.8 m to 2.4 m [6' to 8'] sharks, most were oceanic whitetip sharks\", 'Mako shark, 180-kg [397-lb]', \"White shark, 18' to 20'\", 'A \"small shark\"', \"White shark, 3.5 m to 4 m [11.5' to 13'] \", \"4.4 m [14'] shark\", 'Lemon shark or sandtiger shark', 'Shark involvement questionable', '36\"  shark', \"White shark, 4.3 m [14'] \", \"4' shark?\", 'White shark, 3.5m', \"Bronze whaler shark, 10' \", \"1.8 m [6'] shark\", \"0.9 m to 1.2 m [3' to 4'] white shark\", \"3' shark\", 'small carpet shark', \"4.5' to 5' shark\", \"2.4 m to 3.7 m [8' to 12'] shark\", '5 m to 7 m white shark', \"2.1 to 2.4 m [7' to 8'] shark\", '2 m hammerhead', \"1.5 m to 1.8 m [5' to 6']  blacktip shark\", \"Mako shark, 1.9 m [6.5']. Tooth fragment recovered & identified by J.T. Nichols.\", \"Bronze whaler shark, 3 m [10'] \", \"3 m to 4 m [10' to 13']  white shark\", ' Tiger shark, 2.8m', 'Leopard shark', \"White shark, 5 m to 6 m [16.5' to 20] \", \"Possibly a 6' bull shark\", \"Zambesi shark, 1.7 m [5.5'] \", \"5' to 8' shark\", 'Injury believed caused by an eel, not a shark', \"Goblin shark, 4.2'\", 'Tiger shark & others', 'Possibly a bull shark or tiger shark', \"Said to involve 6 to 7 m [20' to 23'] white shark\", \"3.5 m [11.5'] white shark\", \"2.4 m [8'] shark\", 'White shark, according to witnesses', \"Wobbegong shark, 6'\", \"10' shark\", 'Tiger shark, 100 kg', \"4.9 m to 5.5 m [16' to 18'] white shark\", 'Blacktip shark ', \"2 m [6.75'] sevengill  shark\", 'White shark, 3.6 m [11\\'9\"] ', \"Bull shark, 6'\", 'A 6.5\\' \"blue-nosed shark\"', \"Said to involve a 7 m [23'] white shark\", 'Blue pointer', \"4 m [13'] white shark\", '70 kg shark', 'Shark involvement probable', '2 m cow shark', 'Hammerhead shark?+O2356', \"White shark, 4.9 m [16']\", '3\\' \"blue nosed\" shark', \"60 cm to 90 cm [2' to 3'] blacktip or spinner shark\", 'Raggedtooth shark, 2 m ', \"2.1 m [7'] lemon shark or bull shark\", '4.5  m [14\\'9\"] shark', ' ', 'Blue shark?', \"Hammerhead shark, 1.5 m [5'] \", 'Tiger shark, 3.9 m', \"7 m [23'] white shark\", \"Tiger shark, 3 m to 4 m [10' to 13'] \", \"3.5 m [11.5']  white shark\", \"Grey nurse shark, 2.4 m [8'] \", 'small hammerhead shark', 'whaler shark', 'Possibly a blacktip reef shark', 'Bronze whaler shark, 1.5 m ', \"4' shark\", 'Nurse shark, juvenile ', '1.8 m shark', '60 cm  shark ', \"Grey reef shark, 5' to 8' \", '4 to 5m white shark', \"Nurse shark, 2.1 m [7']  identified by Dr. E. Clark on color & tooth impressions\", 'White shark, 2.5m ', \"White shark, 4.9 m [16'] \", 'Bull shark, 1.8m', \"3 m [10'], 200-kg [441-lb] bull shark\", 'Bull shark, 3 m ', \"Tiger shark, 1.5 m to 1.8 m [5' to 6'] \", 'Silvertip shark', 'Reported to involve a hammerhead shark', \"Tiger shark, 3 m [10'] \", 'Not a shark attack; it was a hoax', \"3.7 m [12'], 1200-lb shark. Shark caught & its jaw exhibited at the Carnegie Museum\", 'Sand shark', '20 to 30kg shark', \"5' shark\", \"Wobbegong shark, 4' \", \"Blacktip shark, 4'\", 'Death may have been due to drowning', \"Bull shark, 4.5' \", '\"Attacked by a number of sharks\"', \"Whaler shark, 4 m [13'] \", \"Nurse shark, 1.1 m [3.5'] \", 'Whtietip reef shark', 'Possibly a sand shark', \"Caribbean reef shark, 6'\", 'Whitetip reef shark, 1m', 'Possibly juvenile tiger shark', \"2.4 m [8'] white shark, species identity confirmed by tooth fragment\", \"3.7 m [12'] shark \", 'White shark, 2m', \" Sevengill  shark, 1.2 m [4'] \", \"1.5 m to 1.8 m  [5' to 6'] shark\", \"4 m to 5 m [13' to 16.5']  white shark\", 'White shark (tooth fragment recovered)', '5\\'7\" shark', 'White shark, 4m to 5m ', '>2 m shark', 'A \\x93small\\x94 shark', 'Sevengill shark, 2.4 m', 'Questionable Incident', \"Shortfin mako shark, 3 m to 3.4 m [10' to 11'] \", \"1.5 m [5']  shark\", \"12' white shark\", 'Tiger shark, 3.7 m to 4.5 m [12\\' to 14\\'9\"]  ', \"Lemon shark, 3'\", 'Mako shark, 90kg', 'juvenile white shark', 'Blacktip or spinner shark', '1m to 1.2 m shark', \"1.8 m [6'], 136-kg [300-lb] shark \", '2 m shark, possibly a dusky or blacktip shark', 'Grey nurse shark, 2 m', \">2.4 m [8'] white shark\", \"12' to 14' shark\", 'Tiger shark caught 6 days later with diver\\x92s remains in its gut', \"White shark, 2.7 m to 3 m [9' to 10'] \", 'Shark involvement not confirmed & highly unlikely', '40-lb sand shark', 'Blue sharks', '2.8 m [9\\'3\"] whaler shark captured 3 days later with his remains in its gut', \"Tiger shark, 6'\", '2 m [6\\'9\"] shark', 'White shark x 2', 'Tiger shark, female', 'Possibly a broadnose 7-gill shark', \"5 m to 5.5 m [16.5' to 18'] white shark\", 'A large hammerhead shark', \"Thresher shark, 3.7 m [12'] \", 'White shark tooth fragment recovered from ankle & identified by Dr. W. I. Follett', 'Raggedtooth shark, >1 m ', 'Lemon shark', 'Questionable', 'Shark involvement not cofirmed', 'shark involvement not confirmed', \"3.7 m [12'] white shark\", \"Caribbean reef shark, 4.5'\", 'small blue shark', 'White shark, 5 m ', 'Nurse shark, 1 m ', '\"a little shark\"', '2\\' \"banjo shark\"', \"5.5 m [18'] shark\", '5m, 3500 kg female shark', 'C. maculpinnis or C. limbatus', \"Grey nurse shark, 1.5 m [5']\", \"6 m [20']  shark\", 'Port Jackson shark, 1m', 'White shark, 4.6 m', \"2.1 m [7'] shark, possibly a spinner shark\", \"Two sharks seen in vicinity: 2.4 m & 4.25 m  [8' & 14'] TL\", 'Raggedtooth shark, 100-lb ', 'White shark, 1600-lb female ', 'Raggedtooth shark, 56-kg [123-lb] ', '300- to 400-lb Zambesi shark', \"1.9 m [6.5'] bull shark\", \"Tiger shark, 9' to 10' \", \"White shark, 3.7 m [12']  according to witnesses\", 'Invalid incident', \"Sevengill shark, 6' to 8'\", '80-lb hooked shark', 'Tiger shark,  3.6 m [11\\'9\"], 850-kg [1874-lb] female, contained Girvan\\'s remains ', 'Mako shark, 100-lb', 'Invalid', 'Survivors said 2 species of sharks were involved:  oceanic whitetip sharks and another species,', \"Tiger shark, 15'\", '2.6 m shark', '> 3 m shark', 'a sand shark', \"White shark, 7' to 8'\", \"Bronze whaler shark, 2.5 m [8.25']  k\", \"Caribbean reef shark, 1.2 m to 1.5 m [4' to 5'] \", \"3 m [10'] white shark\", \"Bull shark, 8'\", 'Bronze whaler shark, a  juvenile ', \"3 m to 4.3 m [10' to 14'] shark\", \"Sevengill shark, 2.4 m [8'] \", '1,100-lb shark', \"Grey reef shark, 1.2 m [4'] \", 'a small shark', 'Reported as a shark attack, the story was a hoax', \"1.5 m [5'] dusky shark\", 'Mako shark, 400-lb ', 'Goblin shark', \"White shark, 12'\", \"1.5 m [5'] hammerhead shark\", \"4 m [13'] shark\", \"4.3 m [14'] shark seen in vicinity\", \"3 m [10'] blue whaler\", 'Shark involvement prior to death unconfirmed', 'Zambezi shark (tooth fragments recovered)', '3.5 m white shark, tooth fragments recovered', '\"grey-colored shark\"', 'Zambesi shark', 'Basking shark', \"small sharks'\", \"2 m [6.75'] shark\", 'Possibly  a blacktip or spinner shark', 'Oceanic whitetip shar,; identified by Dr. W.C. Schoeder on photograph & Dr. L.P. L. Schultz on sketch by observer', '2.5 to 3 m shark', '90-kg \"blackfin\" shark', '18-foot shark', \"Said to involve a 6 m to 7 m [20' to 23'] white shark\", 'White shark, 1,900-lb ', 'White shark, 4.5 m', \"5' to 7' shark\", \"1.5 m to 1.8 m [5' to 6'] Zambesi shark\", \"Tiger shark, 0.9 m to 1.5 m [3' to 5'] ?\", 'Blue pointers', '18\" to 24\" shark', \"14' white shark\", \"1.5 m to 1.8 m [5' to 6'] shark\", \"White shark, 10' to 12' \", \">1.8 m [6'] shark\", '150-lb shark', \"Said to involve a 6.5 m [21.5'] shark\", 'said to involve a tiger shark', \"White shark, 6m [20']\", \"Lemon shark, 2.7 m [9'] \", '\"a large shark\"', \"2.5 m [8.25'] white shark \", \"Bull shark, 5'\", '\"Blue whaler\" (Galeolamna)', 'White shark, 2.8 to 3 m ', 'white shark', 'Oceanic whitetip shark x 2', \"5' spinner shark\", \"Raggedtooth shark, 2.5 m [8.25'] \", \"White shark, 3.7 m [12'], 500 to 500-kg [1,200 lb], identified by W. C. Shroeder based on tooth fragment ebedded in gunwale\", \"5.5 m to 6 m [18' to 20'] white shark\", \"8' to 10' shark\", '136-kg [300-lb] shark', \"Blacktip shark, 5' to 6'\", \"White shark, 5 m  to 6 m [16.5' to 20'] \", 'small blacktip shark?', 'Most likely, a small shark', 'a school of sharks', \"Grey nurse shark, 2.6 m [8.5']  \", \"Bull shark caught, leg recovered & buried beside the man's body\", 'Bronze whaler', \"6' blacktip shark\", 'Nurse shark, 106 cm, 28-lb, male ', 'White shark, 2 m', \"Nurse shark, 4'\", \"1.8 m [6'] sandtiger shark\", \"Six Zambesi sharks seen to 1.5 m [5'] in length\", \"2.4 m [8'] white shark\", \"Tiger shark, 2.4 m to 3 m [8' to 10'] \", \"Tiger shark, 4 m [13'] female\", \"Bitten by several 1.8 m [6'] sharks\", 'Possibly a juvenile blacktip or spinner shark', \"Blue shark, 3 m [10']\", 'Bronze whaler shark?', \"Nurse shark, 1.5 m [5']\", \"Grey reef shark, 1.8 m [6'] grey reef shark, identified by Dr. L.P. L. Schultz based on photographs; identified as C. melanopterus by Stewart\", \"Thought to involve a 2 m [6.75'] grey nurse shark\", 'Species unknown, possible white shark', \"Grey nurse shark, 2.7 m [9'] \", 'Tiger shark, 3.5 m', \"Tiger shark, 3.7 m [12'] \", \"3' to 3.5' shark\", '2 sharks', 'A small spinner shark', \"2.1 m [7'], 90-kg shark\", '170-kg, 2.8 m shark', \"Longfin mako shark, 3.5 m [11.5'], 350-kg [772-lb] \", '\"whiptail shark\" (thresher shark?)', \"Bull shark, 2.7 m [9'] was captured & dragged on the sand where tissue taken from Eggink was found in its gut. Species identification  was made by S. Springer based on 4 photographs of the shark. \", \"White shark, 3 m to 4 m [10' to 13'] \", 'Nurse shark', \"Lemon shark, 9' \", 'Oceanic whitetip shark, 2.5m, female', \"3' to 5' shark\", 'Zambesi shark, 2 m [6\\'9\"] ', 'Shark involvement not confirmed, injury may have been caused by a bluefish', '4\\' \"ground shark\"', 'Dooley believed his Injury was caused by stingray (Dasyatidae family)', 'Bull shark, 1.65 m [5\\'5\"] was speared & killed', \"White shark, 12' to 15' female\", '193-lb shark', 'Possiby white shark', \"Lemon shark, 2.1  m to 2.4 m [7' to 8'] \", \"1.2 m [4'] shark\", 'Bull shark', \"1.8 to 2.4 m [6' to 8'] shark\", \"Leopard shark, 3' Triakis semifasciata, identified by J.W. DeWitt (1955)\", 'Nurse shark, 2.5-ft', '\"small shark\"', '4 m white shark', \"7' shark\", \"Two 3 m [10'] oceanic whitetip sharks\", \"Mako shark, 1.9 m [6.5'] \", \"Tiger shark, 10' to 12' \", \"White shark, 5 m to 6 m [16.5' to 20']  \", '2.7 m [9\\'] \"blue\" shark', \"Tiger shark, 1.8 m to 2.4 m [6' to 8'] \", \"Tiger shark, 3.7 m to 4.3 m  [12' to 14']\", \"White shark, 13'\", 'Shark involvement not confirmed', \"Bull shark, 7'\", '\"grey shark\"', \"Said to involve a 6 m to 7.3 m [20' to 24'] shark\", '2 m [6\\'9\"], 87.5-kg [193-lb]  shark', 'Bull shark, 2 m', '2.1 m [7\\'] shark with \"a very flat head\\x94 that had followed the boat for 3 days', 'Salmon shark', \"3 m [10'] shark\", 'Some drowned but other may have been killed by blue sharks', 'Possibly a tiger shark', \" Tiger shark, 3'\", 'Raggedtooth shark, 2.5 m to 3 m ', \"4 m to 5 m [13' to 16.5']  white shark \", \"Mako shark, 4.3 m [14']\", \"Tiger shark 3 m  [10'] \", 'Raggedtooth shark, 1 m ', \"2.4 m [8'], 600-lb shark\", \"1.5 m to 1.8 m [5' to 6'] sandbar shark\", \"Tiger shark, 2.4 m 3.4 m [8' to 11']  \", \"Spinner shark, 7'\", '\"black tipped\" shark', 'Raggedtooth shark, 1.3 m', \"Tiger shark, 4 m [13'] \", 'Hand found in gut of 2.9 m to 3.3 m [9\\'7\" to 10\\'11\"] Galapagos shark, C. galapagensis', \"Said to be 6.4 m [21'] shark\", \"1.2 m to 1.5 m [4.5' to 5'] shark\", \"1.8 m [6'] blacktip shark\", \"5.5 m [18''] white shark\", \"Tiger shark, 3 m to 3.7 m [10' to 12'] \", 'Blue or porbeagle shark', 'Dusky shark, 1 m ', \"Tiger shark said to be 5 to 7 m [16.5' to 23'] \", '6 m shark', 'Unidentified', \"1.8 m [6'] Zambezi shark\", 'White shark or oceanic whitetip shark', '2 m [6\\'9\"] shark ', \"Tiger shark, 12' ?\", '1.8 m grey shark', \"7 shark's teeth found embedded in the woodwork of the boat\", '3.5 m shark', \"2.7 m [9'] shark later captured by Mitchell-Hedges\", 'Possibily a  1.5 to 2 m sandtiger shark', \"Bull shark, 5' \", 'Hammerhead shark.', \"Blacktip shark, 2.4 m to 3 m [8' to 10'] \", 'Thought to involve a juvenile hammerhead shark', \"3 m [10'] sharks\", ' Wobbegong shark, 1.6 to 1.8m ', \"Tiger shark, 3 m to 4.9 m [10' to 16'] \", \"Tiger shark, 3.4 m [11'] captured\", 'White shark', \"Possibly a  1.8 m [6'] Zambezi shark\", \"Local authorities speculated that the water was too cold for sharks, but a 2.1 m [7'], 200-lb pregnant sandbar shark was caught next day\", 'Shark involvement  not confirmed', '3m shark', \"0.7 m [2.5'] sand shark\", \"1.2 m [4'] bull shark\", \"1.8 m [6'] grey-colored shark\", '\"juvenile shark\"', \"1' to 2' hammerhead or bonnethed shark\", 'Bronze whaler shark, 2.5m', \"2 m to 2.5 m [6.75'  to 8.25'] shark\", 'Blacktip reef shark', '1.8 m blacktip \"reef\" shark', 'Questionable incident; reported as shark attack but thought to involve a pinniped instead ', '.5 m shark', 'Whitetip reef shark', 'Shark involvement not confirmed; officials considered barracua', \"Mr. Burgess of ISAF announced the injury was the bite of a 1.8 m [6'], 2- to 3-year old white shark. Subsequent investigation revealed there was  no shark involvement in this incident\", \"Mako shark, 5'\", \"1.2 m to 1.5 m [4' to 5']   shark\", ' Bull shark, 1.2m ', \"9.5' shark?\", \"Grey nurse shark, 10' \", 'Miami, a 60 cm blacktip  shark and two 60 cm bamboo catsharks', 'Bronze whaler shark, 2 m ', 'Tiger shark, 12', 'blacktip or spinner shark', \"Raggedtooth shark, 1.5 to 2 m [5' to 6.75']\", '300-kg [662-lb] shark', \"Said to involve a >4 m [13'] shark\", \"Tiger shark, 5.2 m [17']\", 'Thought to involve a mako or grey nurse shark', 'Blue shark, 70-kg blue shark', \"1' to 2' shark\", 'Possibly a blue shark', 'Wobbegong shark, 1.6m', \"7' to 8' bull shark\", 'Wobbegong shark ', \"[4' to 5']\", \"4' spinner shark\", \"6' shark, possibly a blactip or spinner shark\", 'White shark (tooth fragments recovered from hull of boat)', '5.2 to 5.8 m white shark', '1.2 m to 1.5 m [4\\' to 5\\'] \"reef shark\"', \"2.5 m to 3 m [8.25' to 10']  white shark\", \"Said to involve an 8' shark but more likely damage caused by debris\", 'White shark, 4 m', 'Bronze whaler sharks x 3', \"1.4 m [4.5'] shark\", \"Tooth fragment of a white shark recovered. Authorities believed shark was 6 m [20']  total length\", '6 m  white shark', '13\\'10\" shark', '2.8 m [9\\'3\"] white shark', \"White shark, 5.5 m to 6 m [18' to 20']  \", \"3.7 m [12'] sharks\", '2 days later a 600-lb shark was caught 100 yards from the site', \"5 m [16.5'] shark\", \"Bronze whaler shark, 6'\", \"1.2 m [4'] spinner shark\", '1.5 m [5\\'] \"whaler shark\"', 'Tiger shark, 2m ', 'Soupfin shark', 'Cookiecutter shark', '1.8 m silky shark', \"Tiger shark, 4.3 m [14'] \", 'Said to involve 2 sharks', \"White shark, 5.8 m [19'] \", \"6' to 8' shark, possibly a tiger shark\", 'Angel shark', '1 m shark', \"Tiger shark, 2.4 m to 2.7 m [8' to 9']  \", 'Doubtful / Unconfirmed attack / Unable to verify in local records', '2.27 m shark', \"Possibly a 1.5 m [5'] blacktip shark\", \"1.5 m [5'] shark, probable bull shark\", \"Bronze whaler shark, 2.5 m [8.25'] \", 'Lemon shark pup', 'Tiger shark, 3.5 m, 250-lb female', 'White shark, identified by tooth fragments in surfboard', 'Shortfin mako shark, 175-lb ', \"Tiger shark, 2.4 m [8']\", \" Bull shark, 8'\", 'Fishermen recovered partial remains from shark a week later', 'Blacktip shark, 2m', \"Tiger shark, 2.7m  [9']\", 'Questionable incident', 'Shark involvement prior to deaths was not confirmed', \"Two 1.2 m to 1.5 m [4' to 5'] sharks\", 'Salmon shark suspected, but unlikely', '2 m to 2.5 m shark', 'Wobbegong shark, 2m', \"6' to 8' shark\", \"Nurse shark, 2.5' \", 'Bull shark, 1 m', \"Atkins' remains were recovered from a dusky shark, C. obscurus, by Capt. W. F. Young, shark fisherman\", \">3 m [10'] shark\", \"Tiger shark, 2.5 m [8.25']\", '>6 m white shark, according to witnesses', '\"Dog shark\"', \"2.1 m to 2.4 m [7' to 8'] shark\", \"7' female shark\", 'Species unidentified', 'Shark involvement prior to death was not confirmed', '\"a school of sharks\"', \"1.5 m [5'] Caribbean reef shark\", 'Blue shark, 1m', 'Spinner shark, 4 to 5 feet', \"3 m to 3.7 m [10' to 12'] shark\", \"Mako shark (aka bonito shark) 1.2 m [4'] \", 'White shark, 3.5 m', \"1.2 m  [4'] shark\", \"8' blue shark\", \"0.9 m  [3'] shark\", \"1.2 m [4'] dusky shark\", \"5' thresher or blue shark. The shark  was killed following the incident\", \"Tiger shark, 8' \", 'Hammerhead shark, 500-llb ', '3 m shark', 'Sandtiger shark, 2 m, male ', 'Wobbegong shark, 1.4 m [4\\'6\"] ', \"Raggedtooth shark, 3.5 m [11.5'] \", ' \"gummy\" shark (Rhizoprionodon or Loxodon) 1.2 m [4\\']', \"3 m to 4.5 m [10' to 15'] white shark\", \"White shark, 3.7 m [12'] \", \"Lemon shark, 4' to 5' \", 'Thought to involve a tiger shark', 'Reportedly: oceanic whitetip sharks, blue sharks, tiger sharks & bull sharks', 'Mako shark, 125-lb ', 'Bull or tiger shark', \"On 11-Jan-1994, his remains washed ashore. A 2.4 m [8'] tiger shark thought to be involved\", 'Blue shark', \"1.8 m to 2.4 m [6' to 8'] white shark\", \"Sandtiger shark, 8'\", 'Shark involvement prior to deaths unconfirmed', \"3 m to 4 m [10' to 13'] white shark\", 'Juvenile dusky or blacktip shark', 'Shark involvement prior to death not confirmed', \"Shortfin mako shark, 2.3 m [7.5'] \", \"1.2 m to 1.5 m [4' to 5'] hammerhead shark\", '2 white shark: 13\\' & 9\"8\"', '80 kg shark', 'Wobbegong shark, 1m', 'Tiger shark, 2.5 m ', 'Thought to involve a mako shark, but possibly a sea lion', \"1.8 m [6'] Caribbean reef shark\", \"4.9 m [16'] whaler\", \"Grey nurse shark, 4' \", 'White shark, 3m, seen in area and hooked 3 days later', \"White shark, 7'\", 'Thought to involve a Zambesi shark', 'White shark, 6.5 m ', '2.2 m shark', 'Lemon shark, 1.8 m [6\\'] male, N. breviostris, identified by W.A. Stark II, later the same day a 6\\'8\" pregnant female lemon shark bit the bow of the boat', \"Tiger shark, 3.4 m [11'] \", \"4' to 8' shark\", 'Raggedtooth shark', \"White shark, 9'\", 'Tiger shark?', '\\xa0 ', '4.5 m shark', 'Possibly a 3 m bull shark', '1 m \"grey-colored\" shark', '3.6 m  white shark  (or bronze whaler)', \"2.1 m [7'], 140-lb reef shark\", \"White shark, 2.3 m [7.5'], tooth fragment recovered\", \"White shark, 8' to 10'\", 'White shark, 5.5 m ', '7-gill shark?', \"[4.5' to 5'] shark\", \"8' white shark or 7-gill shark\", \"Blue shark, 8' [2.4 m], 500-lb \", 'C. leucas tooth fragment recovered from kayak', \"White shark, 2.5 m [8.25']  \", \"2.7 m [9'] shark\", 'Bronze whaler shark, 3.5 m ', '2m shark', 'Thought to involve a white shark', \"1.2 m to 1.8 m [4' to 6'] shark\", \"Mako shark, 3 m [10'], 200-kg [441-lb] \", \"15' shark\", 'reef shark, 1m', ' a small shark', \"White shark,4.6 m [15'] \", 'Said to involve a white shark but shark involvement not confirmed', 'Grey nurse shark?', \"White shark, 3.5 m [11.5'], identified by W. I.  Follett on tooth fragments\", 'Identified as carcharinid shark (based on its behavior) by Dr. D.P. L. Schultz; mako shark according to Huges', \"Nurse shark, 10' \", 'Tiger shark, 2m', \"Nurse shark, 60 cm to 90 cm [2' to 3'] \", 'Bronze whaler shark', '4.5 m & 5 m white shark ', \"1.5 m to 1.8m [5' to 6'] shark\", \"White shark, 5 m [16.5'], identified by Dr. W. I. Follett on tooth marks\", 'Tiger shark, 3m', '\"small sharks\"', \"0.9 m to 1.2 m [3' to 4'] shark\", 'Reported to involve a 4 m white shark', \"Tiger shark, 2.4 m [8'] \", '1.5 to 2 m shark', \"Bronze whaler shark, 2.1 m [7'] shark\", \"Blue shark, 1.8 m [6'] \", \"Tiger shark, less than 10'\", 'Wobbegong shark, 2 m ', 'Possibly a lemon shark', \"Bronze whaler shark,4 m [13'] \", \"Moreno\\x92s leg  & part of his swim suit found in 9' shark caught two hours after the attack. Identified as carcharhinid shark by L. Schultz & C. Limbaugh on photograph\", '2 to 2.5 m shark', 'Unknown, but it was reported that a shark tooth was recovered from the wound', \"Nurse shark, 1.8 m [6'] \", 'Bonita sharkk, 200-lb', \"6' shark\", \"Mako shark, 1.8 m [6']\", 'reef shark, 1.5m', \"3.5' to 4.5' shark\", 'White shark or bronze whaler', \"4.7 m [15.5'] shark\", \"White shark, 3.5 m [11.5'], species identity confirmed by tooth fragment\", \"5' to 6' spinner or bull shark\", 'Tiger shark, 4.5 m [14\\'9\"]', 'White shark, 13\\'10\", 1320-lb female ', \"White shark, 15'\", \"White shark, 15' to 16' \", \"Blacktip shark, 5'\", \"1.8 m to 2.4 m [6' to 8'] shark, tooth fragments recovered \", 'Zambesi shark, 4\\'9\"', \"1.8 m [6'] shark, possibly a blacktip\", 'White shark, 2.7 m [9\\'1\"], 750-lb ', '1.8 metre shark', 'dogfish shark', \"3' blacktip shark\", \"0.9 m to 1.5 m [3' to 5'] shark\", 'Bronze whaler shark, 1.5m', 'Bull shark, 8', \"1.2 m [4'] blacktip shark\", 'Several sharks involved', '1.5 m white-tipped reef shark', \"Nurse shark, 0.9 m  [3'] \", \"3.7 m to 4.3 m [12' to 14']  shark\", 'Mako shark', 'Possibly a small blacktip shark', \"2 m [6.75'] shark, 200-kg shark T\", \"Hammerhead shark, 2.4 m [8'], according to lifeguard Sam Barrows\", \"Bull shark, 5' to 7'\", \"a small shark'\", 'White shark, identified by tooth pattern', 'Thought to involve a 5.5 m white shark named Kong', \"14' to 18'shark\", \"Bronze whaler shark, 2.4 m [8'] \", \"Thought to involve a >2 m [6.75'] bull shark\", \"5 m [16.5'] white shark, identification by K. Nakaya\", \" Grey nurse shark,  3 m [10'] \", \"Shovelnose shark, 5'\", \"Sandbar shark, 8'\", 'unknown, possibly a white shark', 'White shark according to tooth pattern and witnesses', 'White shark, 2.7 m', 'Wobbegong shark, 60cm', 'Wobbegong shark, 1 m', 'Thought to involve a bull shark', \"106 cm [3.5']  shark\", \"2.6 m [8.5'] shark\", \"Raggedtooth shark, 1.5 m [5'] (tooth fragment recovered)\", \"Hammerhead shark, 1.8 m [6'] S. zygena identified by C. Limbaugh on description\", 'Porbeagle, 1.5 m', \"Bull shark, 2.3 m [7.5'] \", 'Bull shark, 2m ', 'Remains recovered from shark caught days later', \"Blue pointer, 11' \", \"Reported to involve a 3.7 m [12'] shark, possibly a white shark\", \"Mako shark, 1.8 m [6']  \", 'White shark, 4.2 m [13\\'9\"] ', \"Mako shark, 3 m [10']\", \"Said to involve  9' blue shark\", \"1.5 m [5'] blacktip shark\", 'Not authenticated', \"1.2 m [4'], possibly  larger shark\", \"White shark, 3 m [10'], tooth fragment from wounds identified as that of a white shark\", \"Bull shark, 9' to 10'\", 'White shark named \\x93Spotty\\x94', \"1.8 m to 2.4 m [6' to 8'] hammerhead shark\", 'Bull shark, 2.7 m ', 'Wobbegong shark', 'Said to involve a 4.9 m [16\\'] \"red shark\"', \"White shark, 2.1 m [7']  based on tooth pattern\", \"1.5 to 2.5 m [5' to 8.25'] copper shark\", \"Wobbegong shark, 1.2 m [4'] \", \"3.7 m [12'] tiger shark\", 'White shark, 5m to 6m', 'Hammerhead shark', \"Tiger shark, 14'\", '1.2 m [4\\'] \"grey-colored shark\"', \"Less than 1.2 m [4']\", 'Bull sharks x 2', \"A 2' shark was seen in the area by witnesses\", \"Tiger shark, 3 to 4 m [10' to 13'] \", \"Possibly a 1.5 m [5'] blacktip or spinner shark\", 'Said to involve white shark, but species identify questionable', 'Questionable, 2m shark suspected', 'Broadnose sevengill shark, 1.5 m', \"1.8 m [6'] carpet shark\", 'Small bull shark', 'Mako shark, 100-kg [221-lb] ', 'Bronze whaler shark, 3m', \"White shark, 10 '\", \"Mako shark, 2 m [6.75'] \", \"Bull shark, 1.8 m to 2.1 m [6' to 7'] \", \"Lemon shark, 1.5 m [5'], identified  by the surfer\", \"2 scalloped hammerhead sharks, 1.5 m & 1.8 m [5' & 6']\", 'White shark, 4.8 m ', \"1.8 m [6'], 180-lb shark\", 'White shark, 5m ', \"1.8 m [6'] white shark\", 'A hammerhead shark, then 8 to 10 other sharks were said to be  involved', 'Thought to involve a small sand shark', \"Grey nurse shark, 8'\", \"Carpet shark, 10' \", \"White shark, 10'\", \"White shark, 1.8 m to 2.1 m [6' to 7']  according to Shreuder and a witness\", 'reef shark?', \"Blacktip shark, 1.8 m [6'] \", 'White shark, identification by K. Nakaya', \"1.2 m [4'] hammerhead shark\", '6 m, 600-kg shark', '\"reef shark\"', 'On 8/13/2005 anglers from New Zealand caught a 2.8 m [9\\'3\"], 140-kg [309-lb] shark at the same spot. It was believed this was the same shark that killed Alysha', \"2.6 m [8.5'] shark landed 2 hours later\", \"Teeth in hull identified as those from a white shark 4.6 m [15'] in length\", '24\" to 30\" shark', 'White shark, 3.5m ', \">2.5 m [8.25'] white shark\", 'White shark?', 'Said to involve a grey nurse shark that leapt out of the water and  seized the boy but species identification is questionable', 'Unidentified shark', \"2.5' shark\", 'White shark, 6 m ', \"Lemon shark, 4' \", 'Zambesi shark?', \"Nurse shark, 3' \", 'Bull shark?', '3.5 m white shark', \"White shark, 4.3 m [14']\", 'Species unknown, possibly a white shark', \"Wobbegong shark, 1.8 m [6'] \", \"4.3 m [14'] shark\", \">3.4 m [11'] white shark\", 'Shark involvement prior to death suspected but not confirmed', \"2 m to 2.5 m [6.75'  to 8.25'] sixgill or sevengill shark\", 'Blacktip reef shark pup', '\"sand\" shark', ' reef shark, 1.8m', \"White shark, 2.1 m [7'] \", '2 sharks involved', '>1 m shark', 'Tawny nurse shark', 'Tiger shark, 4.8 m', \"3' small spotted catshark, Scyliorhinus canicula\", 'Bronze whaler shark, 2 m to 3 m ', \"White shark, 5 m to 6 m [16.5' to 20'] \", \"Bull shark, 12'\", 'Juvenile nurse shark', 'Carpet shark', 'White shark, 3m to 4m', 'Possibly a wobbegong', \"White shark, 4.3 m [14'] (or bronze whaler)\", 'Tiger sharks & bull sharks (20 sharks in all)', \"Nurse shark, 1.5 m [5'] \", \"Grey nurse shark, 2,7 m [9'], 200-lb \", '1m shark', \"12' to 14' white shark\", \"0.9 m to 1.2 m [3' to 4'] shark; Tooth fragment recovered from hand\", \"2.7 m [9'] bull or lemon shark\", 'Bull shark, 1.5m ', 'White shark, 4 m to 5 m ', 'Mako shark, 2.3 m, 150-kg  ', 'Unknown, but the shark was caught and put on exhibition', \"Hammerhead shark, 3 m [10'] \", '\"a blue shark\"', \"Grey nurse shark, 1.8 m [6']\", '4 to 5 m white shark', '68\" shark', 'Mako shark ', \"Thought to involve a 3' to 4' shark, but shark involvement not confirmed\", \"Possibly a 1' to 3' blacktip or spinner shark\", 'Cow shark', \"Tiger shark, 4 m [13'] ?\", \"60 cm [2'] captive shark\", \"White shark, 1.5 m [5'] k\", \"Dusky shark, 2.7 m [9'] dusky shark C. obscurus identified by S. Springer on tooth recovered\", 'Lemon shark, >1 m ', 'Mako shark, 3m', \"Blue shark, 4' \", 'Tiger shark ', \"1' to 4' shark\", ' Lemon shark, 3.5 m', '9\\'2\" white shark', 'possibly a bull shark', \"White shark, 12' to 15' \", 'White shark, 3 to 3.5m ', 'Oceanic whitetip shark, 2.5m ', \"3.5 m [11.5'], 510-kg [1125-lb] hooked & shot white shark\", 'Possibly a juvenile blacktip shark', '3- to 4-foot shark', \"Caribbean reef shark, 7' to 8'\", 'White shark, based on 2 teeth retrieved from rudder', \"Mako shark, 3 m to 4 m [10' to 13'] \", \">2.4 m [8'] shark\", 'Blue shark, 2m ', \"Nurse shark, 0.94 m to 1.2 m [3' to 4'] \", \"1.5' to 2' shark\", 'Wobbegong', '5 m white shark', \"Tiger sharks, 2.4 m to 4.9 m [8' to 16'] \", 'White shark, 600-kg [1323-lb]', '1.5 m copper shark', '>1.6 m shark', 'Shark involvement not confirmed; thought to be a barracuda bite', \"1.8 m to 2.4 m  [6' to 8'] shark\", \"Blacktip shark, 2' \", 'White shark, 4 m white shark', 'Bull shark, 1.5', 'White shark, 160-kg [353-lb], identity confirmed by tooth pattern', 'Raggedtooth shark, 2.5m ', \"Bronze whaler shark, 4' \", 'White shark, 4 to 5 m', 'Grey reef shark', \"3 m [10'] gaffed shark\", 'Copper shark, 50-kg [110-b] ', 'Lemon shark ', '200-lb shark', \"Blue shark, 7'\", \"0.9 m [3'] shark,  probably a blacktip or spinner shark\", '2 small bull sharks', 'White shark, 3 m', 'White shark, 4m', \"White shark, 4.3 m to 4.9m [14' to 16']\", \"White shark, 12' \", '2.5 m shark', \"White shark, 3 m [10'] \", 'White shark or thresher shark', \"Tiger shark, 10'\", \"3.7 m to 4.3 m [12' to 14'] shark\", 'White shark, 15\\'2\" ', 'Lemon shark, 1164 mm, immature male, identified by  V.G. Springer', '\"Shark had a very large girth\"', \"8' shark\", \"1.2 m to 1.5 m [4' to 5'] bull, sandbar or dusky shark\", \"3.5' to 4' shark\", \"Bronze whaler shark, 3.7 m [12'] identified by G.P. Whitley based on description\", \"White shark, 4.6 m [15'] \", \"Bronze whaler shark, 2.4 m [8'] Identified by Clyde Buttery\", \"Spinner shark, 3' to 4' \", \" 6' to 8' shark\", \"White shark, 1.7 m [5.5']\", \"2 m [6.75'] copper shark\", \"3 to 3.5 m [10' to 11.5'] bull shark\", \"2.5 m [8.25'] shark\", 'Possibly white sharks', 'Remains recovered from 3 sharks', '\"Blue nose sharks\"', \"2.5 m [8.25'] bull shark\", \"Wobbegong shark, 5' \", \"20' shark\", 'White shark (identified by Dr. Hugh Smith) ', 'Hammerhead sp.', 'White shark, 3.9 m, 550 kg, male', 'small shark', \"Tiger shark, >3 m [10']\", 'Bull shark, 3m female', 'Tiger shark, 4.5 to 5.5 m [14\\'9\" to 18\\'], 2000-lb  ', \"2' to 3' reef shark\", 'Mako shark (tooth fragments recovered)', '3.5 m [11.5\\'] female white shark named \"Notchfin\"', \"Nurse shark, 10'\", \"5.5 m to 6 m [18' to 20']  white shark\", 'Grey nurse shark, 2.9 m [9\\'6\"] ', 'Wobbegong shark?', '3 m hammerhead shark', 'Tiger shark, 4 m ', 'Bronze whaler shark, 3 m', \"1.8 m [6'] grey reef shark\", 'Said to be a \\x93small shark\\x94', 'a small hammerhead shark', \"White shark, 2.4 m [8']\", \"15'\", \"Spinner shark, 1.2 m to 1.5 m [4' to 5'] \", \"3.7 m to 4.6 m [12' to 15'] shark seen in the vicinity\", 'Caribbean reef shark', \"1.8 m [6'] shark \", \"White shark, 5 m [16.5'] \", '3.3 m [10\\'9\"] shark', \"White shark 4.9 m [16'] \", 'Bull shark, 2.8 to 3.1 m', \" Bull shark, 5'\", \"2 m [6.75'] white shark\", \"2.4 m  [8'] shark\", '2 to 3 m shark', \"White shark, 3.8 m [12.5']  \", \"12' tiger shark\", \"76 cm [2.5'] carpet shark\", \"Nurse shark, 1.2 m [4'] \", \" White shark, 7' \", \" Blacktip shark, C. maculipinnis. 1.9 m to 2.1 m [6.5' to 7'] \", \"Bronze whaler shark, 3.7 m [12'] \", \"Tiger shark, 1.5 m [5']k\", 'Zambesi shark, 2m ', \"Raggedtooth shark, 2 m [6.75'] \", \"Lemon shark, 9'\", 'a \"small slim brown shark\"', 'Grey reef shark ', \"White shark, 14' to 18' \", \"White shark, 14' to 16' \", \"White shark, 2.5 m [8.25'] \", \"4 m to 5 m [13' to 16.5'] white shark\", \"2.7 m [9']shark\", 'White shark, 18 mm tooth fragment  recovered from the hull', 'White shark, 4m ', 'Bull shark, 3m', \"Wobbegong shark, 3' \", \"White shark, 5.2 m [17'], 2500-lb \", '8 sharks', '1.3 m [4\\'3\"] shark', 'Tiger shark, 3.5 m ', 'Said to be \\x93leopard sharks\\x94, more probably tiger sharks', 'said to involve 2.5 m hammerhead sharks', \"White shark, 1.8 m [6'] \", '\"A long thin brown-colored shark\"', \"White shark, 2.7 m [9'], 280-lb \", \"Hammerhead shark, 9' \", \"White shark, 2.4 m [8'] \", 'said to involve an oceanic whitetip shark', \"2.1 m [7'] shark\", 'Caribbean reef sharks', \"Oceanic whitetip shark'\", \"5 m [16.5'] white shark\", \"White shark, 15' to 16'\", \"Bronze whaler shark, 1.5 m [5'] \", 'Whale shark', \"3.7 m [12'] shark\", \"1.8 m [6']  shark\", '1.8 m to 2 m [6\\' to 6\\'9\"] shark', 'Grey reef shark, 1.5 m ', \"3'  shark\", \"Grey nurse shark, 11'\", \"2.7 m [9']  shark\", 'A pack of 6 sharks', \"Tiger shark, 10' to 12'\", 'Oceanic whitetip shark, 2.5 to 3m', \"Possibly a 10' bull shark\", \"Tiger shark, 12' \", \"1.8 m to 2.1 m [6' to 7'] hammerhead shark\", \"3' shark, possibly  a blacktip or spinner shark\", \"3.7 m to 4.3 m [12' to 14'] white shark\", 'White shark, 3m ', 'Raggedtooth shark, 150-kg', 'Possibly a bull shark', '3.5 m [11\\'6\"] shark captured', 'White shark, 2m to 3 m', \"Tiger shark, 2.4 m to 2.7 m [8' to 9'] \", 'Lemon shark, 0.5 m', \"1.5 m [5'] shark, either a bronze whaler or a grey nurse shark\", \"White shark, 3 m to 5 m [10' to 15'] \", 'Raggedtooth shark, 1.96 m, 140-kg ', \"Mako shark, 3.7 m [12'] identified by tooth fragments by G.P. Whitley\", \"White shark, 5 m [16.5']\", \"White shark, 3.7 m to 4.6 m [12' to 15'] \", \"14' shark\", 'Tiger shark, <2 m TL', \"Bull shark, 4' to bull shark\", \"Tiger shark, 3.7 m [12'], (tooth fragment recovered from wound)\", \"White shark, 11' to 12'\", 'Broadnose sevengill shark', \"13' shark\", 'Thought to involve a porbeagle or mako shark', \"White shark, 5 m to 6 m [16.5 to 20'] \", '650-lb shark', 'Bull shark, 4 m', \"White shark, 3 m to 3.7 m [10' to 12'] \", 'Spurdog', 'Galapagos shark?', \"Bull shark, 10'\", \"White shark, 4 m to 5 m [13' to 16.5'] \", \"2.1 m [7'] sandtiger shark\", 'Grey reef shark, 2 m', '43\" shark', '4.5 m to 5 m white shark', \"Bull shark, 6' to 7'\", \"Thought to involve a 2.6 m [8.5'] white shark\", \"4' to 5' shark\", 'Blue shark, 4.5 m [14\\'9\"]', \"1.5 m to 2.1 m [5' to 7'] shark, possibly a mako shark\", \"White shark, 5' k\", '100-kg [221-lb] dead blue shark', 'small catsharks', 'Thought to involve a Bronze whale shark, 2m', \"3 m to 3.7 m [10' to 12'] bull shark\", \"0.9 m [3']  shark\", 'Bull shark suspected due to freshwater habitat', \"Bull shark, 3' to 4'\", '15 cm to 20 cm [6\" to 8\"] bite diameter just below left knee', \"16' shark\", '1.5 m shark', 'Angel shark, 1.2m ', '250-lb \"dog shark\"', 'Thought to involve a cookie cutter shark', \"Porbeagle shark, 7'\", \"Possibly a Bull shark, 3'\", \"Sandtiger shark  2'\", \"3' to 4' shark\", 'Small dusky shark or blackfin shark', \"7' to 8' shark\", \"3 m [10'] bull shark\", 'Lemon shark, 2 m [6\\'9\"]', \"Thought to involve a 2.4 m [8'] lemon shark; two 2.4 m lemon sharks caught within 100 yds of the site a week prior to & a week after this incident\", 'Bull shark, 2m', \"1.8 m to 2.4 m [6' to 8'] shark\", 'Questionable incident - shark bite may have precipitated drowning', 'Said to involve a 1 m  white shark, but thought  that it was more likely a blue shark', \"4' to 6' shark\", \"White shark, 4.4 m to 5 m [14.5' to 16.5'] \", \"13', 400-lb thresher shark\", \"3 m [10'] white shark (Tooth  recovered from boat)\", \"Bull shark, 2.1 m [7']\", 'Remains recovered 5 days later', \"1.5 to 1.8 m [5' to 6'] shark\", \"2.7 m [9'] silky shark\", 'Bull shark, 2.5m', \"Bronze whaler shark,3.7 m [12'] \", \"1.8 to 2.1 m [6' to 7'] shark\", 'Grey nurse shark', '4.5 m white shark', 'Considered a \"Doubtful\" incident', 'Gray reef shark', 'Bull shark, 1.3 m', \"Sharks averaged 1.8 m [6'] in length\", 'Tiger shark, 2.5 m', \"White shark, 4.3 m [14'], (tooth fragment recovered)\", 'Shark involvement doubtful', '5m shark', 'Shark involvement prior to death still to be determined', \"1.5 to 2 m [5' to 6.75'] shark\", '1.8 m to 2.4 m [6\\' to 8\\'] \"black finned shark\"', \"Bull shark, 4' to 5' \", \"Silky shark, 1.9 m [6.5']\", \"1.2 m [4'] blacktip or sandbar shark\", '3m shark, probably a smooth hound', \"White shark, 5' to 6' juvenile \", 'A 10-year-old 94-pound pregnant blacktip reef shark', \"4 m [13'], 590-kg white shark\", \"5.5 m [18'] white shark\", 'Lemon shark, 2.5m to 3m ', \"3.5 m [11.5']shark\", 'Bull shark, 400-lb ', '2 m shark', \"1.8 m [6'] reef shark - or a 2.1 m to 2.4 m [7' to 8'] grey-colored shark\", 'Tawny nurse shark, 40cm', \"1.2 m to 1.5 m [4' to 5'] shark\", \"3.4 m [11']  tiger shark & a 5' shark\", 'Bull shark, 132-kg [291-lb] ', \"White shark, 3 m to 5 m [10' to 16.5'] \", \"Tiger shark, 8' to 10' \", \"3.7 [12'] shark\", \"2' to 3' shark\", \"4.9 m [16'] shark\", \"3 m to 4 m [10' to 13'] shark\", \"3 m [10'] shark seen in vicinity\", '<1 m shark', 'bull shark', 'A large white shark was filmed by divers on a local wreck 2 days prior to the incident.', \"Bull shark, 4 m [13'] \", \"Questionable incident, said to involve a 6' shark\", \"Bronze whaler shark, 4.6 m [15'] \", '\"A pack of 6 sharks\"', \"Tiger shark 4.3 m [14'] \", 'small nurse shark', \"White shark, 16', 2,312-lb \", \" Galapagos shark, 6'\", \"Next morning a 3 m [10'] shark was caught that had Andrews' leg in its gut\", \"According to Carlsmith, the shark's mouth was 3' wide\", \">1.2 m [4'] tiger shark\", \"4.6 m [15'] shark\", \"Said to involve a 2.4 m [8'] hammerhead shark\", \"Raggedtooth shark, 1.2 m to 1.5 m [4' to 5'] \", 'juvenile shark', \"2.4 m [8'] shark, possibly a dusky shark\", 'White shark, 3 m ', \"6', 100-lb shark\", \"Mako shark, 1.8 m to 2.1 m [6' to 7']  with hook & wire leader caught in mouth\", 'Tiger shark', \"Sandtiger shark, 2.1 m [7'] \", \"Tiger shark, 1.8 m [6'] \", '\"a small shark\"', \"Nurse shark, 2'\", 'Tiger shark, 1.5 m ', '3 m white shark', '4.5 m to 5.5m white shark', '3 m to 4 m shark', 'Raggedtooth shark, 1.5 m', '3 sharks', \"5.5' to 6' shark\", 'Porbeagle or white shark', \"Bull shark, 4' to 5'\", 'Spinner shark', \" Sandbar shark, 3' to 4'\", \"5 m  [16.5'] white shark\", 'Reported by media as shark attack, but shark involvement prior to death was not confirmed', \"Zambesi shark, 1.2 m [4'] \", \"Tiger shark, 4.3 m [14'], 3 tooth fragments retrieved from his wounds\", 'sand shark', \"0.9 m [3'] shark\", \"Sandtiger shark, 3 m [10'] \", \"White shark, 4.4 m [14.5'] . \", 'Possibly a sandbar shark or small blacktip shark', \"8' great hammerhead shark\", \"White shark, 12' to 15'\", \"2.4 m to 3 m [8' to 10'] white shark\", \"Oceanic whitetip shark, 6'\", \">6.7 m [22']  shark\", '100-lb shark', \"White shark, 3 m [10']rk\", \"2.7 m  [9'] shark\", 'White shark, 2 m [6\\'9\"]  (Tooth fragment recovered from victim\\'s shoulder & identified by J.T. Nicholls)', 'Small shark with white-tipped dorsal fin', '3.6 m  porbeagle shark', \"Alleged to involve a White shark, 7.6 m [25'] \", 'White shark, 4 m to 5m ', \"1.7 m [5.5'] shark\", \"2.4 m [8'] tiger shark caught 40 hours later with shorts of the boy in its gut\", 'Shark involvement  questionable', \"Spinner shark, 6'\", 'Description of shark does not ring true', \"Tiger shark, 10' \", 'Allegedly a 4 m tiger shark', '\"a young shark\"', \"2.4 m [8'] white shark, species identity confirmed by witnesses & tooth pattern in surfboard\", 'Blue shark, 8 to 9 feet', 'Possibly a bronze whaler shark', \"Raggedtooth shark, 2.7 m [9'] \", \"Blue shark 6'\", \"Porbeagle shark, 3 m [10']rk\", 'Alleged to involve a white shark \"with little yellow eyes\"', \"Mako shark, 1.5 m [5'] \", \"Tiger shark, 4 m [13']  ?\", \"White shark, 5' to 7'\", \"2.5 m [8.25'] white shark\", \"Bronze whaler shark, 1.8 m [6'] \", \"Blacktip reef shark, 1.5 m [5'] \", '3 m to 3.6 m  [10\\' to 11\\'9\"] white shark', 'White shark, 2 m to 4 m [6\\'9\" to 13\\'] ', \"4.5 m to 5.5 m [14.7' to 18'] white shark\", \"1.8 m [6'] shark, species identity questionable\", \"Thought to involve a 2.7 m [9'], 400-lb bull shark\", '4 m shark', 'Identified as C. gangeticus by Dr. J. Fayrer', 'Seven-gill shark', \"Sevengill shark, 14', was caught in the vicinity\", \"White shark, 16' \", 'Tiger shark, tooth fragment recovered', \"Thought to involve a Tiger shark,  3.7 m [12'] \", 'Raggedtooth shark, 2 m [6\\'9\"], 5-year-old, captive female ', \"Blacktip shark, 5' to 6' \", 'Possibly a white shark', \"Bull sharks to 1.5 m [5']  in length\", \"White shark, 3.7 m [12']  \", '1.5 m grey reef shark', 'Said to involve a tiger shark or a hammerhead shark', \"3.7 m [12'] shark & may have been another shark nearby\", 'small sharks', \"16' white shark\", \"Carpet shark, 1.5 m [5']\", \"Porbeagle shark, 8' \", '18\" to 36\" shark', \"White shark, 10' to 12'\", \"2.4 m to 3 m [8' to 10'] grey colored shark\", \"Tiger shark, 7'\", \"Hammerhead shark, 5' \", \"Bronze whaler shark, 2.1 m [7'], a tooth was embedded in the speargun \", \"White shark, 5.5 m to 6 m [18' to 20'] \", \"White shark, 4.3 m 4.9 m [14' to 16'] \", \"4.5 to 5' shark\", \"Said to involve a 2.7 m [9'] shark\", 'Bull shark, 2.5 m', \"Thought to involve a 12' white shark\", \"Lemon shark, 6'\", 'Small shark', \"5.5' shark\", \"1.5 m to 2 m [5' to 6.75'] Caribbean reef shark \", 'Copper shark', '9-foot shark', \"2.3 m [7.5'] white shark, identified by M. Smale\", \"1.5 m to 1.8 m [5' to 6'] sharks\", \"Hammerhead shark, 5.2 m [17'] \", '3+ m shark', 'White sharks', \"Tiger shark, 8' to 9' \", 'Thought to involve bull sharks', 'reef shark', 'Shark involvement highly doubtful', '2 m to  3 m shark', \"Tiger shark, 13' \", '5.7 m white shark', 'White shark, 2.5 m ', '5 m to 6 m white shark', \"Bronze whaler shark, 4.3 m [14'] \", \"1.8 m [6'] dogfish\", \"7' silvertip shark\", \"Blacktip shark, 1.8 m to 2.1 m [6' to 7'] \", 'Bronze whaler shark, 2 m', 'According to Benjamin, the injury was inflicted by a barracuda, not a shark', ' Bull shark, 2.5 m', \"Wobbegong shark, O. barbatus,  1.8 m [6'], identified by G.P. Whitley\", \"Hammerhead shark, 2.4 m [8'] \", '1.5 m to 2 m shark', \"2.7 m [9'] shark with black-tipped pectoral fins\", \"4' tp 5' shark\", \"2.7 m [9'] white shark\", '1.6 m shark', 'White shark, 4.5m', 'Said to involve a 1.5 m shark', \"4.5' shark\", \"2.1 m to 2.4 m  [7' to 8'] shark\", \"Grey nurse shark, 1.8 m [6'] \", '1.7 m shark', 'Raggedtooth shark, 2m', 'White shark, 6 m', \"1.5 m to 1.8 m [5' to 6'] \\x93spear-eye\\x94 shark \", 'Unidentified species', 'Tiger shark, 8 to 10 feet', \"1.8 m [6'] bull shark\", \"Reported to involve a White shark, 6 m to 7m [20' to 23'] \", 'Possibly a small hammerhead shark', \"Wobbegong shark, 1.2 m [4'] k\", 'Thought to involve an oceanic whitetip shark or a white shark', \"White shark, >6'\", \"Dusky shark, 12' \", 'Juvenile dusky shark', \"Oceanic whitetip shark, 7'\", 'No shark invovlement - it ws a publicity stunt', \"Blacktip or spinner shark, 4'\", \"3.7 m to 4.6 m [12' to 15'] shark\", \"9' shark\", '3.7m  to 4.2 m white shark', \"Tiger shark, 13'\", \"Blacktip shark, 2 m [6.75'] \", 'Blacktip shark pup', \"Tiger shark, 10'  \", '2.4 m shark', '4.2 m white shark', \"6' to 7' blacktip shark\", \"Reef shark, 5'\", 'Raggedtooth shark ', 'White shark (tooth fragments recovered)', 'White shark, 2.5m', \"1.2 m to 1.8 m [4' to 6'] shark observed in area\", \"Blacktip shark, 1.2 m to 1.8 m [4' to 6'] \", 'White shark, 15\\'3\", 2,333-lb ', \"Mako shark, 14' \", '4.9 m white shark', \"White shark, 2.4 m to 3 m [8' to 10'] \", 'Blacktip reef shark, 1m', 'Unknown', '2.13 m shark', 'Tiger shark, 2m to 3m ', \"10' to 12' shark\", \"Whaler shark, 2.7 m [9'], 350- to 450-lb  identified by G.P. Whitley\", \"White shark, 12', identity confirmed by tooth fragment, witness and photograph of captured shark \", 'Possibly a spinner shark', \"Blue pointer, 16'\", 'C. macrurus captured 48 hours after attack with tissue removed from man in its gut; species identified by G.P. Whitley,  reported as C. obscurus by  R. Steel', \"White shark, 4 to 5 m [13' to 16.5'] \", '\"small brown-colored shark\"', \"2.7 m [9'] bull shark, identified by Capt. W. Gray\", \"Carpet shark, 5' \", '200 to 300 kg shark', '\"A small shark\"', \"3.5' hammerhead shark\", \"White shark, 2.5 m [8.25'], an immature female, previously injured\", 'Shortfin mako shark', \"2' to 3' juvenile shark\", \"Tiger shark, 13' female\", \"Sandtiger shark, 4' to 5'\", 'Shark involvement unconfirmed', '3.6 m [11\\'9\"] white shark', \"18' shark\", \"Wobbegong shark, 4'\", \"17' white shark\", 'Shovelnose guitarfish, adult male ', '\"A pack of sharks\"', \"Tiger shark, 2.5 m [8.25'] \", \"Said to be a 7.6 m [25'] shark\", '80-lb sand shark', 'Believed to involve a 2.8 m [9\\'3\"] white shark', 'No shark invovlement ', '1.4 m [4\\'6\"] blacktip shark', \"Tiger shark, 5 m [16.5']\", \"Hammerhead shark. 6' to 7'\", \"Blue pointer, 12'\", \"White shark, 3 m [10']; identifed by Dr. W.I. Follett on tooth marks\", \"2' to 3.5' shark\", 'Mako shark, 1.3 m gaffed '}\n"
     ]
    }
   ],
   "source": [
    "#vamos ver como esta a coluna\n",
    "print(set(df['Species']))"
   ]
  },
  {
   "cell_type": "code",
   "execution_count": 67,
   "metadata": {
    "collapsed": true
   },
   "outputs": [
    {
     "data": {
      "text/plain": [
       "White shark                                           163\n",
       "Shark involvement prior to death was not confirmed    105\n",
       "Invalid                                               102\n",
       "Shark involvement not confirmed                        88\n",
       "Tiger shark                                            73\n",
       "Shark involvement prior to death unconfirmed           68\n",
       "Bull shark                                             52\n",
       "6' shark                                               40\n",
       "4' shark                                               40\n",
       "1.8 m [6'] shark                                       35\n",
       "Questionable incident                                  35\n",
       "Questionable                                           34\n",
       "1.5 m [5'] shark                                       32\n",
       "1.2 m [4'] shark                                       27\n",
       "5' shark                                               26\n",
       "3' shark                                               26\n",
       "2 m shark                                              25\n",
       "4' to 5' shark                                         24\n",
       "3 m [10'] shark                                        22\n",
       "Wobbegong shark                                        21\n",
       "Name: Species, dtype: int64"
      ]
     },
     "execution_count": 67,
     "metadata": {},
     "output_type": "execute_result"
    }
   ],
   "source": [
    "#verificando a qtde de ataques por atividade\n",
    "df['Species'].value_counts().head(20)"
   ]
  },
  {
   "cell_type": "code",
   "execution_count": 68,
   "metadata": {},
   "outputs": [],
   "source": [
    "#Nao acredito ser interessante mostrar a especie do ataque, pois poucas linhas informan de fato a specie\n",
    "#além de exigir grande limpeza e para nao exclui-la, vou apenas substituir os vazios por \"desconhecido\"\n",
    "df['Species'].fillna('Desconhecido', inplace=True)"
   ]
  },
  {
   "cell_type": "code",
   "execution_count": null,
   "metadata": {},
   "outputs": [],
   "source": [
    "#conforme visual acima, ainda temos \"oportunidade\" nas colunas "
   ]
  },
  {
   "cell_type": "code",
   "execution_count": 69,
   "metadata": {
    "collapsed": true
   },
   "outputs": [
    {
     "data": {
      "text/plain": [
       "<matplotlib.axes._subplots.AxesSubplot at 0x29f973cc550>"
      ]
     },
     "execution_count": 69,
     "metadata": {},
     "output_type": "execute_result"
    },
    {
     "data": {
      "image/png": "[encoded data removed]",
      "text/plain": [
       "<Figure size 432x288 with 2 Axes>"
      ]
     },
     "metadata": {
      "needs_background": "light"
     },
     "output_type": "display_data"
    }
   ],
   "source": [
    "#agora vamos ver como esta os dados após essas limpezas\n",
    "sms.heatmap(df[:].isna())"
   ]
  },
  {
   "cell_type": "code",
   "execution_count": null,
   "metadata": {},
   "outputs": [],
   "source": []
  },
  {
   "cell_type": "markdown",
   "metadata": {},
   "source": [
    "#### Dropando colunas \"INUTEIS\""
   ]
  },
  {
   "cell_type": "code",
   "execution_count": 70,
   "metadata": {},
   "outputs": [],
   "source": [
    "#agora vou dropar as colunas que \"entendo\" nao ser uteis\n",
    "df = df.drop([\"Case Number\",'Name','Time','pdf','href formula','Year',\n",
    "              \"Case Number.2\",\"Unnamed: 22\", \"Unnamed: 23\"], axis=1)"
   ]
  },
  {
   "cell_type": "code",
   "execution_count": 71,
   "metadata": {
    "collapsed": true
   },
   "outputs": [
    {
     "data": {
      "text/html": [
       "<div>\n",
       "<style scoped>\n",
       "    .dataframe tbody tr th:only-of-type {\n",
       "        vertical-align: middle;\n",
       "    }\n",
       "\n",
       "    .dataframe tbody tr th {\n",
       "        vertical-align: top;\n",
       "    }\n",
       "\n",
       "    .dataframe thead th {\n",
       "        text-align: right;\n",
       "    }\n",
       "</style>\n",
       "<table border=\"1\" class=\"dataframe\">\n",
       "  <thead>\n",
       "    <tr style=\"text-align: right;\">\n",
       "      <th></th>\n",
       "      <th>Date</th>\n",
       "      <th>Type</th>\n",
       "      <th>Country</th>\n",
       "      <th>Area</th>\n",
       "      <th>Location</th>\n",
       "      <th>Activity</th>\n",
       "      <th>Sex</th>\n",
       "      <th>Age</th>\n",
       "      <th>Injury</th>\n",
       "      <th>Fatal (Y/N/U)</th>\n",
       "      <th>Species</th>\n",
       "      <th>Investigator or Source</th>\n",
       "      <th>href</th>\n",
       "      <th>Case Number.1</th>\n",
       "      <th>original order</th>\n",
       "      <th>Month</th>\n",
       "      <th>Year1</th>\n",
       "    </tr>\n",
       "  </thead>\n",
       "  <tbody>\n",
       "    <tr>\n",
       "      <th>0</th>\n",
       "      <td>25-Jun-2018</td>\n",
       "      <td>Barco</td>\n",
       "      <td>usa</td>\n",
       "      <td>California</td>\n",
       "      <td>Oceanside, San Diego County</td>\n",
       "      <td>Paddling</td>\n",
       "      <td>F</td>\n",
       "      <td>57</td>\n",
       "      <td>No injury to occupant, outrigger canoe and pad...</td>\n",
       "      <td>Não</td>\n",
       "      <td>White shark</td>\n",
       "      <td>R. Collier, GSAF</td>\n",
       "      <td>http://sharkattackfile.net/spreadsheets/pdf_di...</td>\n",
       "      <td>2018.06.25</td>\n",
       "      <td>6303.0</td>\n",
       "      <td>Jun</td>\n",
       "      <td>2018.0</td>\n",
       "    </tr>\n",
       "    <tr>\n",
       "      <th>1</th>\n",
       "      <td>18-Jun-2018</td>\n",
       "      <td>Não Provocado</td>\n",
       "      <td>usa</td>\n",
       "      <td>Georgia</td>\n",
       "      <td>St. Simon Island, Glynn County</td>\n",
       "      <td>Standing</td>\n",
       "      <td>F</td>\n",
       "      <td>11</td>\n",
       "      <td>Minor injury to left thigh</td>\n",
       "      <td>Não</td>\n",
       "      <td>Desconhecido</td>\n",
       "      <td>K.McMurray, TrackingSharks.com</td>\n",
       "      <td>http://sharkattackfile.net/spreadsheets/pdf_di...</td>\n",
       "      <td>2018.06.18</td>\n",
       "      <td>6302.0</td>\n",
       "      <td>Jun</td>\n",
       "      <td>2018.0</td>\n",
       "    </tr>\n",
       "  </tbody>\n",
       "</table>\n",
       "</div>"
      ],
      "text/plain": [
       "          Date           Type Country        Area  \\\n",
       "0  25-Jun-2018          Barco     usa  California   \n",
       "1  18-Jun-2018  Não Provocado     usa     Georgia   \n",
       "\n",
       "                         Location  Activity Sex Age  \\\n",
       "0     Oceanside, San Diego County  Paddling   F  57   \n",
       "1  St. Simon Island, Glynn County  Standing   F  11   \n",
       "\n",
       "                                              Injury Fatal (Y/N/U)  \\\n",
       "0  No injury to occupant, outrigger canoe and pad...           Não   \n",
       "1                         Minor injury to left thigh           Não   \n",
       "\n",
       "        Species          Investigator or Source  \\\n",
       "0   White shark                R. Collier, GSAF   \n",
       "1  Desconhecido  K.McMurray, TrackingSharks.com   \n",
       "\n",
       "                                                href Case Number.1  \\\n",
       "0  http://sharkattackfile.net/spreadsheets/pdf_di...    2018.06.25   \n",
       "1  http://sharkattackfile.net/spreadsheets/pdf_di...    2018.06.18   \n",
       "\n",
       "   original order Month   Year1  \n",
       "0          6303.0   Jun  2018.0  \n",
       "1          6302.0   Jun  2018.0  "
      ]
     },
     "execution_count": 71,
     "metadata": {},
     "output_type": "execute_result"
    }
   ],
   "source": [
    "#verificando o dataset\n",
    "df.head(2)"
   ]
  },
  {
   "cell_type": "code",
   "execution_count": 72,
   "metadata": {},
   "outputs": [
    {
     "data": {
      "text/plain": [
       "(6300, 17)"
      ]
     },
     "execution_count": 72,
     "metadata": {},
     "output_type": "execute_result"
    }
   ],
   "source": [
    "#Verificando agora o tamanho do dataset, com as exclusão de linhas com valores nulos\n",
    "df.shape"
   ]
  },
  {
   "cell_type": "markdown",
   "metadata": {},
   "source": [
    "## Verificando novamente arquivo\n",
    "Fazendo um double check"
   ]
  },
  {
   "cell_type": "code",
   "execution_count": 73,
   "metadata": {
    "collapsed": true
   },
   "outputs": [
    {
     "name": "stdout",
     "output_type": "stream",
     "text": [
      "(6300, 17)\n",
      "<class 'pandas.core.frame.DataFrame'>\n",
      "RangeIndex: 6300 entries, 0 to 6299\n",
      "Data columns (total 17 columns):\n",
      " #   Column                  Non-Null Count  Dtype  \n",
      "---  ------                  --------------  -----  \n",
      " 0   Date                    6300 non-null   object \n",
      " 1   Type                    6300 non-null   object \n",
      " 2   Country                 6300 non-null   object \n",
      " 3   Area                    5846 non-null   object \n",
      " 4   Location                5760 non-null   object \n",
      " 5   Activity                6300 non-null   object \n",
      " 6   Sex                     6300 non-null   object \n",
      " 7   Age                     3470 non-null   object \n",
      " 8   Injury                  6272 non-null   object \n",
      " 9   Fatal (Y/N/U)           6300 non-null   object \n",
      " 10  Species                 6300 non-null   object \n",
      " 11  Investigator or Source  6283 non-null   object \n",
      " 12  href                    6300 non-null   object \n",
      " 13  Case Number.1           6300 non-null   object \n",
      " 14  original order          6300 non-null   float64\n",
      " 15  Month                   6300 non-null   object \n",
      " 16  Year1                   6300 non-null   float64\n",
      "dtypes: float64(2), object(15)\n",
      "memory usage: 836.8+ KB\n",
      "None\n"
     ]
    }
   ],
   "source": [
    "#verificando o tamanho do arquivo em linhas e colunas\n",
    "print(df.shape)\n",
    "\n",
    "#verificando as info\n",
    "print(df.info())"
   ]
  },
  {
   "cell_type": "markdown",
   "metadata": {},
   "source": [
    "## Finalizando a limpeza"
   ]
  },
  {
   "cell_type": "code",
   "execution_count": 74,
   "metadata": {
    "collapsed": true
   },
   "outputs": [
    {
     "data": {
      "text/html": [
       "<div>\n",
       "<style scoped>\n",
       "    .dataframe tbody tr th:only-of-type {\n",
       "        vertical-align: middle;\n",
       "    }\n",
       "\n",
       "    .dataframe tbody tr th {\n",
       "        vertical-align: top;\n",
       "    }\n",
       "\n",
       "    .dataframe thead th {\n",
       "        text-align: right;\n",
       "    }\n",
       "</style>\n",
       "<table border=\"1\" class=\"dataframe\">\n",
       "  <thead>\n",
       "    <tr style=\"text-align: right;\">\n",
       "      <th></th>\n",
       "      <th>Date</th>\n",
       "      <th>Type</th>\n",
       "      <th>Country</th>\n",
       "      <th>Area</th>\n",
       "      <th>Location</th>\n",
       "      <th>Activity</th>\n",
       "      <th>Sex</th>\n",
       "      <th>Age</th>\n",
       "      <th>Injury</th>\n",
       "      <th>Fatal (Y/N/U)</th>\n",
       "      <th>Species</th>\n",
       "      <th>Investigator or Source</th>\n",
       "      <th>href</th>\n",
       "      <th>Case Number.1</th>\n",
       "      <th>original order</th>\n",
       "      <th>Month</th>\n",
       "      <th>Year1</th>\n",
       "    </tr>\n",
       "  </thead>\n",
       "  <tbody>\n",
       "    <tr>\n",
       "      <th>0</th>\n",
       "      <td>25-Jun-2018</td>\n",
       "      <td>Barco</td>\n",
       "      <td>usa</td>\n",
       "      <td>California</td>\n",
       "      <td>Oceanside, San Diego County</td>\n",
       "      <td>Paddling</td>\n",
       "      <td>F</td>\n",
       "      <td>57</td>\n",
       "      <td>No injury to occupant, outrigger canoe and pad...</td>\n",
       "      <td>Não</td>\n",
       "      <td>White shark</td>\n",
       "      <td>R. Collier, GSAF</td>\n",
       "      <td>http://sharkattackfile.net/spreadsheets/pdf_di...</td>\n",
       "      <td>2018.06.25</td>\n",
       "      <td>6303.0</td>\n",
       "      <td>Jun</td>\n",
       "      <td>2018.0</td>\n",
       "    </tr>\n",
       "    <tr>\n",
       "      <th>1</th>\n",
       "      <td>18-Jun-2018</td>\n",
       "      <td>Não Provocado</td>\n",
       "      <td>usa</td>\n",
       "      <td>Georgia</td>\n",
       "      <td>St. Simon Island, Glynn County</td>\n",
       "      <td>Standing</td>\n",
       "      <td>F</td>\n",
       "      <td>11</td>\n",
       "      <td>Minor injury to left thigh</td>\n",
       "      <td>Não</td>\n",
       "      <td>Desconhecido</td>\n",
       "      <td>K.McMurray, TrackingSharks.com</td>\n",
       "      <td>http://sharkattackfile.net/spreadsheets/pdf_di...</td>\n",
       "      <td>2018.06.18</td>\n",
       "      <td>6302.0</td>\n",
       "      <td>Jun</td>\n",
       "      <td>2018.0</td>\n",
       "    </tr>\n",
       "    <tr>\n",
       "      <th>2</th>\n",
       "      <td>09-Jun-2018</td>\n",
       "      <td>Desconhecido</td>\n",
       "      <td>usa</td>\n",
       "      <td>Hawaii</td>\n",
       "      <td>Habush, Oahu</td>\n",
       "      <td>Surfing</td>\n",
       "      <td>M</td>\n",
       "      <td>48</td>\n",
       "      <td>Injury to left lower leg from surfboard skeg</td>\n",
       "      <td>Não</td>\n",
       "      <td>Desconhecido</td>\n",
       "      <td>K.McMurray, TrackingSharks.com</td>\n",
       "      <td>http://sharkattackfile.net/spreadsheets/pdf_di...</td>\n",
       "      <td>2018.06.09</td>\n",
       "      <td>6301.0</td>\n",
       "      <td>Jun</td>\n",
       "      <td>2018.0</td>\n",
       "    </tr>\n",
       "    <tr>\n",
       "      <th>3</th>\n",
       "      <td>08-Jun-2018</td>\n",
       "      <td>Não Provocado</td>\n",
       "      <td>australia</td>\n",
       "      <td>New South Wales</td>\n",
       "      <td>Arrawarra Headland</td>\n",
       "      <td>Surfing</td>\n",
       "      <td>M</td>\n",
       "      <td>NaN</td>\n",
       "      <td>Minor injury to lower leg</td>\n",
       "      <td>Não</td>\n",
       "      <td>2 m shark</td>\n",
       "      <td>B. Myatt, GSAF</td>\n",
       "      <td>http://sharkattackfile.net/spreadsheets/pdf_di...</td>\n",
       "      <td>2018.06.08</td>\n",
       "      <td>6300.0</td>\n",
       "      <td>Jun</td>\n",
       "      <td>2018.0</td>\n",
       "    </tr>\n",
       "  </tbody>\n",
       "</table>\n",
       "</div>"
      ],
      "text/plain": [
       "          Date           Type    Country             Area  \\\n",
       "0  25-Jun-2018          Barco        usa       California   \n",
       "1  18-Jun-2018  Não Provocado        usa          Georgia   \n",
       "2  09-Jun-2018   Desconhecido        usa           Hawaii   \n",
       "3  08-Jun-2018  Não Provocado  australia  New South Wales   \n",
       "\n",
       "                         Location  Activity Sex  Age  \\\n",
       "0     Oceanside, San Diego County  Paddling   F   57   \n",
       "1  St. Simon Island, Glynn County  Standing   F   11   \n",
       "2                    Habush, Oahu   Surfing   M   48   \n",
       "3              Arrawarra Headland   Surfing   M  NaN   \n",
       "\n",
       "                                              Injury Fatal (Y/N/U)  \\\n",
       "0  No injury to occupant, outrigger canoe and pad...           Não   \n",
       "1                         Minor injury to left thigh           Não   \n",
       "2       Injury to left lower leg from surfboard skeg           Não   \n",
       "3                          Minor injury to lower leg           Não   \n",
       "\n",
       "        Species          Investigator or Source  \\\n",
       "0   White shark                R. Collier, GSAF   \n",
       "1  Desconhecido  K.McMurray, TrackingSharks.com   \n",
       "2  Desconhecido  K.McMurray, TrackingSharks.com   \n",
       "3     2 m shark                  B. Myatt, GSAF   \n",
       "\n",
       "                                                href Case Number.1  \\\n",
       "0  http://sharkattackfile.net/spreadsheets/pdf_di...    2018.06.25   \n",
       "1  http://sharkattackfile.net/spreadsheets/pdf_di...    2018.06.18   \n",
       "2  http://sharkattackfile.net/spreadsheets/pdf_di...    2018.06.09   \n",
       "3  http://sharkattackfile.net/spreadsheets/pdf_di...    2018.06.08   \n",
       "\n",
       "   original order Month   Year1  \n",
       "0          6303.0   Jun  2018.0  \n",
       "1          6302.0   Jun  2018.0  \n",
       "2          6301.0   Jun  2018.0  \n",
       "3          6300.0   Jun  2018.0  "
      ]
     },
     "execution_count": 74,
     "metadata": {},
     "output_type": "execute_result"
    }
   ],
   "source": [
    "#agora estou chegando no final.. Vamos ver como esta o data set\n",
    "df.head(4)"
   ]
  },
  {
   "cell_type": "code",
   "execution_count": 75,
   "metadata": {
    "collapsed": true
   },
   "outputs": [
    {
     "data": {
      "text/plain": [
       "(6300, 17)"
      ]
     },
     "execution_count": 75,
     "metadata": {},
     "output_type": "execute_result"
    }
   ],
   "source": [
    "#verificando tamanho do dataset\n",
    "df.shape"
   ]
  },
  {
   "cell_type": "code",
   "execution_count": 76,
   "metadata": {},
   "outputs": [],
   "source": [
    "#Eliminando linhas inuteis que contenham valores nulos\n",
    "#df = df.dropna()"
   ]
  },
  {
   "cell_type": "markdown",
   "metadata": {},
   "source": [
    "### Vamos reordenar as colunas"
   ]
  },
  {
   "cell_type": "code",
   "execution_count": 77,
   "metadata": {},
   "outputs": [
    {
     "data": {
      "text/plain": [
       "Index(['Date', 'Type', 'Country', 'Area', 'Location', 'Activity', 'Sex', 'Age',\n",
       "       'Injury', 'Fatal (Y/N/U)', 'Species', 'Investigator or Source', 'href',\n",
       "       'Case Number.1', 'original order', 'Month', 'Year1'],\n",
       "      dtype='object')"
      ]
     },
     "execution_count": 77,
     "metadata": {},
     "output_type": "execute_result"
    }
   ],
   "source": [
    "#verificando como esta as colunas\n",
    "df.columns"
   ]
  },
  {
   "cell_type": "code",
   "execution_count": 78,
   "metadata": {},
   "outputs": [],
   "source": [
    "#preciso renomear a coluna Year\n",
    "df.rename(columns={'Year1': 'Year'}, inplace=True)\n",
    "df.columns = df.columns.str.strip()"
   ]
  },
  {
   "cell_type": "code",
   "execution_count": 79,
   "metadata": {},
   "outputs": [],
   "source": [
    "#Agora vamos reordenar as colunas na ordem que quisermos.\n",
    "df = df[['original order','Case Number.1','Date','Month','Year','Type','Country',\n",
    "         'Area','Location','Activity','Sex','Age','Fatal (Y/N/U)','Species','Injury',\n",
    "         'Investigator or Source','href']]"
   ]
  },
  {
   "cell_type": "code",
   "execution_count": 80,
   "metadata": {
    "collapsed": true
   },
   "outputs": [
    {
     "data": {
      "text/html": [
       "<div>\n",
       "<style scoped>\n",
       "    .dataframe tbody tr th:only-of-type {\n",
       "        vertical-align: middle;\n",
       "    }\n",
       "\n",
       "    .dataframe tbody tr th {\n",
       "        vertical-align: top;\n",
       "    }\n",
       "\n",
       "    .dataframe thead th {\n",
       "        text-align: right;\n",
       "    }\n",
       "</style>\n",
       "<table border=\"1\" class=\"dataframe\">\n",
       "  <thead>\n",
       "    <tr style=\"text-align: right;\">\n",
       "      <th></th>\n",
       "      <th>original order</th>\n",
       "      <th>Case Number.1</th>\n",
       "      <th>Date</th>\n",
       "      <th>Month</th>\n",
       "      <th>Year</th>\n",
       "      <th>Type</th>\n",
       "      <th>Country</th>\n",
       "      <th>Area</th>\n",
       "      <th>Location</th>\n",
       "      <th>Activity</th>\n",
       "      <th>Sex</th>\n",
       "      <th>Age</th>\n",
       "      <th>Fatal (Y/N/U)</th>\n",
       "      <th>Species</th>\n",
       "      <th>Injury</th>\n",
       "      <th>Investigator or Source</th>\n",
       "      <th>href</th>\n",
       "    </tr>\n",
       "  </thead>\n",
       "  <tbody>\n",
       "    <tr>\n",
       "      <th>0</th>\n",
       "      <td>6303.0</td>\n",
       "      <td>2018.06.25</td>\n",
       "      <td>25-Jun-2018</td>\n",
       "      <td>Jun</td>\n",
       "      <td>2018.0</td>\n",
       "      <td>Barco</td>\n",
       "      <td>usa</td>\n",
       "      <td>California</td>\n",
       "      <td>Oceanside, San Diego County</td>\n",
       "      <td>Paddling</td>\n",
       "      <td>F</td>\n",
       "      <td>57</td>\n",
       "      <td>Não</td>\n",
       "      <td>White shark</td>\n",
       "      <td>No injury to occupant, outrigger canoe and pad...</td>\n",
       "      <td>R. Collier, GSAF</td>\n",
       "      <td>http://sharkattackfile.net/spreadsheets/pdf_di...</td>\n",
       "    </tr>\n",
       "    <tr>\n",
       "      <th>1</th>\n",
       "      <td>6302.0</td>\n",
       "      <td>2018.06.18</td>\n",
       "      <td>18-Jun-2018</td>\n",
       "      <td>Jun</td>\n",
       "      <td>2018.0</td>\n",
       "      <td>Não Provocado</td>\n",
       "      <td>usa</td>\n",
       "      <td>Georgia</td>\n",
       "      <td>St. Simon Island, Glynn County</td>\n",
       "      <td>Standing</td>\n",
       "      <td>F</td>\n",
       "      <td>11</td>\n",
       "      <td>Não</td>\n",
       "      <td>Desconhecido</td>\n",
       "      <td>Minor injury to left thigh</td>\n",
       "      <td>K.McMurray, TrackingSharks.com</td>\n",
       "      <td>http://sharkattackfile.net/spreadsheets/pdf_di...</td>\n",
       "    </tr>\n",
       "  </tbody>\n",
       "</table>\n",
       "</div>"
      ],
      "text/plain": [
       "   original order Case Number.1         Date Month    Year           Type  \\\n",
       "0          6303.0    2018.06.25  25-Jun-2018   Jun  2018.0          Barco   \n",
       "1          6302.0    2018.06.18  18-Jun-2018   Jun  2018.0  Não Provocado   \n",
       "\n",
       "  Country        Area                        Location  Activity Sex Age  \\\n",
       "0     usa  California     Oceanside, San Diego County  Paddling   F  57   \n",
       "1     usa     Georgia  St. Simon Island, Glynn County  Standing   F  11   \n",
       "\n",
       "  Fatal (Y/N/U)       Species  \\\n",
       "0           Não   White shark   \n",
       "1           Não  Desconhecido   \n",
       "\n",
       "                                              Injury  \\\n",
       "0  No injury to occupant, outrigger canoe and pad...   \n",
       "1                         Minor injury to left thigh   \n",
       "\n",
       "           Investigator or Source  \\\n",
       "0                R. Collier, GSAF   \n",
       "1  K.McMurray, TrackingSharks.com   \n",
       "\n",
       "                                                href  \n",
       "0  http://sharkattackfile.net/spreadsheets/pdf_di...  \n",
       "1  http://sharkattackfile.net/spreadsheets/pdf_di...  "
      ]
     },
     "execution_count": 80,
     "metadata": {},
     "output_type": "execute_result"
    }
   ],
   "source": [
    "df.head(2)"
   ]
  },
  {
   "cell_type": "markdown",
   "metadata": {},
   "source": [
    "# Exportando o DataFrame para um arquivo novo"
   ]
  },
  {
   "cell_type": "code",
   "execution_count": 81,
   "metadata": {},
   "outputs": [],
   "source": [
    "df.to_csv('attacks_clean3_vs_final.csv', index=False)"
   ]
  },
  {
   "cell_type": "markdown",
   "metadata": {},
   "source": [
    "### Visualizando o novo DataSet"
   ]
  },
  {
   "cell_type": "code",
   "execution_count": 82,
   "metadata": {},
   "outputs": [],
   "source": [
    "df = pd.read_csv('attacks_clean3_vs_final.csv', encoding='UTF-8')"
   ]
  },
  {
   "cell_type": "code",
   "execution_count": 83,
   "metadata": {
    "collapsed": true
   },
   "outputs": [
    {
     "data": {
      "text/html": [
       "<div>\n",
       "<style scoped>\n",
       "    .dataframe tbody tr th:only-of-type {\n",
       "        vertical-align: middle;\n",
       "    }\n",
       "\n",
       "    .dataframe tbody tr th {\n",
       "        vertical-align: top;\n",
       "    }\n",
       "\n",
       "    .dataframe thead th {\n",
       "        text-align: right;\n",
       "    }\n",
       "</style>\n",
       "<table border=\"1\" class=\"dataframe\">\n",
       "  <thead>\n",
       "    <tr style=\"text-align: right;\">\n",
       "      <th></th>\n",
       "      <th>original order</th>\n",
       "      <th>Case Number.1</th>\n",
       "      <th>Date</th>\n",
       "      <th>Month</th>\n",
       "      <th>Year</th>\n",
       "      <th>Type</th>\n",
       "      <th>Country</th>\n",
       "      <th>Area</th>\n",
       "      <th>Location</th>\n",
       "      <th>Activity</th>\n",
       "      <th>Sex</th>\n",
       "      <th>Age</th>\n",
       "      <th>Fatal (Y/N/U)</th>\n",
       "      <th>Species</th>\n",
       "      <th>Injury</th>\n",
       "      <th>Investigator or Source</th>\n",
       "      <th>href</th>\n",
       "    </tr>\n",
       "  </thead>\n",
       "  <tbody>\n",
       "    <tr>\n",
       "      <th>0</th>\n",
       "      <td>6303.0</td>\n",
       "      <td>2018.06.25</td>\n",
       "      <td>25-Jun-2018</td>\n",
       "      <td>Jun</td>\n",
       "      <td>2018.0</td>\n",
       "      <td>Barco</td>\n",
       "      <td>usa</td>\n",
       "      <td>California</td>\n",
       "      <td>Oceanside, San Diego County</td>\n",
       "      <td>Paddling</td>\n",
       "      <td>F</td>\n",
       "      <td>57</td>\n",
       "      <td>Não</td>\n",
       "      <td>White shark</td>\n",
       "      <td>No injury to occupant, outrigger canoe and pad...</td>\n",
       "      <td>R. Collier, GSAF</td>\n",
       "      <td>http://sharkattackfile.net/spreadsheets/pdf_di...</td>\n",
       "    </tr>\n",
       "    <tr>\n",
       "      <th>1</th>\n",
       "      <td>6302.0</td>\n",
       "      <td>2018.06.18</td>\n",
       "      <td>18-Jun-2018</td>\n",
       "      <td>Jun</td>\n",
       "      <td>2018.0</td>\n",
       "      <td>Não Provocado</td>\n",
       "      <td>usa</td>\n",
       "      <td>Georgia</td>\n",
       "      <td>St. Simon Island, Glynn County</td>\n",
       "      <td>Standing</td>\n",
       "      <td>F</td>\n",
       "      <td>11</td>\n",
       "      <td>Não</td>\n",
       "      <td>Desconhecido</td>\n",
       "      <td>Minor injury to left thigh</td>\n",
       "      <td>K.McMurray, TrackingSharks.com</td>\n",
       "      <td>http://sharkattackfile.net/spreadsheets/pdf_di...</td>\n",
       "    </tr>\n",
       "  </tbody>\n",
       "</table>\n",
       "</div>"
      ],
      "text/plain": [
       "   original order Case Number.1         Date Month    Year           Type  \\\n",
       "0          6303.0    2018.06.25  25-Jun-2018   Jun  2018.0          Barco   \n",
       "1          6302.0    2018.06.18  18-Jun-2018   Jun  2018.0  Não Provocado   \n",
       "\n",
       "  Country        Area                        Location  Activity Sex Age  \\\n",
       "0     usa  California     Oceanside, San Diego County  Paddling   F  57   \n",
       "1     usa     Georgia  St. Simon Island, Glynn County  Standing   F  11   \n",
       "\n",
       "  Fatal (Y/N/U)       Species  \\\n",
       "0           Não   White shark   \n",
       "1           Não  Desconhecido   \n",
       "\n",
       "                                              Injury  \\\n",
       "0  No injury to occupant, outrigger canoe and pad...   \n",
       "1                         Minor injury to left thigh   \n",
       "\n",
       "           Investigator or Source  \\\n",
       "0                R. Collier, GSAF   \n",
       "1  K.McMurray, TrackingSharks.com   \n",
       "\n",
       "                                                href  \n",
       "0  http://sharkattackfile.net/spreadsheets/pdf_di...  \n",
       "1  http://sharkattackfile.net/spreadsheets/pdf_di...  "
      ]
     },
     "execution_count": 83,
     "metadata": {},
     "output_type": "execute_result"
    }
   ],
   "source": [
    "df.head(2)"
   ]
  },
  {
   "cell_type": "code",
   "execution_count": 84,
   "metadata": {},
   "outputs": [
    {
     "data": {
      "text/plain": [
       "(6300, 17)"
      ]
     },
     "execution_count": 84,
     "metadata": {},
     "output_type": "execute_result"
    }
   ],
   "source": [
    "#verificando o tamanho do arquivo em linhas e colunas\n",
    "df.shape"
   ]
  },
  {
   "cell_type": "code",
   "execution_count": 85,
   "metadata": {
    "collapsed": true
   },
   "outputs": [
    {
     "name": "stdout",
     "output_type": "stream",
     "text": [
      "<class 'pandas.core.frame.DataFrame'>\n",
      "RangeIndex: 6300 entries, 0 to 6299\n",
      "Data columns (total 17 columns):\n",
      " #   Column                  Non-Null Count  Dtype  \n",
      "---  ------                  --------------  -----  \n",
      " 0   original order          6300 non-null   float64\n",
      " 1   Case Number.1           6300 non-null   object \n",
      " 2   Date                    6300 non-null   object \n",
      " 3   Month                   5795 non-null   object \n",
      " 4   Year                    6300 non-null   float64\n",
      " 5   Type                    6300 non-null   object \n",
      " 6   Country                 6300 non-null   object \n",
      " 7   Area                    5846 non-null   object \n",
      " 8   Location                5760 non-null   object \n",
      " 9   Activity                6300 non-null   object \n",
      " 10  Sex                     6300 non-null   object \n",
      " 11  Age                     3470 non-null   object \n",
      " 12  Fatal (Y/N/U)           6300 non-null   object \n",
      " 13  Species                 6300 non-null   object \n",
      " 14  Injury                  6272 non-null   object \n",
      " 15  Investigator or Source  6283 non-null   object \n",
      " 16  href                    6300 non-null   object \n",
      "dtypes: float64(2), object(15)\n",
      "memory usage: 836.8+ KB\n"
     ]
    }
   ],
   "source": [
    "#verificando os tipo de dados das colunas\n",
    "df.info()"
   ]
  },
  {
   "cell_type": "markdown",
   "metadata": {},
   "source": [
    "# ELABORANDO PERGUNTA DE NEGOCIOS\n",
    "##### Vou buscar elaborar algumas perguntas com respostas a partir dessa limpeza de dados"
   ]
  },
  {
   "cell_type": "markdown",
   "metadata": {},
   "source": [
    "#### Importando as bibliotecas"
   ]
  },
  {
   "cell_type": "code",
   "execution_count": 86,
   "metadata": {},
   "outputs": [],
   "source": [
    "#vou importar a biblioteca para fazer os graficos\n",
    "import matplotlib.pyplot as plt\n",
    "%matplotlib inline"
   ]
  },
  {
   "cell_type": "code",
   "execution_count": 87,
   "metadata": {},
   "outputs": [],
   "source": [
    "#Criando a variavel de ataque por ano, dos que aconteceram após 1990\n",
    "df['Year_2'] = df[df['Year']>1990]['Year']\n",
    "Years_v = df['Year_2'].value_counts().sort_index()"
   ]
  },
  {
   "cell_type": "code",
   "execution_count": 88,
   "metadata": {},
   "outputs": [
    {
     "data": {
      "text/plain": [
       "<matplotlib.axes._subplots.AxesSubplot at 0x29f9d4b2b50>"
      ]
     },
     "execution_count": 88,
     "metadata": {},
     "output_type": "execute_result"
    },
    {
     "data": {
      "image/png": "[encoded data removed]",
      "text/plain": [
       "<Figure size 432x288 with 1 Axes>"
      ]
     },
     "metadata": {
      "needs_background": "light"
     },
     "output_type": "display_data"
    }
   ],
   "source": [
    "#Qual foi a quantidade de ataque por ano | após o ataque\n",
    "%matplotlib inline\n",
    "Years_v.plot(title=\"Ataque de tubarões por ano\")"
   ]
  },
  {
   "cell_type": "code",
   "execution_count": 89,
   "metadata": {},
   "outputs": [
    {
     "data": {
      "text/plain": [
       "<matplotlib.axes._subplots.AxesSubplot at 0x29f9d523880>"
      ]
     },
     "execution_count": 89,
     "metadata": {},
     "output_type": "execute_result"
    },
    {
     "data": {
      "image/png": "[encoded data removed]",
      "text/plain": [
       "<Figure size 432x288 with 1 Axes>"
      ]
     },
     "metadata": {
      "needs_background": "light"
     },
     "output_type": "display_data"
    }
   ],
   "source": [
    "#Qual foi a quantidade de ataques por paises, com valores acima de 50.\n",
    "df.groupby('Country')\\\n",
    "  .filter(lambda x: len(x) > 50)\\\n",
    "  .Country.value_counts()\\\n",
    "  .plot.barh(color='Blue')"
   ]
  },
  {
   "cell_type": "code",
   "execution_count": null,
   "metadata": {},
   "outputs": [],
   "source": [
    "#Qual foi a proporção de idade por ataque\n",
    "\n",
    "'''df['Age_Limpa'] = df['Age'].str.extract(\"([0-9]+)\", expand=False).dropna().astype(int)\n",
    "age_v = df['Age_Limpa'].value_counts().sort_index()\n",
    "age_v.plot(style=\".\",title = \"Idade das vitimas\")'''"
   ]
  },
  {
   "cell_type": "code",
   "execution_count": 90,
   "metadata": {},
   "outputs": [
    {
     "data": {
      "text/plain": [
       "<matplotlib.axes._subplots.AxesSubplot at 0x29f9d55fa90>"
      ]
     },
     "execution_count": 90,
     "metadata": {},
     "output_type": "execute_result"
    },
    {
     "data": {
      "image/png": "[encoded data removed]",
      "text/plain": [
       "<Figure size 432x288 with 1 Axes>"
      ]
     },
     "metadata": {},
     "output_type": "display_data"
    }
   ],
   "source": [
    "#Qual foi a proporção de genero por ataques?\n",
    "df[df['Sex'].isin(['M','F','Desconhecido'])]['Sex']\\\n",
    "        .value_counts()\\\n",
    "        .plot(kind='pie',title= \"Vitimas por Genero\",table= True)\n",
    "\n",
    "#comentario abaixo para poder mudar a cor, basta colocar o comentario da cor, depois do titulo, antes do table.\n",
    "#colors= ['yellow','black']\n",
    "\n",
    "#Colocar o comentario da minha teoria ."
   ]
  },
  {
   "cell_type": "code",
   "execution_count": 91,
   "metadata": {},
   "outputs": [
    {
     "data": {
      "text/plain": [
       "<matplotlib.axes._subplots.AxesSubplot at 0x29f9d5f2ca0>"
      ]
     },
     "execution_count": 91,
     "metadata": {},
     "output_type": "execute_result"
    },
    {
     "data": {
      "image/png": "[encoded data removed]",
      "text/plain": [
       "<Figure size 432x288 with 2 Axes>"
      ]
     },
     "metadata": {
      "needs_background": "light"
     },
     "output_type": "display_data"
    }
   ],
   "source": [
    "#agora vamos ver como esta os dados após essas limpezas\n",
    "sms.heatmap(df[:].isna())"
   ]
  },
  {
   "cell_type": "markdown",
   "metadata": {},
   "source": [
    "# Essa foi dificil hein kk!! Gastei mais de 3 dias pra conseguir chegar nessa versão :-( , e ainda nem sei se conseguir \"limpar\" bem o arquivo.\n",
    "Aguardo feedback!"
   ]
  }
 ],
 "metadata": {
  "kernelspec": {
   "display_name": "Python 3",
   "language": "python",
   "name": "python3"
  },
  "language_info": {
   "codemirror_mode": {
    "name": "ipython",
    "version": 3
   },
   "file_extension": ".py",
   "mimetype": "text/x-python",
   "name": "python",
   "nbconvert_exporter": "python",
   "pygments_lexer": "ipython3",
   "version": "3.8.3"
  }
 },
 "nbformat": 4,
 "nbformat_minor": 4
}
